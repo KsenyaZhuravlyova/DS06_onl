{
  "nbformat": 4,
  "nbformat_minor": 0,
  "metadata": {
    "colab": {
      "provenance": []
    },
    "kernelspec": {
      "name": "python3",
      "display_name": "Python 3"
    },
    "language_info": {
      "name": "python"
    }
  },
  "cells": [
    {
      "cell_type": "markdown",
      "source": [
        "Подготовить данные для этапа моделирования (обучения)\n",
        "    \n",
        "1. [x] Анализ данных, необходимые корректировки.\n",
        "При обработке пропусков/выбросов/скалировании тестовую и тренировачную выборку обрабатывать отдельно.\n",
        "2. [x] Разделите данные на тренировачную и тестовую выборку.\n",
        "3. [x] Обработать пропуски.\n",
        "4. [x] Оценить выбросы.\n",
        "5. [x] Корреляция.\n",
        "6. [x] Тест на нормальность распределения.\n",
        "7. [-] Масштабировать и стандартизировать данные."
      ],
      "metadata": {
        "id": "i1qz_f6G-erv"
      }
    },
    {
      "cell_type": "code",
      "execution_count": 1,
      "metadata": {
        "id": "mqcM4Ns341GU"
      },
      "outputs": [],
      "source": [
        "import pandas as pd\n",
        "import numpy as np\n",
        "from sklearn.model_selection import train_test_split\n",
        "import seaborn as sns\n",
        "import matplotlib.pyplot as plt"
      ]
    },
    {
      "cell_type": "code",
      "source": [
        "from google.colab import files"
      ],
      "metadata": {
        "id": "7LCkZRad8I2s"
      },
      "execution_count": 2,
      "outputs": []
    },
    {
      "cell_type": "code",
      "source": [
        "uploaded = files.upload()\n",
        "#загрузка файла с компьютера\n"
      ],
      "metadata": {
        "colab": {
          "base_uri": "https://localhost:8080/",
          "height": 74
        },
        "id": "c_mqvnhk5dZ_",
        "outputId": "57c1c7d6-19e1-4073-9389-0157a2ad1078"
      },
      "execution_count": 4,
      "outputs": [
        {
          "output_type": "display_data",
          "data": {
            "text/plain": [
              "<IPython.core.display.HTML object>"
            ],
            "text/html": [
              "\n",
              "     <input type=\"file\" id=\"files-c41b909a-393a-494b-9634-2f05bfcdf77a\" name=\"files[]\" multiple disabled\n",
              "        style=\"border:none\" />\n",
              "     <output id=\"result-c41b909a-393a-494b-9634-2f05bfcdf77a\">\n",
              "      Upload widget is only available when the cell has been executed in the\n",
              "      current browser session. Please rerun this cell to enable.\n",
              "      </output>\n",
              "      <script>// Copyright 2017 Google LLC\n",
              "//\n",
              "// Licensed under the Apache License, Version 2.0 (the \"License\");\n",
              "// you may not use this file except in compliance with the License.\n",
              "// You may obtain a copy of the License at\n",
              "//\n",
              "//      http://www.apache.org/licenses/LICENSE-2.0\n",
              "//\n",
              "// Unless required by applicable law or agreed to in writing, software\n",
              "// distributed under the License is distributed on an \"AS IS\" BASIS,\n",
              "// WITHOUT WARRANTIES OR CONDITIONS OF ANY KIND, either express or implied.\n",
              "// See the License for the specific language governing permissions and\n",
              "// limitations under the License.\n",
              "\n",
              "/**\n",
              " * @fileoverview Helpers for google.colab Python module.\n",
              " */\n",
              "(function(scope) {\n",
              "function span(text, styleAttributes = {}) {\n",
              "  const element = document.createElement('span');\n",
              "  element.textContent = text;\n",
              "  for (const key of Object.keys(styleAttributes)) {\n",
              "    element.style[key] = styleAttributes[key];\n",
              "  }\n",
              "  return element;\n",
              "}\n",
              "\n",
              "// Max number of bytes which will be uploaded at a time.\n",
              "const MAX_PAYLOAD_SIZE = 100 * 1024;\n",
              "\n",
              "function _uploadFiles(inputId, outputId) {\n",
              "  const steps = uploadFilesStep(inputId, outputId);\n",
              "  const outputElement = document.getElementById(outputId);\n",
              "  // Cache steps on the outputElement to make it available for the next call\n",
              "  // to uploadFilesContinue from Python.\n",
              "  outputElement.steps = steps;\n",
              "\n",
              "  return _uploadFilesContinue(outputId);\n",
              "}\n",
              "\n",
              "// This is roughly an async generator (not supported in the browser yet),\n",
              "// where there are multiple asynchronous steps and the Python side is going\n",
              "// to poll for completion of each step.\n",
              "// This uses a Promise to block the python side on completion of each step,\n",
              "// then passes the result of the previous step as the input to the next step.\n",
              "function _uploadFilesContinue(outputId) {\n",
              "  const outputElement = document.getElementById(outputId);\n",
              "  const steps = outputElement.steps;\n",
              "\n",
              "  const next = steps.next(outputElement.lastPromiseValue);\n",
              "  return Promise.resolve(next.value.promise).then((value) => {\n",
              "    // Cache the last promise value to make it available to the next\n",
              "    // step of the generator.\n",
              "    outputElement.lastPromiseValue = value;\n",
              "    return next.value.response;\n",
              "  });\n",
              "}\n",
              "\n",
              "/**\n",
              " * Generator function which is called between each async step of the upload\n",
              " * process.\n",
              " * @param {string} inputId Element ID of the input file picker element.\n",
              " * @param {string} outputId Element ID of the output display.\n",
              " * @return {!Iterable<!Object>} Iterable of next steps.\n",
              " */\n",
              "function* uploadFilesStep(inputId, outputId) {\n",
              "  const inputElement = document.getElementById(inputId);\n",
              "  inputElement.disabled = false;\n",
              "\n",
              "  const outputElement = document.getElementById(outputId);\n",
              "  outputElement.innerHTML = '';\n",
              "\n",
              "  const pickedPromise = new Promise((resolve) => {\n",
              "    inputElement.addEventListener('change', (e) => {\n",
              "      resolve(e.target.files);\n",
              "    });\n",
              "  });\n",
              "\n",
              "  const cancel = document.createElement('button');\n",
              "  inputElement.parentElement.appendChild(cancel);\n",
              "  cancel.textContent = 'Cancel upload';\n",
              "  const cancelPromise = new Promise((resolve) => {\n",
              "    cancel.onclick = () => {\n",
              "      resolve(null);\n",
              "    };\n",
              "  });\n",
              "\n",
              "  // Wait for the user to pick the files.\n",
              "  const files = yield {\n",
              "    promise: Promise.race([pickedPromise, cancelPromise]),\n",
              "    response: {\n",
              "      action: 'starting',\n",
              "    }\n",
              "  };\n",
              "\n",
              "  cancel.remove();\n",
              "\n",
              "  // Disable the input element since further picks are not allowed.\n",
              "  inputElement.disabled = true;\n",
              "\n",
              "  if (!files) {\n",
              "    return {\n",
              "      response: {\n",
              "        action: 'complete',\n",
              "      }\n",
              "    };\n",
              "  }\n",
              "\n",
              "  for (const file of files) {\n",
              "    const li = document.createElement('li');\n",
              "    li.append(span(file.name, {fontWeight: 'bold'}));\n",
              "    li.append(span(\n",
              "        `(${file.type || 'n/a'}) - ${file.size} bytes, ` +\n",
              "        `last modified: ${\n",
              "            file.lastModifiedDate ? file.lastModifiedDate.toLocaleDateString() :\n",
              "                                    'n/a'} - `));\n",
              "    const percent = span('0% done');\n",
              "    li.appendChild(percent);\n",
              "\n",
              "    outputElement.appendChild(li);\n",
              "\n",
              "    const fileDataPromise = new Promise((resolve) => {\n",
              "      const reader = new FileReader();\n",
              "      reader.onload = (e) => {\n",
              "        resolve(e.target.result);\n",
              "      };\n",
              "      reader.readAsArrayBuffer(file);\n",
              "    });\n",
              "    // Wait for the data to be ready.\n",
              "    let fileData = yield {\n",
              "      promise: fileDataPromise,\n",
              "      response: {\n",
              "        action: 'continue',\n",
              "      }\n",
              "    };\n",
              "\n",
              "    // Use a chunked sending to avoid message size limits. See b/62115660.\n",
              "    let position = 0;\n",
              "    do {\n",
              "      const length = Math.min(fileData.byteLength - position, MAX_PAYLOAD_SIZE);\n",
              "      const chunk = new Uint8Array(fileData, position, length);\n",
              "      position += length;\n",
              "\n",
              "      const base64 = btoa(String.fromCharCode.apply(null, chunk));\n",
              "      yield {\n",
              "        response: {\n",
              "          action: 'append',\n",
              "          file: file.name,\n",
              "          data: base64,\n",
              "        },\n",
              "      };\n",
              "\n",
              "      let percentDone = fileData.byteLength === 0 ?\n",
              "          100 :\n",
              "          Math.round((position / fileData.byteLength) * 100);\n",
              "      percent.textContent = `${percentDone}% done`;\n",
              "\n",
              "    } while (position < fileData.byteLength);\n",
              "  }\n",
              "\n",
              "  // All done.\n",
              "  yield {\n",
              "    response: {\n",
              "      action: 'complete',\n",
              "    }\n",
              "  };\n",
              "}\n",
              "\n",
              "scope.google = scope.google || {};\n",
              "scope.google.colab = scope.google.colab || {};\n",
              "scope.google.colab._files = {\n",
              "  _uploadFiles,\n",
              "  _uploadFilesContinue,\n",
              "};\n",
              "})(self);\n",
              "</script> "
            ]
          },
          "metadata": {}
        },
        {
          "output_type": "stream",
          "name": "stdout",
          "text": [
            "Saving credit_train.csv to credit_train.csv\n"
          ]
        }
      ]
    },
    {
      "cell_type": "code",
      "source": [
        "# Загрузка файла в DataFrame\n",
        "df=pd.read_csv('credit_train.csv', encoding='cp1251', sep=';')"
      ],
      "metadata": {
        "id": "9M_Z6_9L9PX1"
      },
      "execution_count": 25,
      "outputs": []
    },
    {
      "cell_type": "markdown",
      "source": [
        "1. Aнализ данных, необходимые корректировки."
      ],
      "metadata": {
        "id": "-pPGiRgB-os-"
      }
    },
    {
      "cell_type": "code",
      "source": [
        "df"
      ],
      "metadata": {
        "colab": {
          "base_uri": "https://localhost:8080/",
          "height": 600
        },
        "id": "rqdm5Hff9dnL",
        "outputId": "86d17b07-d262-4d7b-8654-e608e2a25cab"
      },
      "execution_count": 6,
      "outputs": [
        {
          "output_type": "execute_result",
          "data": {
            "text/plain": [
              "        client_id gender   age marital_status job_position credit_sum  \\\n",
              "0               1      M   NaN            NaN          UMN   59998,00   \n",
              "1               2      F   NaN            MAR          UMN   10889,00   \n",
              "2               3      M  32.0            MAR          SPC   10728,00   \n",
              "3               4      F  27.0            NaN          SPC   12009,09   \n",
              "4               5      M  45.0            NaN          SPC        NaN   \n",
              "...           ...    ...   ...            ...          ...        ...   \n",
              "170741     170742      F  27.0            UNM          SPC   64867,00   \n",
              "170742     170743      F  24.0            MAR          SPC   17640,00   \n",
              "170743     170744      F  31.0            UNM          SPC   27556,47   \n",
              "170744     170745      F  53.0            DIV          PNA    6189,00   \n",
              "170745     170746      M  49.0            MAR          SPC   12787,00   \n",
              "\n",
              "        credit_month  tariff_id score_shk education         living_region  \\\n",
              "0                 10       1.60       NaN       GRD    КРАСНОДАРСКИЙ КРАЙ   \n",
              "1                  6       1.10       NaN       NaN                МОСКВА   \n",
              "2                 12       1.10       NaN       NaN       ОБЛ САРАТОВСКАЯ   \n",
              "3                 12       1.10       NaN       NaN     ОБЛ ВОЛГОГРАДСКАЯ   \n",
              "4                 10       1.10  0,421385       SCH   ЧЕЛЯБИНСКАЯ ОБЛАСТЬ   \n",
              "...              ...        ...       ...       ...                   ...   \n",
              "170741            12       1.10  0,535257       GRD  РЕСПУБЛИКА ТАТАРСТАН   \n",
              "170742             6       1.60  0,573287       SCH     САНКТ-ПЕТЕРБУРГ Г   \n",
              "170743            10       1.32  0,416098       GRD       ПРИМОРСКИЙ КРАЙ   \n",
              "170744            12       1.10  0,482595       SCH        ПЕНЗЕНСКАЯ ОБЛ   \n",
              "170745            10       1.10  0,316087       GRD        ОБЛ МОСКОВСКАЯ   \n",
              "\n",
              "        monthly_income  credit_count  overdue_credit_count  open_account_flg  \n",
              "0              30000.0           1.0                   1.0                 0  \n",
              "1                  NaN           2.0                   0.0                 0  \n",
              "2                  NaN           5.0                   0.0                 0  \n",
              "3                  NaN           2.0                   0.0                 0  \n",
              "4                  NaN           1.0                   0.0                 0  \n",
              "...                ...           ...                   ...               ...  \n",
              "170741         40000.0           6.0                   0.0                 0  \n",
              "170742         30000.0           1.0                   0.0                 0  \n",
              "170743         40000.0           1.0                   0.0                 0  \n",
              "170744         31000.0           2.0                   0.0                 0  \n",
              "170745         40000.0           3.0                   0.0                 0  \n",
              "\n",
              "[170746 rows x 15 columns]"
            ],
            "text/html": [
              "\n",
              "  <div id=\"df-5f55754b-37ef-40af-9876-4891840d2d91\" class=\"colab-df-container\">\n",
              "    <div>\n",
              "<style scoped>\n",
              "    .dataframe tbody tr th:only-of-type {\n",
              "        vertical-align: middle;\n",
              "    }\n",
              "\n",
              "    .dataframe tbody tr th {\n",
              "        vertical-align: top;\n",
              "    }\n",
              "\n",
              "    .dataframe thead th {\n",
              "        text-align: right;\n",
              "    }\n",
              "</style>\n",
              "<table border=\"1\" class=\"dataframe\">\n",
              "  <thead>\n",
              "    <tr style=\"text-align: right;\">\n",
              "      <th></th>\n",
              "      <th>client_id</th>\n",
              "      <th>gender</th>\n",
              "      <th>age</th>\n",
              "      <th>marital_status</th>\n",
              "      <th>job_position</th>\n",
              "      <th>credit_sum</th>\n",
              "      <th>credit_month</th>\n",
              "      <th>tariff_id</th>\n",
              "      <th>score_shk</th>\n",
              "      <th>education</th>\n",
              "      <th>living_region</th>\n",
              "      <th>monthly_income</th>\n",
              "      <th>credit_count</th>\n",
              "      <th>overdue_credit_count</th>\n",
              "      <th>open_account_flg</th>\n",
              "    </tr>\n",
              "  </thead>\n",
              "  <tbody>\n",
              "    <tr>\n",
              "      <th>0</th>\n",
              "      <td>1</td>\n",
              "      <td>M</td>\n",
              "      <td>NaN</td>\n",
              "      <td>NaN</td>\n",
              "      <td>UMN</td>\n",
              "      <td>59998,00</td>\n",
              "      <td>10</td>\n",
              "      <td>1.60</td>\n",
              "      <td>NaN</td>\n",
              "      <td>GRD</td>\n",
              "      <td>КРАСНОДАРСКИЙ КРАЙ</td>\n",
              "      <td>30000.0</td>\n",
              "      <td>1.0</td>\n",
              "      <td>1.0</td>\n",
              "      <td>0</td>\n",
              "    </tr>\n",
              "    <tr>\n",
              "      <th>1</th>\n",
              "      <td>2</td>\n",
              "      <td>F</td>\n",
              "      <td>NaN</td>\n",
              "      <td>MAR</td>\n",
              "      <td>UMN</td>\n",
              "      <td>10889,00</td>\n",
              "      <td>6</td>\n",
              "      <td>1.10</td>\n",
              "      <td>NaN</td>\n",
              "      <td>NaN</td>\n",
              "      <td>МОСКВА</td>\n",
              "      <td>NaN</td>\n",
              "      <td>2.0</td>\n",
              "      <td>0.0</td>\n",
              "      <td>0</td>\n",
              "    </tr>\n",
              "    <tr>\n",
              "      <th>2</th>\n",
              "      <td>3</td>\n",
              "      <td>M</td>\n",
              "      <td>32.0</td>\n",
              "      <td>MAR</td>\n",
              "      <td>SPC</td>\n",
              "      <td>10728,00</td>\n",
              "      <td>12</td>\n",
              "      <td>1.10</td>\n",
              "      <td>NaN</td>\n",
              "      <td>NaN</td>\n",
              "      <td>ОБЛ САРАТОВСКАЯ</td>\n",
              "      <td>NaN</td>\n",
              "      <td>5.0</td>\n",
              "      <td>0.0</td>\n",
              "      <td>0</td>\n",
              "    </tr>\n",
              "    <tr>\n",
              "      <th>3</th>\n",
              "      <td>4</td>\n",
              "      <td>F</td>\n",
              "      <td>27.0</td>\n",
              "      <td>NaN</td>\n",
              "      <td>SPC</td>\n",
              "      <td>12009,09</td>\n",
              "      <td>12</td>\n",
              "      <td>1.10</td>\n",
              "      <td>NaN</td>\n",
              "      <td>NaN</td>\n",
              "      <td>ОБЛ ВОЛГОГРАДСКАЯ</td>\n",
              "      <td>NaN</td>\n",
              "      <td>2.0</td>\n",
              "      <td>0.0</td>\n",
              "      <td>0</td>\n",
              "    </tr>\n",
              "    <tr>\n",
              "      <th>4</th>\n",
              "      <td>5</td>\n",
              "      <td>M</td>\n",
              "      <td>45.0</td>\n",
              "      <td>NaN</td>\n",
              "      <td>SPC</td>\n",
              "      <td>NaN</td>\n",
              "      <td>10</td>\n",
              "      <td>1.10</td>\n",
              "      <td>0,421385</td>\n",
              "      <td>SCH</td>\n",
              "      <td>ЧЕЛЯБИНСКАЯ ОБЛАСТЬ</td>\n",
              "      <td>NaN</td>\n",
              "      <td>1.0</td>\n",
              "      <td>0.0</td>\n",
              "      <td>0</td>\n",
              "    </tr>\n",
              "    <tr>\n",
              "      <th>...</th>\n",
              "      <td>...</td>\n",
              "      <td>...</td>\n",
              "      <td>...</td>\n",
              "      <td>...</td>\n",
              "      <td>...</td>\n",
              "      <td>...</td>\n",
              "      <td>...</td>\n",
              "      <td>...</td>\n",
              "      <td>...</td>\n",
              "      <td>...</td>\n",
              "      <td>...</td>\n",
              "      <td>...</td>\n",
              "      <td>...</td>\n",
              "      <td>...</td>\n",
              "      <td>...</td>\n",
              "    </tr>\n",
              "    <tr>\n",
              "      <th>170741</th>\n",
              "      <td>170742</td>\n",
              "      <td>F</td>\n",
              "      <td>27.0</td>\n",
              "      <td>UNM</td>\n",
              "      <td>SPC</td>\n",
              "      <td>64867,00</td>\n",
              "      <td>12</td>\n",
              "      <td>1.10</td>\n",
              "      <td>0,535257</td>\n",
              "      <td>GRD</td>\n",
              "      <td>РЕСПУБЛИКА ТАТАРСТАН</td>\n",
              "      <td>40000.0</td>\n",
              "      <td>6.0</td>\n",
              "      <td>0.0</td>\n",
              "      <td>0</td>\n",
              "    </tr>\n",
              "    <tr>\n",
              "      <th>170742</th>\n",
              "      <td>170743</td>\n",
              "      <td>F</td>\n",
              "      <td>24.0</td>\n",
              "      <td>MAR</td>\n",
              "      <td>SPC</td>\n",
              "      <td>17640,00</td>\n",
              "      <td>6</td>\n",
              "      <td>1.60</td>\n",
              "      <td>0,573287</td>\n",
              "      <td>SCH</td>\n",
              "      <td>САНКТ-ПЕТЕРБУРГ Г</td>\n",
              "      <td>30000.0</td>\n",
              "      <td>1.0</td>\n",
              "      <td>0.0</td>\n",
              "      <td>0</td>\n",
              "    </tr>\n",
              "    <tr>\n",
              "      <th>170743</th>\n",
              "      <td>170744</td>\n",
              "      <td>F</td>\n",
              "      <td>31.0</td>\n",
              "      <td>UNM</td>\n",
              "      <td>SPC</td>\n",
              "      <td>27556,47</td>\n",
              "      <td>10</td>\n",
              "      <td>1.32</td>\n",
              "      <td>0,416098</td>\n",
              "      <td>GRD</td>\n",
              "      <td>ПРИМОРСКИЙ КРАЙ</td>\n",
              "      <td>40000.0</td>\n",
              "      <td>1.0</td>\n",
              "      <td>0.0</td>\n",
              "      <td>0</td>\n",
              "    </tr>\n",
              "    <tr>\n",
              "      <th>170744</th>\n",
              "      <td>170745</td>\n",
              "      <td>F</td>\n",
              "      <td>53.0</td>\n",
              "      <td>DIV</td>\n",
              "      <td>PNA</td>\n",
              "      <td>6189,00</td>\n",
              "      <td>12</td>\n",
              "      <td>1.10</td>\n",
              "      <td>0,482595</td>\n",
              "      <td>SCH</td>\n",
              "      <td>ПЕНЗЕНСКАЯ ОБЛ</td>\n",
              "      <td>31000.0</td>\n",
              "      <td>2.0</td>\n",
              "      <td>0.0</td>\n",
              "      <td>0</td>\n",
              "    </tr>\n",
              "    <tr>\n",
              "      <th>170745</th>\n",
              "      <td>170746</td>\n",
              "      <td>M</td>\n",
              "      <td>49.0</td>\n",
              "      <td>MAR</td>\n",
              "      <td>SPC</td>\n",
              "      <td>12787,00</td>\n",
              "      <td>10</td>\n",
              "      <td>1.10</td>\n",
              "      <td>0,316087</td>\n",
              "      <td>GRD</td>\n",
              "      <td>ОБЛ МОСКОВСКАЯ</td>\n",
              "      <td>40000.0</td>\n",
              "      <td>3.0</td>\n",
              "      <td>0.0</td>\n",
              "      <td>0</td>\n",
              "    </tr>\n",
              "  </tbody>\n",
              "</table>\n",
              "<p>170746 rows × 15 columns</p>\n",
              "</div>\n",
              "    <div class=\"colab-df-buttons\">\n",
              "\n",
              "  <div class=\"colab-df-container\">\n",
              "    <button class=\"colab-df-convert\" onclick=\"convertToInteractive('df-5f55754b-37ef-40af-9876-4891840d2d91')\"\n",
              "            title=\"Convert this dataframe to an interactive table.\"\n",
              "            style=\"display:none;\">\n",
              "\n",
              "  <svg xmlns=\"http://www.w3.org/2000/svg\" height=\"24px\" viewBox=\"0 -960 960 960\">\n",
              "    <path d=\"M120-120v-720h720v720H120Zm60-500h600v-160H180v160Zm220 220h160v-160H400v160Zm0 220h160v-160H400v160ZM180-400h160v-160H180v160Zm440 0h160v-160H620v160ZM180-180h160v-160H180v160Zm440 0h160v-160H620v160Z\"/>\n",
              "  </svg>\n",
              "    </button>\n",
              "\n",
              "  <style>\n",
              "    .colab-df-container {\n",
              "      display:flex;\n",
              "      gap: 12px;\n",
              "    }\n",
              "\n",
              "    .colab-df-convert {\n",
              "      background-color: #E8F0FE;\n",
              "      border: none;\n",
              "      border-radius: 50%;\n",
              "      cursor: pointer;\n",
              "      display: none;\n",
              "      fill: #1967D2;\n",
              "      height: 32px;\n",
              "      padding: 0 0 0 0;\n",
              "      width: 32px;\n",
              "    }\n",
              "\n",
              "    .colab-df-convert:hover {\n",
              "      background-color: #E2EBFA;\n",
              "      box-shadow: 0px 1px 2px rgba(60, 64, 67, 0.3), 0px 1px 3px 1px rgba(60, 64, 67, 0.15);\n",
              "      fill: #174EA6;\n",
              "    }\n",
              "\n",
              "    .colab-df-buttons div {\n",
              "      margin-bottom: 4px;\n",
              "    }\n",
              "\n",
              "    [theme=dark] .colab-df-convert {\n",
              "      background-color: #3B4455;\n",
              "      fill: #D2E3FC;\n",
              "    }\n",
              "\n",
              "    [theme=dark] .colab-df-convert:hover {\n",
              "      background-color: #434B5C;\n",
              "      box-shadow: 0px 1px 3px 1px rgba(0, 0, 0, 0.15);\n",
              "      filter: drop-shadow(0px 1px 2px rgba(0, 0, 0, 0.3));\n",
              "      fill: #FFFFFF;\n",
              "    }\n",
              "  </style>\n",
              "\n",
              "    <script>\n",
              "      const buttonEl =\n",
              "        document.querySelector('#df-5f55754b-37ef-40af-9876-4891840d2d91 button.colab-df-convert');\n",
              "      buttonEl.style.display =\n",
              "        google.colab.kernel.accessAllowed ? 'block' : 'none';\n",
              "\n",
              "      async function convertToInteractive(key) {\n",
              "        const element = document.querySelector('#df-5f55754b-37ef-40af-9876-4891840d2d91');\n",
              "        const dataTable =\n",
              "          await google.colab.kernel.invokeFunction('convertToInteractive',\n",
              "                                                    [key], {});\n",
              "        if (!dataTable) return;\n",
              "\n",
              "        const docLinkHtml = 'Like what you see? Visit the ' +\n",
              "          '<a target=\"_blank\" href=https://colab.research.google.com/notebooks/data_table.ipynb>data table notebook</a>'\n",
              "          + ' to learn more about interactive tables.';\n",
              "        element.innerHTML = '';\n",
              "        dataTable['output_type'] = 'display_data';\n",
              "        await google.colab.output.renderOutput(dataTable, element);\n",
              "        const docLink = document.createElement('div');\n",
              "        docLink.innerHTML = docLinkHtml;\n",
              "        element.appendChild(docLink);\n",
              "      }\n",
              "    </script>\n",
              "  </div>\n",
              "\n",
              "\n",
              "<div id=\"df-3852a184-944e-46bd-86fa-4ad1a85980eb\">\n",
              "  <button class=\"colab-df-quickchart\" onclick=\"quickchart('df-3852a184-944e-46bd-86fa-4ad1a85980eb')\"\n",
              "            title=\"Suggest charts\"\n",
              "            style=\"display:none;\">\n",
              "\n",
              "<svg xmlns=\"http://www.w3.org/2000/svg\" height=\"24px\"viewBox=\"0 0 24 24\"\n",
              "     width=\"24px\">\n",
              "    <g>\n",
              "        <path d=\"M19 3H5c-1.1 0-2 .9-2 2v14c0 1.1.9 2 2 2h14c1.1 0 2-.9 2-2V5c0-1.1-.9-2-2-2zM9 17H7v-7h2v7zm4 0h-2V7h2v10zm4 0h-2v-4h2v4z\"/>\n",
              "    </g>\n",
              "</svg>\n",
              "  </button>\n",
              "\n",
              "<style>\n",
              "  .colab-df-quickchart {\n",
              "      --bg-color: #E8F0FE;\n",
              "      --fill-color: #1967D2;\n",
              "      --hover-bg-color: #E2EBFA;\n",
              "      --hover-fill-color: #174EA6;\n",
              "      --disabled-fill-color: #AAA;\n",
              "      --disabled-bg-color: #DDD;\n",
              "  }\n",
              "\n",
              "  [theme=dark] .colab-df-quickchart {\n",
              "      --bg-color: #3B4455;\n",
              "      --fill-color: #D2E3FC;\n",
              "      --hover-bg-color: #434B5C;\n",
              "      --hover-fill-color: #FFFFFF;\n",
              "      --disabled-bg-color: #3B4455;\n",
              "      --disabled-fill-color: #666;\n",
              "  }\n",
              "\n",
              "  .colab-df-quickchart {\n",
              "    background-color: var(--bg-color);\n",
              "    border: none;\n",
              "    border-radius: 50%;\n",
              "    cursor: pointer;\n",
              "    display: none;\n",
              "    fill: var(--fill-color);\n",
              "    height: 32px;\n",
              "    padding: 0;\n",
              "    width: 32px;\n",
              "  }\n",
              "\n",
              "  .colab-df-quickchart:hover {\n",
              "    background-color: var(--hover-bg-color);\n",
              "    box-shadow: 0 1px 2px rgba(60, 64, 67, 0.3), 0 1px 3px 1px rgba(60, 64, 67, 0.15);\n",
              "    fill: var(--button-hover-fill-color);\n",
              "  }\n",
              "\n",
              "  .colab-df-quickchart-complete:disabled,\n",
              "  .colab-df-quickchart-complete:disabled:hover {\n",
              "    background-color: var(--disabled-bg-color);\n",
              "    fill: var(--disabled-fill-color);\n",
              "    box-shadow: none;\n",
              "  }\n",
              "\n",
              "  .colab-df-spinner {\n",
              "    border: 2px solid var(--fill-color);\n",
              "    border-color: transparent;\n",
              "    border-bottom-color: var(--fill-color);\n",
              "    animation:\n",
              "      spin 1s steps(1) infinite;\n",
              "  }\n",
              "\n",
              "  @keyframes spin {\n",
              "    0% {\n",
              "      border-color: transparent;\n",
              "      border-bottom-color: var(--fill-color);\n",
              "      border-left-color: var(--fill-color);\n",
              "    }\n",
              "    20% {\n",
              "      border-color: transparent;\n",
              "      border-left-color: var(--fill-color);\n",
              "      border-top-color: var(--fill-color);\n",
              "    }\n",
              "    30% {\n",
              "      border-color: transparent;\n",
              "      border-left-color: var(--fill-color);\n",
              "      border-top-color: var(--fill-color);\n",
              "      border-right-color: var(--fill-color);\n",
              "    }\n",
              "    40% {\n",
              "      border-color: transparent;\n",
              "      border-right-color: var(--fill-color);\n",
              "      border-top-color: var(--fill-color);\n",
              "    }\n",
              "    60% {\n",
              "      border-color: transparent;\n",
              "      border-right-color: var(--fill-color);\n",
              "    }\n",
              "    80% {\n",
              "      border-color: transparent;\n",
              "      border-right-color: var(--fill-color);\n",
              "      border-bottom-color: var(--fill-color);\n",
              "    }\n",
              "    90% {\n",
              "      border-color: transparent;\n",
              "      border-bottom-color: var(--fill-color);\n",
              "    }\n",
              "  }\n",
              "</style>\n",
              "\n",
              "  <script>\n",
              "    async function quickchart(key) {\n",
              "      const quickchartButtonEl =\n",
              "        document.querySelector('#' + key + ' button');\n",
              "      quickchartButtonEl.disabled = true;  // To prevent multiple clicks.\n",
              "      quickchartButtonEl.classList.add('colab-df-spinner');\n",
              "      try {\n",
              "        const charts = await google.colab.kernel.invokeFunction(\n",
              "            'suggestCharts', [key], {});\n",
              "      } catch (error) {\n",
              "        console.error('Error during call to suggestCharts:', error);\n",
              "      }\n",
              "      quickchartButtonEl.classList.remove('colab-df-spinner');\n",
              "      quickchartButtonEl.classList.add('colab-df-quickchart-complete');\n",
              "    }\n",
              "    (() => {\n",
              "      let quickchartButtonEl =\n",
              "        document.querySelector('#df-3852a184-944e-46bd-86fa-4ad1a85980eb button');\n",
              "      quickchartButtonEl.style.display =\n",
              "        google.colab.kernel.accessAllowed ? 'block' : 'none';\n",
              "    })();\n",
              "  </script>\n",
              "</div>\n",
              "    </div>\n",
              "  </div>\n"
            ]
          },
          "metadata": {},
          "execution_count": 6
        }
      ]
    },
    {
      "cell_type": "code",
      "source": [
        "# Общая информация о данных в таблице\n",
        "df.info()"
      ],
      "metadata": {
        "colab": {
          "base_uri": "https://localhost:8080/"
        },
        "id": "u-bX07lJAM-F",
        "outputId": "3bd49038-c367-43ba-9611-04369604f48b"
      },
      "execution_count": 26,
      "outputs": [
        {
          "output_type": "stream",
          "name": "stdout",
          "text": [
            "<class 'pandas.core.frame.DataFrame'>\n",
            "RangeIndex: 170746 entries, 0 to 170745\n",
            "Data columns (total 15 columns):\n",
            " #   Column                Non-Null Count   Dtype  \n",
            "---  ------                --------------   -----  \n",
            " 0   client_id             170746 non-null  int64  \n",
            " 1   gender                170746 non-null  object \n",
            " 2   age                   170743 non-null  float64\n",
            " 3   marital_status        170743 non-null  object \n",
            " 4   job_position          170746 non-null  object \n",
            " 5   credit_sum            170744 non-null  object \n",
            " 6   credit_month          170746 non-null  int64  \n",
            " 7   tariff_id             170746 non-null  float64\n",
            " 8   score_shk             170739 non-null  object \n",
            " 9   education             170741 non-null  object \n",
            " 10  living_region         170554 non-null  object \n",
            " 11  monthly_income        170741 non-null  float64\n",
            " 12  credit_count          161516 non-null  float64\n",
            " 13  overdue_credit_count  161516 non-null  float64\n",
            " 14  open_account_flg      170746 non-null  int64  \n",
            "dtypes: float64(5), int64(3), object(7)\n",
            "memory usage: 19.5+ MB\n"
          ]
        }
      ]
    },
    {
      "cell_type": "code",
      "source": [
        "# Статистическое описание данных\n",
        "df.describe()"
      ],
      "metadata": {
        "colab": {
          "base_uri": "https://localhost:8080/",
          "height": 300
        },
        "id": "x__HEdxUAlwV",
        "outputId": "6c0db206-1439-4b94-8d54-cf4892f4672a"
      },
      "execution_count": 27,
      "outputs": [
        {
          "output_type": "execute_result",
          "data": {
            "text/plain": [
              "           client_id            age   credit_month      tariff_id  \\\n",
              "count  170746.000000  170743.000000  170746.000000  170746.000000   \n",
              "mean    85373.500000      36.497262      10.980749       1.323900   \n",
              "std     49290.268869      10.546044       3.536698       0.235813   \n",
              "min         1.000000      18.000000       3.000000       1.000000   \n",
              "25%     42687.250000      28.000000      10.000000       1.100000   \n",
              "50%     85373.500000      34.000000      10.000000       1.320000   \n",
              "75%    128059.750000      43.000000      12.000000       1.600000   \n",
              "max    170746.000000      71.000000      36.000000       1.960000   \n",
              "\n",
              "       monthly_income   credit_count  overdue_credit_count  open_account_flg  \n",
              "count   170741.000000  161516.000000         161516.000000     170746.000000  \n",
              "mean     40138.596149       2.107308              0.046070          0.176028  \n",
              "std      25044.373992       1.777128              0.211548          0.380845  \n",
              "min       5000.000000       0.000000              0.000000          0.000000  \n",
              "25%      25000.000000       1.000000              0.000000          0.000000  \n",
              "50%      35000.000000       2.000000              0.000000          0.000000  \n",
              "75%      50000.000000       3.000000              0.000000          0.000000  \n",
              "max     950000.000000      21.000000              3.000000          1.000000  "
            ],
            "text/html": [
              "\n",
              "  <div id=\"df-803bdcdf-44db-42f3-afeb-5c904eb772f4\" class=\"colab-df-container\">\n",
              "    <div>\n",
              "<style scoped>\n",
              "    .dataframe tbody tr th:only-of-type {\n",
              "        vertical-align: middle;\n",
              "    }\n",
              "\n",
              "    .dataframe tbody tr th {\n",
              "        vertical-align: top;\n",
              "    }\n",
              "\n",
              "    .dataframe thead th {\n",
              "        text-align: right;\n",
              "    }\n",
              "</style>\n",
              "<table border=\"1\" class=\"dataframe\">\n",
              "  <thead>\n",
              "    <tr style=\"text-align: right;\">\n",
              "      <th></th>\n",
              "      <th>client_id</th>\n",
              "      <th>age</th>\n",
              "      <th>credit_month</th>\n",
              "      <th>tariff_id</th>\n",
              "      <th>monthly_income</th>\n",
              "      <th>credit_count</th>\n",
              "      <th>overdue_credit_count</th>\n",
              "      <th>open_account_flg</th>\n",
              "    </tr>\n",
              "  </thead>\n",
              "  <tbody>\n",
              "    <tr>\n",
              "      <th>count</th>\n",
              "      <td>170746.000000</td>\n",
              "      <td>170743.000000</td>\n",
              "      <td>170746.000000</td>\n",
              "      <td>170746.000000</td>\n",
              "      <td>170741.000000</td>\n",
              "      <td>161516.000000</td>\n",
              "      <td>161516.000000</td>\n",
              "      <td>170746.000000</td>\n",
              "    </tr>\n",
              "    <tr>\n",
              "      <th>mean</th>\n",
              "      <td>85373.500000</td>\n",
              "      <td>36.497262</td>\n",
              "      <td>10.980749</td>\n",
              "      <td>1.323900</td>\n",
              "      <td>40138.596149</td>\n",
              "      <td>2.107308</td>\n",
              "      <td>0.046070</td>\n",
              "      <td>0.176028</td>\n",
              "    </tr>\n",
              "    <tr>\n",
              "      <th>std</th>\n",
              "      <td>49290.268869</td>\n",
              "      <td>10.546044</td>\n",
              "      <td>3.536698</td>\n",
              "      <td>0.235813</td>\n",
              "      <td>25044.373992</td>\n",
              "      <td>1.777128</td>\n",
              "      <td>0.211548</td>\n",
              "      <td>0.380845</td>\n",
              "    </tr>\n",
              "    <tr>\n",
              "      <th>min</th>\n",
              "      <td>1.000000</td>\n",
              "      <td>18.000000</td>\n",
              "      <td>3.000000</td>\n",
              "      <td>1.000000</td>\n",
              "      <td>5000.000000</td>\n",
              "      <td>0.000000</td>\n",
              "      <td>0.000000</td>\n",
              "      <td>0.000000</td>\n",
              "    </tr>\n",
              "    <tr>\n",
              "      <th>25%</th>\n",
              "      <td>42687.250000</td>\n",
              "      <td>28.000000</td>\n",
              "      <td>10.000000</td>\n",
              "      <td>1.100000</td>\n",
              "      <td>25000.000000</td>\n",
              "      <td>1.000000</td>\n",
              "      <td>0.000000</td>\n",
              "      <td>0.000000</td>\n",
              "    </tr>\n",
              "    <tr>\n",
              "      <th>50%</th>\n",
              "      <td>85373.500000</td>\n",
              "      <td>34.000000</td>\n",
              "      <td>10.000000</td>\n",
              "      <td>1.320000</td>\n",
              "      <td>35000.000000</td>\n",
              "      <td>2.000000</td>\n",
              "      <td>0.000000</td>\n",
              "      <td>0.000000</td>\n",
              "    </tr>\n",
              "    <tr>\n",
              "      <th>75%</th>\n",
              "      <td>128059.750000</td>\n",
              "      <td>43.000000</td>\n",
              "      <td>12.000000</td>\n",
              "      <td>1.600000</td>\n",
              "      <td>50000.000000</td>\n",
              "      <td>3.000000</td>\n",
              "      <td>0.000000</td>\n",
              "      <td>0.000000</td>\n",
              "    </tr>\n",
              "    <tr>\n",
              "      <th>max</th>\n",
              "      <td>170746.000000</td>\n",
              "      <td>71.000000</td>\n",
              "      <td>36.000000</td>\n",
              "      <td>1.960000</td>\n",
              "      <td>950000.000000</td>\n",
              "      <td>21.000000</td>\n",
              "      <td>3.000000</td>\n",
              "      <td>1.000000</td>\n",
              "    </tr>\n",
              "  </tbody>\n",
              "</table>\n",
              "</div>\n",
              "    <div class=\"colab-df-buttons\">\n",
              "\n",
              "  <div class=\"colab-df-container\">\n",
              "    <button class=\"colab-df-convert\" onclick=\"convertToInteractive('df-803bdcdf-44db-42f3-afeb-5c904eb772f4')\"\n",
              "            title=\"Convert this dataframe to an interactive table.\"\n",
              "            style=\"display:none;\">\n",
              "\n",
              "  <svg xmlns=\"http://www.w3.org/2000/svg\" height=\"24px\" viewBox=\"0 -960 960 960\">\n",
              "    <path d=\"M120-120v-720h720v720H120Zm60-500h600v-160H180v160Zm220 220h160v-160H400v160Zm0 220h160v-160H400v160ZM180-400h160v-160H180v160Zm440 0h160v-160H620v160ZM180-180h160v-160H180v160Zm440 0h160v-160H620v160Z\"/>\n",
              "  </svg>\n",
              "    </button>\n",
              "\n",
              "  <style>\n",
              "    .colab-df-container {\n",
              "      display:flex;\n",
              "      gap: 12px;\n",
              "    }\n",
              "\n",
              "    .colab-df-convert {\n",
              "      background-color: #E8F0FE;\n",
              "      border: none;\n",
              "      border-radius: 50%;\n",
              "      cursor: pointer;\n",
              "      display: none;\n",
              "      fill: #1967D2;\n",
              "      height: 32px;\n",
              "      padding: 0 0 0 0;\n",
              "      width: 32px;\n",
              "    }\n",
              "\n",
              "    .colab-df-convert:hover {\n",
              "      background-color: #E2EBFA;\n",
              "      box-shadow: 0px 1px 2px rgba(60, 64, 67, 0.3), 0px 1px 3px 1px rgba(60, 64, 67, 0.15);\n",
              "      fill: #174EA6;\n",
              "    }\n",
              "\n",
              "    .colab-df-buttons div {\n",
              "      margin-bottom: 4px;\n",
              "    }\n",
              "\n",
              "    [theme=dark] .colab-df-convert {\n",
              "      background-color: #3B4455;\n",
              "      fill: #D2E3FC;\n",
              "    }\n",
              "\n",
              "    [theme=dark] .colab-df-convert:hover {\n",
              "      background-color: #434B5C;\n",
              "      box-shadow: 0px 1px 3px 1px rgba(0, 0, 0, 0.15);\n",
              "      filter: drop-shadow(0px 1px 2px rgba(0, 0, 0, 0.3));\n",
              "      fill: #FFFFFF;\n",
              "    }\n",
              "  </style>\n",
              "\n",
              "    <script>\n",
              "      const buttonEl =\n",
              "        document.querySelector('#df-803bdcdf-44db-42f3-afeb-5c904eb772f4 button.colab-df-convert');\n",
              "      buttonEl.style.display =\n",
              "        google.colab.kernel.accessAllowed ? 'block' : 'none';\n",
              "\n",
              "      async function convertToInteractive(key) {\n",
              "        const element = document.querySelector('#df-803bdcdf-44db-42f3-afeb-5c904eb772f4');\n",
              "        const dataTable =\n",
              "          await google.colab.kernel.invokeFunction('convertToInteractive',\n",
              "                                                    [key], {});\n",
              "        if (!dataTable) return;\n",
              "\n",
              "        const docLinkHtml = 'Like what you see? Visit the ' +\n",
              "          '<a target=\"_blank\" href=https://colab.research.google.com/notebooks/data_table.ipynb>data table notebook</a>'\n",
              "          + ' to learn more about interactive tables.';\n",
              "        element.innerHTML = '';\n",
              "        dataTable['output_type'] = 'display_data';\n",
              "        await google.colab.output.renderOutput(dataTable, element);\n",
              "        const docLink = document.createElement('div');\n",
              "        docLink.innerHTML = docLinkHtml;\n",
              "        element.appendChild(docLink);\n",
              "      }\n",
              "    </script>\n",
              "  </div>\n",
              "\n",
              "\n",
              "<div id=\"df-dabe58c4-4779-4710-a2fa-ffceaf8eb018\">\n",
              "  <button class=\"colab-df-quickchart\" onclick=\"quickchart('df-dabe58c4-4779-4710-a2fa-ffceaf8eb018')\"\n",
              "            title=\"Suggest charts\"\n",
              "            style=\"display:none;\">\n",
              "\n",
              "<svg xmlns=\"http://www.w3.org/2000/svg\" height=\"24px\"viewBox=\"0 0 24 24\"\n",
              "     width=\"24px\">\n",
              "    <g>\n",
              "        <path d=\"M19 3H5c-1.1 0-2 .9-2 2v14c0 1.1.9 2 2 2h14c1.1 0 2-.9 2-2V5c0-1.1-.9-2-2-2zM9 17H7v-7h2v7zm4 0h-2V7h2v10zm4 0h-2v-4h2v4z\"/>\n",
              "    </g>\n",
              "</svg>\n",
              "  </button>\n",
              "\n",
              "<style>\n",
              "  .colab-df-quickchart {\n",
              "      --bg-color: #E8F0FE;\n",
              "      --fill-color: #1967D2;\n",
              "      --hover-bg-color: #E2EBFA;\n",
              "      --hover-fill-color: #174EA6;\n",
              "      --disabled-fill-color: #AAA;\n",
              "      --disabled-bg-color: #DDD;\n",
              "  }\n",
              "\n",
              "  [theme=dark] .colab-df-quickchart {\n",
              "      --bg-color: #3B4455;\n",
              "      --fill-color: #D2E3FC;\n",
              "      --hover-bg-color: #434B5C;\n",
              "      --hover-fill-color: #FFFFFF;\n",
              "      --disabled-bg-color: #3B4455;\n",
              "      --disabled-fill-color: #666;\n",
              "  }\n",
              "\n",
              "  .colab-df-quickchart {\n",
              "    background-color: var(--bg-color);\n",
              "    border: none;\n",
              "    border-radius: 50%;\n",
              "    cursor: pointer;\n",
              "    display: none;\n",
              "    fill: var(--fill-color);\n",
              "    height: 32px;\n",
              "    padding: 0;\n",
              "    width: 32px;\n",
              "  }\n",
              "\n",
              "  .colab-df-quickchart:hover {\n",
              "    background-color: var(--hover-bg-color);\n",
              "    box-shadow: 0 1px 2px rgba(60, 64, 67, 0.3), 0 1px 3px 1px rgba(60, 64, 67, 0.15);\n",
              "    fill: var(--button-hover-fill-color);\n",
              "  }\n",
              "\n",
              "  .colab-df-quickchart-complete:disabled,\n",
              "  .colab-df-quickchart-complete:disabled:hover {\n",
              "    background-color: var(--disabled-bg-color);\n",
              "    fill: var(--disabled-fill-color);\n",
              "    box-shadow: none;\n",
              "  }\n",
              "\n",
              "  .colab-df-spinner {\n",
              "    border: 2px solid var(--fill-color);\n",
              "    border-color: transparent;\n",
              "    border-bottom-color: var(--fill-color);\n",
              "    animation:\n",
              "      spin 1s steps(1) infinite;\n",
              "  }\n",
              "\n",
              "  @keyframes spin {\n",
              "    0% {\n",
              "      border-color: transparent;\n",
              "      border-bottom-color: var(--fill-color);\n",
              "      border-left-color: var(--fill-color);\n",
              "    }\n",
              "    20% {\n",
              "      border-color: transparent;\n",
              "      border-left-color: var(--fill-color);\n",
              "      border-top-color: var(--fill-color);\n",
              "    }\n",
              "    30% {\n",
              "      border-color: transparent;\n",
              "      border-left-color: var(--fill-color);\n",
              "      border-top-color: var(--fill-color);\n",
              "      border-right-color: var(--fill-color);\n",
              "    }\n",
              "    40% {\n",
              "      border-color: transparent;\n",
              "      border-right-color: var(--fill-color);\n",
              "      border-top-color: var(--fill-color);\n",
              "    }\n",
              "    60% {\n",
              "      border-color: transparent;\n",
              "      border-right-color: var(--fill-color);\n",
              "    }\n",
              "    80% {\n",
              "      border-color: transparent;\n",
              "      border-right-color: var(--fill-color);\n",
              "      border-bottom-color: var(--fill-color);\n",
              "    }\n",
              "    90% {\n",
              "      border-color: transparent;\n",
              "      border-bottom-color: var(--fill-color);\n",
              "    }\n",
              "  }\n",
              "</style>\n",
              "\n",
              "  <script>\n",
              "    async function quickchart(key) {\n",
              "      const quickchartButtonEl =\n",
              "        document.querySelector('#' + key + ' button');\n",
              "      quickchartButtonEl.disabled = true;  // To prevent multiple clicks.\n",
              "      quickchartButtonEl.classList.add('colab-df-spinner');\n",
              "      try {\n",
              "        const charts = await google.colab.kernel.invokeFunction(\n",
              "            'suggestCharts', [key], {});\n",
              "      } catch (error) {\n",
              "        console.error('Error during call to suggestCharts:', error);\n",
              "      }\n",
              "      quickchartButtonEl.classList.remove('colab-df-spinner');\n",
              "      quickchartButtonEl.classList.add('colab-df-quickchart-complete');\n",
              "    }\n",
              "    (() => {\n",
              "      let quickchartButtonEl =\n",
              "        document.querySelector('#df-dabe58c4-4779-4710-a2fa-ffceaf8eb018 button');\n",
              "      quickchartButtonEl.style.display =\n",
              "        google.colab.kernel.accessAllowed ? 'block' : 'none';\n",
              "    })();\n",
              "  </script>\n",
              "</div>\n",
              "    </div>\n",
              "  </div>\n"
            ]
          },
          "metadata": {},
          "execution_count": 27
        }
      ]
    },
    {
      "cell_type": "code",
      "source": [
        "# Преобразование 'credit_sum' в числовой формат\n",
        "df['credit_sum'] = df['credit_sum'].str.replace(',', '.').astype(float)"
      ],
      "metadata": {
        "id": "ah-f3JTrmtbl"
      },
      "execution_count": 36,
      "outputs": []
    },
    {
      "cell_type": "code",
      "source": [
        "df.dtypes"
      ],
      "metadata": {
        "colab": {
          "base_uri": "https://localhost:8080/"
        },
        "id": "advCWMPO80u-",
        "outputId": "d8eb5b6f-ddf9-4af9-8392-518352232fec"
      },
      "execution_count": 37,
      "outputs": [
        {
          "output_type": "execute_result",
          "data": {
            "text/plain": [
              "client_id                 int64\n",
              "gender                   object\n",
              "age                     float64\n",
              "marital_status           object\n",
              "job_position             object\n",
              "credit_sum              float64\n",
              "credit_month              int64\n",
              "tariff_id               float64\n",
              "score_shk                object\n",
              "education                object\n",
              "living_region            object\n",
              "monthly_income          float64\n",
              "credit_count            float64\n",
              "overdue_credit_count    float64\n",
              "open_account_flg          int64\n",
              "dtype: object"
            ]
          },
          "metadata": {},
          "execution_count": 37
        }
      ]
    },
    {
      "cell_type": "code",
      "source": [
        "#хот-фикс, удалила строчки где в возрасле NAN так как дальше возникала ошибка которую не смогла решить\n",
        "df = df.dropna(subset=['age'])\n",
        "df = df.dropna(subset=['credit_sum'])"
      ],
      "metadata": {
        "id": "YzhVIfUaj8iL"
      },
      "execution_count": 38,
      "outputs": []
    },
    {
      "cell_type": "code",
      "source": [
        "# Проверка наличия пропущенных значений\n",
        "df.isna().sum()"
      ],
      "metadata": {
        "colab": {
          "base_uri": "https://localhost:8080/"
        },
        "id": "trKaPtlUA4QQ",
        "outputId": "03d6289b-aa8a-46cd-9350-7953b2b0c515"
      },
      "execution_count": 39,
      "outputs": [
        {
          "output_type": "execute_result",
          "data": {
            "text/plain": [
              "client_id                  0\n",
              "gender                     0\n",
              "age                        0\n",
              "marital_status             1\n",
              "job_position               0\n",
              "credit_sum                 0\n",
              "credit_month               0\n",
              "tariff_id                  0\n",
              "score_shk                  4\n",
              "education                  4\n",
              "living_region            192\n",
              "monthly_income             3\n",
              "credit_count            9230\n",
              "overdue_credit_count    9230\n",
              "open_account_flg           0\n",
              "dtype: int64"
            ]
          },
          "metadata": {},
          "execution_count": 39
        }
      ]
    },
    {
      "cell_type": "code",
      "source": [
        "# Проверка наличия дубликатов\n",
        "df.duplicated().sum()"
      ],
      "metadata": {
        "colab": {
          "base_uri": "https://localhost:8080/"
        },
        "id": "JfvwKHjOBAUq",
        "outputId": "a1bb9d38-534c-476a-887c-a269a1cdc7a5"
      },
      "execution_count": 40,
      "outputs": [
        {
          "output_type": "execute_result",
          "data": {
            "text/plain": [
              "0"
            ]
          },
          "metadata": {},
          "execution_count": 40
        }
      ]
    },
    {
      "cell_type": "code",
      "source": [
        "# Проверка, есть ли строки, в которых все ячейки пустые\n",
        "empty_rows = df.isnull().all(axis=1)\n",
        "print(empty_rows.sum())"
      ],
      "metadata": {
        "colab": {
          "base_uri": "https://localhost:8080/"
        },
        "id": "O1gkreRotgb3",
        "outputId": "f988f75f-a351-4564-e55a-e326dcbb8bdf"
      },
      "execution_count": 41,
      "outputs": [
        {
          "output_type": "stream",
          "name": "stdout",
          "text": [
            "0\n"
          ]
        }
      ]
    },
    {
      "cell_type": "markdown",
      "source": [
        "2. Разделение на тестовую и тренинг выборки"
      ],
      "metadata": {
        "id": "e0XvRytqmTy1"
      }
    },
    {
      "cell_type": "code",
      "source": [
        "X = df[['age','credit_sum', 'overdue_credit_count', 'credit_count', 'monthly_income']]\n",
        "Y = df['open_account_flg'] #целевая переменная"
      ],
      "metadata": {
        "id": "PAJhn8ECGbyR"
      },
      "execution_count": 42,
      "outputs": []
    },
    {
      "cell_type": "code",
      "source": [
        "#Разделяем выборку на тренинговую и тестовую используя sklearn\n",
        "X_train, X_test, Y_train, Y_test = train_test_split(X, Y, test_size=0.33, random_state=42)"
      ],
      "metadata": {
        "id": "o47gEHbKMa3o"
      },
      "execution_count": 43,
      "outputs": []
    },
    {
      "cell_type": "code",
      "source": [
        "X_train.dtypes"
      ],
      "metadata": {
        "colab": {
          "base_uri": "https://localhost:8080/"
        },
        "id": "T6GBDQSVfIVM",
        "outputId": "636287f1-b5bb-4bea-de76-c735c8ebb2b8"
      },
      "execution_count": 44,
      "outputs": [
        {
          "output_type": "execute_result",
          "data": {
            "text/plain": [
              "age                     float64\n",
              "credit_sum              float64\n",
              "overdue_credit_count    float64\n",
              "credit_count            float64\n",
              "monthly_income          float64\n",
              "dtype: object"
            ]
          },
          "metadata": {},
          "execution_count": 44
        }
      ]
    },
    {
      "cell_type": "code",
      "source": [
        "#Проверяем наличие пропусков в выборке train\n",
        "X_train.isna().sum()"
      ],
      "metadata": {
        "colab": {
          "base_uri": "https://localhost:8080/"
        },
        "id": "ropp7klDG3cn",
        "outputId": "2abc801d-b162-4861-daf1-0558c7b67079"
      },
      "execution_count": 45,
      "outputs": [
        {
          "output_type": "execute_result",
          "data": {
            "text/plain": [
              "age                        0\n",
              "credit_sum                 0\n",
              "overdue_credit_count    6077\n",
              "credit_count            6077\n",
              "monthly_income             1\n",
              "dtype: int64"
            ]
          },
          "metadata": {},
          "execution_count": 45
        }
      ]
    },
    {
      "cell_type": "code",
      "source": [
        "#Проверяем наличие пропусков в выборке test\n",
        "X_test.isna().sum()"
      ],
      "metadata": {
        "colab": {
          "base_uri": "https://localhost:8080/"
        },
        "id": "3p4Da4TYT9u4",
        "outputId": "1431beb4-be23-4170-f280-b5ff035b68fb"
      },
      "execution_count": 46,
      "outputs": [
        {
          "output_type": "execute_result",
          "data": {
            "text/plain": [
              "age                        0\n",
              "credit_sum                 0\n",
              "overdue_credit_count    3153\n",
              "credit_count            3153\n",
              "monthly_income             2\n",
              "dtype: int64"
            ]
          },
          "metadata": {},
          "execution_count": 46
        }
      ]
    },
    {
      "cell_type": "markdown",
      "source": [
        "3. Обработка пропусков"
      ],
      "metadata": {
        "id": "zMnv70bameNQ"
      }
    },
    {
      "cell_type": "code",
      "source": [
        "\n",
        "#X_train['age'] = X_train['age'].apply(lambda x: X_train['age'].median() if pd.isnull(x) else x)\n",
        "#X_test['age'] = X_test['age'].apply(lambda x: X_test['age'].median() if pd.isnull(x) else x)\n",
        "\n",
        "X_train['overdue_credit_count'] = X_train['overdue_credit_count'].apply(lambda x: 0 if pd.isnull(x) else x)\n",
        "X_test['overdue_credit_count'] = X_test['overdue_credit_count'].apply(lambda x: 0 if pd.isnull(x) else x)\n",
        "\n",
        "X_train['credit_count'] = X_train['credit_count'].apply(lambda x: 0 if pd.isnull(x) else x)\n",
        "X_test['credit_count'] = X_test['credit_count'].apply(lambda x: 0 if pd.isnull(x) else x)\n",
        "\n",
        "#X_train['credit_sum'] = X_train['credit_sum'].apply(lambda x: 0 if pd.isnull(x) else x)\n",
        "#X_test['credit_sum'] = X_test['credit_sum'].apply(lambda x: 0 if pd.isnull(x) else x)\n",
        "\n",
        "X_train['monthly_income'] = X_train['monthly_income'].apply(lambda x: 0 if pd.isnull(x) else x)\n",
        "X_test['monthly_income'] = X_test['monthly_income'].apply(lambda x: 0 if pd.isnull(x) else x)"
      ],
      "metadata": {
        "id": "_zGv3Z8nOCpw"
      },
      "execution_count": 47,
      "outputs": []
    },
    {
      "cell_type": "code",
      "source": [
        "X_train.isna().sum()"
      ],
      "metadata": {
        "colab": {
          "base_uri": "https://localhost:8080/"
        },
        "id": "9fKtO8VvUQ_b",
        "outputId": "585ed21d-8495-4ead-c26f-f5d4ba297478"
      },
      "execution_count": 48,
      "outputs": [
        {
          "output_type": "execute_result",
          "data": {
            "text/plain": [
              "age                     0\n",
              "credit_sum              0\n",
              "overdue_credit_count    0\n",
              "credit_count            0\n",
              "monthly_income          0\n",
              "dtype: int64"
            ]
          },
          "metadata": {},
          "execution_count": 48
        }
      ]
    },
    {
      "cell_type": "code",
      "source": [
        "X_test.isna().sum()"
      ],
      "metadata": {
        "colab": {
          "base_uri": "https://localhost:8080/"
        },
        "id": "Y2d_ftSJWj_T",
        "outputId": "8b41b549-58ee-46ab-aaf5-bb37c7fae672"
      },
      "execution_count": 49,
      "outputs": [
        {
          "output_type": "execute_result",
          "data": {
            "text/plain": [
              "age                     0\n",
              "credit_sum              0\n",
              "overdue_credit_count    0\n",
              "credit_count            0\n",
              "monthly_income          0\n",
              "dtype: int64"
            ]
          },
          "metadata": {},
          "execution_count": 49
        }
      ]
    },
    {
      "cell_type": "code",
      "source": [
        "print(X_train.dtypes)"
      ],
      "metadata": {
        "colab": {
          "base_uri": "https://localhost:8080/"
        },
        "id": "vTxAbA_vk0nP",
        "outputId": "8557a581-4f1c-4413-efa2-665467d49000"
      },
      "execution_count": 24,
      "outputs": [
        {
          "output_type": "stream",
          "name": "stdout",
          "text": [
            "age                     float64\n",
            "credit_sum               object\n",
            "overdue_credit_count    float64\n",
            "credit_count            float64\n",
            "monthly_income          float64\n",
            "dtype: object\n"
          ]
        }
      ]
    },
    {
      "cell_type": "code",
      "source": [
        "from sklearn.linear_model import LogisticRegression\n",
        "from sklearn.metrics import accuracy_score\n",
        "\n",
        "# Инициализация и обучение модели (логистическая регрессия)\n",
        "model = LogisticRegression(random_state=42)\n",
        "model.fit(X_train, Y_train)\n",
        "\n",
        "# Предсказание на тестовом наборе данных\n",
        "predictions = model.predict(X_test)\n",
        "\n",
        "# Оценка точности\n",
        "accuracy = accuracy_score(Y_test, predictions)\n",
        "print(f'Accuracy: {accuracy}')"
      ],
      "metadata": {
        "colab": {
          "base_uri": "https://localhost:8080/"
        },
        "id": "OSvaIhAx1dCA",
        "outputId": "31fd0188-f83b-4835-9d18-94a9e49b325c"
      },
      "execution_count": 50,
      "outputs": [
        {
          "output_type": "stream",
          "name": "stdout",
          "text": [
            "Accuracy: 0.8239950306149614\n"
          ]
        }
      ]
    },
    {
      "cell_type": "markdown",
      "source": [
        "4. Оценка выборосов"
      ],
      "metadata": {
        "id": "FCwKXi2TpVWI"
      }
    },
    {
      "cell_type": "code",
      "source": [
        "#не нашла других подходящих столбцов для оценки выбросов\n",
        "df['credit_sum'] = df['credit_sum'].str.replace(',', '.').astype(float)\n",
        "sns.boxplot(data=df['credit_sum'])"
      ],
      "metadata": {
        "colab": {
          "base_uri": "https://localhost:8080/",
          "height": 448
        },
        "id": "Qfut4Y8UneTJ",
        "outputId": "a39f8ad3-37da-4ee8-d72a-9c607b7854b7"
      },
      "execution_count": 38,
      "outputs": [
        {
          "output_type": "execute_result",
          "data": {
            "text/plain": [
              "<Axes: >"
            ]
          },
          "metadata": {},
          "execution_count": 38
        },
        {
          "output_type": "display_data",
          "data": {
            "text/plain": [
              "<Figure size 640x480 with 1 Axes>"
            ],
            "image/png": "[encoded data removed]"
          },
          "metadata": {}
        }
      ]
    },
    {
      "cell_type": "code",
      "source": [
        "sns.boxplot(data=df['age'])"
      ],
      "metadata": {
        "colab": {
          "base_uri": "https://localhost:8080/",
          "height": 448
        },
        "id": "06925cTio6Yn",
        "outputId": "f1e5ca08-f5b1-4d4a-abfb-23ec46aad227"
      },
      "execution_count": 39,
      "outputs": [
        {
          "output_type": "execute_result",
          "data": {
            "text/plain": [
              "<Axes: >"
            ]
          },
          "metadata": {},
          "execution_count": 39
        },
        {
          "output_type": "display_data",
          "data": {
            "text/plain": [
              "<Figure size 640x480 with 1 Axes>"
            ],
            "image/png": "[encoded data removed]"
          },
          "metadata": {}
        }
      ]
    },
    {
      "cell_type": "markdown",
      "source": [
        "5. Корреляция"
      ],
      "metadata": {
        "id": "VUGJcKZGq7YD"
      }
    },
    {
      "cell_type": "code",
      "source": [
        "# Рассчет корреляции Пирсона\n",
        "correlation_matrix = df.corr(method='pearson')\n",
        "\n",
        "# Вывод матрицы корреляции\n",
        "print(correlation_matrix)"
      ],
      "metadata": {
        "colab": {
          "base_uri": "https://localhost:8080/"
        },
        "id": "749rQejMqSab",
        "outputId": "9247b155-1566-4665-eed0-7c14858ad65e"
      },
      "execution_count": 52,
      "outputs": [
        {
          "output_type": "stream",
          "name": "stdout",
          "text": [
            "                      client_id       age  credit_sum  credit_month  \\\n",
            "client_id              1.000000 -0.000764   -0.001445     -0.000027   \n",
            "age                   -0.000764  1.000000   -0.096612      0.007098   \n",
            "credit_sum            -0.001445 -0.096612    1.000000      0.228322   \n",
            "credit_month          -0.000027  0.007098    0.228322      1.000000   \n",
            "tariff_id             -0.000049 -0.109293    0.090654     -0.056403   \n",
            "monthly_income        -0.001284 -0.014885    0.351497      0.007657   \n",
            "credit_count           0.001916  0.116666    0.015818      0.050424   \n",
            "overdue_credit_count  -0.005221  0.007789   -0.003828      0.006477   \n",
            "open_account_flg       0.000254 -0.031062   -0.072038      0.025803   \n",
            "\n",
            "                      tariff_id  monthly_income  credit_count  \\\n",
            "client_id             -0.000049       -0.001284      0.001916   \n",
            "age                   -0.109293       -0.014885      0.116666   \n",
            "credit_sum             0.090654        0.351497      0.015818   \n",
            "credit_month          -0.056403        0.007657      0.050424   \n",
            "tariff_id              1.000000        0.012997     -0.053731   \n",
            "monthly_income         0.012997        1.000000      0.146479   \n",
            "credit_count          -0.053731        0.146479      1.000000   \n",
            "overdue_credit_count   0.086768        0.033711      0.177322   \n",
            "open_account_flg      -0.067352       -0.023702      0.036011   \n",
            "\n",
            "                      overdue_credit_count  open_account_flg  \n",
            "client_id                        -0.005221          0.000254  \n",
            "age                               0.007789         -0.031062  \n",
            "credit_sum                       -0.003828         -0.072038  \n",
            "credit_month                      0.006477          0.025803  \n",
            "tariff_id                         0.086768         -0.067352  \n",
            "monthly_income                    0.033711         -0.023702  \n",
            "credit_count                      0.177322          0.036011  \n",
            "overdue_credit_count              1.000000          0.023463  \n",
            "open_account_flg                  0.023463          1.000000  \n"
          ]
        },
        {
          "output_type": "stream",
          "name": "stderr",
          "text": [
            "<ipython-input-52-c837aa6d0f7e>:2: FutureWarning: The default value of numeric_only in DataFrame.corr is deprecated. In a future version, it will default to False. Select only valid columns or specify the value of numeric_only to silence this warning.\n",
            "  correlation_matrix = df.corr(method='pearson')\n"
          ]
        }
      ]
    },
    {
      "cell_type": "code",
      "source": [
        "# Построение тепловой карты\n",
        "sns.heatmap(correlation_matrix, vmin=-1, vmax=1, annot=True, fmt=\".2f\")\n",
        "#annot=True аннотации с числовыми значениями, fmt=\".2f\" форматирует числа с двумя знаками после запятой\n",
        "\n",
        "plt.show()"
      ],
      "metadata": {
        "colab": {
          "base_uri": "https://localhost:8080/",
          "height": 571
        },
        "id": "0UKAqIk9qMJG",
        "outputId": "3fd8adad-995f-4fa4-ebff-2297bd0598b8"
      },
      "execution_count": 53,
      "outputs": [
        {
          "output_type": "display_data",
          "data": {
            "text/plain": [
              "<Figure size 640x480 with 2 Axes>"
            ],
            "image/png": "[encoded data removed]"
          },
          "metadata": {}
        }
      ]
    },
    {
      "cell_type": "markdown",
      "source": [
        "6. Teст на нормальность распределения"
      ],
      "metadata": {
        "id": "66HS5ny_vHCd"
      }
    },
    {
      "cell_type": "code",
      "source": [
        "# Используем тест Шапиро-Уилка\n",
        "from scipy.stats import shapiro\n",
        "\n",
        "statistic, p_value = shapiro(df['credit_sum'])\n",
        "print(f'Statistic: {statistic}, p-value: {p_value}')\n",
        "\n",
        "# Проверка нулевой гипотезы о нормальности\n",
        "alpha = 0.05\n",
        "if p_value > alpha:\n",
        "    print(\"Распределение похоже на нормальное (не отвергаем нулевую гипотезу)\")\n",
        "else:\n",
        "    print(\"Распределение не является нормальным (отвергаем нулевую гипотезу)\")"
      ],
      "metadata": {
        "colab": {
          "base_uri": "https://localhost:8080/"
        },
        "id": "Wnrg6N8SvGpB",
        "outputId": "7ffdb8d1-390c-4c22-9408-d26e54190b55"
      },
      "execution_count": 55,
      "outputs": [
        {
          "output_type": "stream",
          "name": "stdout",
          "text": [
            "Statistic: 0.8766692876815796, p-value: 0.0\n",
            "Распределение не является нормальным (отвергаем нулевую гипотезу)\n"
          ]
        },
        {
          "output_type": "stream",
          "name": "stderr",
          "text": [
            "/usr/local/lib/python3.10/dist-packages/scipy/stats/_morestats.py:1882: UserWarning: p-value may not be accurate for N > 5000.\n",
            "  warnings.warn(\"p-value may not be accurate for N > 5000.\")\n"
          ]
        }
      ]
    },
    {
      "cell_type": "code",
      "source": [
        "X_train_scaled = (X_train - X_train.min()) / (X_train.max() - X_train.min())\n",
        "\n",
        "# Вывод результатов\n",
        "print(\"Исходные данные:\")\n",
        "print(X_train)\n",
        "print(\"\\nМасштабированные данные (Min-Max Scaling):\")\n",
        "print(X_train_scaled)"
      ],
      "metadata": {
        "colab": {
          "base_uri": "https://localhost:8080/"
        },
        "id": "fU9N7BgOzXaU",
        "outputId": "f0ab4547-adbc-4aa9-e45e-39ee9d85093f"
      },
      "execution_count": 56,
      "outputs": [
        {
          "output_type": "stream",
          "name": "stdout",
          "text": [
            "Исходные данные:\n",
            "         age  credit_sum  overdue_credit_count  credit_count  monthly_income\n",
            "118284  24.0    59990.00                   0.0           0.0         33000.0\n",
            "27702   24.0    12591.00                   0.0           0.0         30000.0\n",
            "70955   27.0    13980.00                   0.0           3.0         35000.0\n",
            "71772   22.0    40799.00                   0.0           0.0         30000.0\n",
            "75777   41.0     7178.89                   0.0           0.0         30000.0\n",
            "...      ...         ...                   ...           ...             ...\n",
            "119883  40.0    19450.00                   0.0           3.0         30000.0\n",
            "103698  20.0     9702.00                   0.0           0.0          8500.0\n",
            "131936  36.0     8461.00                   0.0           5.0        100000.0\n",
            "146871  37.0    30990.00                   0.0           4.0         40000.0\n",
            "121962  29.0    13818.00                   0.0           2.0         75000.0\n",
            "\n",
            "[114397 rows x 5 columns]\n",
            "\n",
            "Масштабированные данные (Min-Max Scaling):\n",
            "             age  credit_sum  overdue_credit_count  credit_count  \\\n",
            "118284  0.113208    0.290240                   0.0      0.000000   \n",
            "27702   0.113208    0.049958                   0.0      0.000000   \n",
            "70955   0.169811    0.057000                   0.0      0.142857   \n",
            "71772   0.075472    0.192955                   0.0      0.000000   \n",
            "75777   0.433962    0.022523                   0.0      0.000000   \n",
            "...          ...         ...                   ...           ...   \n",
            "119883  0.415094    0.084729                   0.0      0.142857   \n",
            "103698  0.037736    0.035313                   0.0      0.000000   \n",
            "131936  0.339623    0.029022                   0.0      0.238095   \n",
            "146871  0.358491    0.143229                   0.0      0.190476   \n",
            "121962  0.207547    0.056179                   0.0      0.095238   \n",
            "\n",
            "        monthly_income  \n",
            "118284        0.034737  \n",
            "27702         0.031579  \n",
            "70955         0.036842  \n",
            "71772         0.031579  \n",
            "75777         0.031579  \n",
            "...                ...  \n",
            "119883        0.031579  \n",
            "103698        0.008947  \n",
            "131936        0.105263  \n",
            "146871        0.042105  \n",
            "121962        0.078947  \n",
            "\n",
            "[114397 rows x 5 columns]\n"
          ]
        }
      ]
    },
    {
      "cell_type": "code",
      "source": [
        "# Z-Score Standardization\n",
        "df_standardized = (df - df.mean()) / df.std()\n",
        "\n",
        "# Вывод результатов\n",
        "print(\"Исходные данные:\")\n",
        "print(df)\n",
        "print(\"\\nСтандартизированные данные (Z-Score Standardization):\")\n",
        "print(df_standardized)"
      ],
      "metadata": {
        "colab": {
          "base_uri": "https://localhost:8080/"
        },
        "id": "FeyxGizby_lD",
        "outputId": "ac4f52f8-70a6-49cf-da32-666b2cf9022b"
      },
      "execution_count": 57,
      "outputs": [
        {
          "output_type": "stream",
          "name": "stderr",
          "text": [
            "<ipython-input-57-28163a61fc94>:2: FutureWarning: The default value of numeric_only in DataFrame.mean is deprecated. In a future version, it will default to False. In addition, specifying 'numeric_only=None' is deprecated. Select only valid columns or specify the value of numeric_only to silence this warning.\n",
            "  df_standardized = (df - df.mean()) / df.std()\n"
          ]
        },
        {
          "output_type": "stream",
          "name": "stdout",
          "text": [
            "Исходные данные:\n",
            "        client_id gender   age marital_status job_position  credit_sum  \\\n",
            "2               3      M  32.0            MAR          SPC    10728.00   \n",
            "3               4      F  27.0            NaN          SPC    12009.09   \n",
            "6               7      M  34.0            MAR          SPC    10317.00   \n",
            "7               8      F  26.0            UNM          SPC    47878.00   \n",
            "8               9      M  23.0            UNM          SPC    37577.16   \n",
            "...           ...    ...   ...            ...          ...         ...   \n",
            "170741     170742      F  27.0            UNM          SPC    64867.00   \n",
            "170742     170743      F  24.0            MAR          SPC    17640.00   \n",
            "170743     170744      F  31.0            UNM          SPC    27556.47   \n",
            "170744     170745      F  53.0            DIV          PNA     6189.00   \n",
            "170745     170746      M  49.0            MAR          SPC    12787.00   \n",
            "\n",
            "        credit_month  tariff_id score_shk education  \\\n",
            "2                 12       1.10       NaN       NaN   \n",
            "3                 12       1.10       NaN       NaN   \n",
            "6                  6       1.50       NaN       SCH   \n",
            "7                 10       1.10  0,512525       GRD   \n",
            "8                 12       1.60       NaN       SCH   \n",
            "...              ...        ...       ...       ...   \n",
            "170741            12       1.10  0,535257       GRD   \n",
            "170742             6       1.60  0,573287       SCH   \n",
            "170743            10       1.32  0,416098       GRD   \n",
            "170744            12       1.10  0,482595       SCH   \n",
            "170745            10       1.10  0,316087       GRD   \n",
            "\n",
            "                                   living_region  monthly_income  \\\n",
            "2                                ОБЛ САРАТОВСКАЯ             NaN   \n",
            "3                              ОБЛ ВОЛГОГРАДСКАЯ             NaN   \n",
            "6                              ОБЛ НИЖЕГОРОДСКАЯ         28000.0   \n",
            "7                                 МОСКОВСКАЯ ОБЛ         60000.0   \n",
            "8       ХАНТЫ-МАНСИЙСКИЙ АВТОНОМНЫЙ ОКРУГ - ЮГРА         50000.0   \n",
            "...                                          ...             ...   \n",
            "170741                      РЕСПУБЛИКА ТАТАРСТАН         40000.0   \n",
            "170742                         САНКТ-ПЕТЕРБУРГ Г         30000.0   \n",
            "170743                           ПРИМОРСКИЙ КРАЙ         40000.0   \n",
            "170744                            ПЕНЗЕНСКАЯ ОБЛ         31000.0   \n",
            "170745                            ОБЛ МОСКОВСКАЯ         40000.0   \n",
            "\n",
            "        credit_count  overdue_credit_count  open_account_flg  \n",
            "2                5.0                   0.0                 0  \n",
            "3                2.0                   0.0                 0  \n",
            "6                3.0                   0.0                 0  \n",
            "7                3.0                   0.0                 0  \n",
            "8                3.0                   0.0                 0  \n",
            "...              ...                   ...               ...  \n",
            "170741           6.0                   0.0                 0  \n",
            "170742           1.0                   0.0                 0  \n",
            "170743           1.0                   0.0                 0  \n",
            "170744           2.0                   0.0                 0  \n",
            "170745           3.0                   0.0                 0  \n",
            "\n",
            "[170742 rows x 15 columns]\n",
            "\n",
            "Стандартизированные данные (Z-Score Standardization):\n",
            "             age  client_id  credit_count  credit_month  credit_sum education  \\\n",
            "2      -0.426435  -1.732076      1.627709      0.288178   -0.946551       NaN   \n",
            "3      -0.900546  -1.732056     -0.060398      0.288178   -0.867640       NaN   \n",
            "6      -0.236791  -1.731995      0.502304     -1.408311   -0.971867       NaN   \n",
            "7      -0.995369  -1.731975      0.502304     -0.277318    1.341755       NaN   \n",
            "8      -1.279835  -1.731954      0.502304      0.288178    0.707260       NaN   \n",
            "...          ...        ...           ...           ...         ...       ...   \n",
            "170741 -0.900546   1.731954      2.190412      0.288178    2.388216       NaN   \n",
            "170742 -1.185013   1.731975     -0.623101     -1.408311   -0.520797       NaN   \n",
            "170743 -0.521258   1.731995     -0.623101     -0.277318    0.090022       NaN   \n",
            "170744  1.564830   1.732015     -0.060398      0.288178   -1.226137       NaN   \n",
            "170745  1.185542   1.732036      0.502304     -0.277318   -0.819724       NaN   \n",
            "\n",
            "       gender job_position living_region marital_status  monthly_income  \\\n",
            "2         NaN          NaN           NaN            NaN             NaN   \n",
            "3         NaN          NaN           NaN            NaN             NaN   \n",
            "6         NaN          NaN           NaN            NaN       -0.484686   \n",
            "7         NaN          NaN           NaN            NaN        0.793040   \n",
            "8         NaN          NaN           NaN            NaN        0.393751   \n",
            "...       ...          ...           ...            ...             ...   \n",
            "170741    NaN          NaN           NaN            NaN       -0.005539   \n",
            "170742    NaN          NaN           NaN            NaN       -0.404828   \n",
            "170743    NaN          NaN           NaN            NaN       -0.005539   \n",
            "170744    NaN          NaN           NaN            NaN       -0.364899   \n",
            "170745    NaN          NaN           NaN            NaN       -0.005539   \n",
            "\n",
            "        open_account_flg  overdue_credit_count score_shk  tariff_id  \n",
            "2               -0.46221             -0.217762       NaN  -0.949492  \n",
            "3               -0.46221             -0.217762       NaN  -0.949492  \n",
            "6               -0.46221             -0.217762       NaN   0.746766  \n",
            "7               -0.46221             -0.217762       NaN  -0.949492  \n",
            "8               -0.46221             -0.217762       NaN   1.170830  \n",
            "...                  ...                   ...       ...        ...  \n",
            "170741          -0.46221             -0.217762       NaN  -0.949492  \n",
            "170742          -0.46221             -0.217762       NaN   1.170830  \n",
            "170743          -0.46221             -0.217762       NaN  -0.016550  \n",
            "170744          -0.46221             -0.217762       NaN  -0.949492  \n",
            "170745          -0.46221             -0.217762       NaN  -0.949492  \n",
            "\n",
            "[170742 rows x 15 columns]\n"
          ]
        },
        {
          "output_type": "stream",
          "name": "stderr",
          "text": [
            "<ipython-input-57-28163a61fc94>:2: FutureWarning: The default value of numeric_only in DataFrame.std is deprecated. In a future version, it will default to False. In addition, specifying 'numeric_only=None' is deprecated. Select only valid columns or specify the value of numeric_only to silence this warning.\n",
            "  df_standardized = (df - df.mean()) / df.std()\n"
          ]
        }
      ]
    },
    {
      "cell_type": "code",
      "source": [],
      "metadata": {
        "id": "Os-hu4Lc0YTZ"
      },
      "execution_count": null,
      "outputs": []
    }
  ]
}