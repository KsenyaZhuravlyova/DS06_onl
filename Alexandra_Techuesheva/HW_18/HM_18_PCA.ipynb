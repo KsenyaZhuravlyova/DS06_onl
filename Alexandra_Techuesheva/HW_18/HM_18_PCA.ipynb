{
  "nbformat": 4,
  "nbformat_minor": 0,
  "metadata": {
    "colab": {
      "provenance": []
    },
    "kernelspec": {
      "name": "python3",
      "display_name": "Python 3"
    },
    "language_info": {
      "name": "python"
    }
  },
  "cells": [
    {
      "cell_type": "markdown",
      "source": [
        "Цель домашнего задания:уменшить размерность векторного представления слов текстуальных данных. Построить графики уменьшения размерности.\n",
        "    \n",
        "[x] Загрузка текстового файла из корневого каталога.\n",
        "\n",
        "[x] Обработка текстовых данных.\n",
        "\n",
        "[] Понижение размерности текстовых данных.\n",
        "\n",
        "[] Построить график объема информации."
      ],
      "metadata": {
        "id": "cOVO2sasgISC"
      }
    },
    {
      "cell_type": "code",
      "source": [
        "!pip install spacy\n",
        "!python -m spacy download ru_core_news_sm"
      ],
      "metadata": {
        "id": "5EtdBmjdvKh1"
      },
      "execution_count": null,
      "outputs": []
    },
    {
      "cell_type": "code",
      "source": [
        "import pandas as pd"
      ],
      "metadata": {
        "id": "i0ou94D5oB16"
      },
      "execution_count": null,
      "outputs": []
    },
    {
      "cell_type": "code",
      "execution_count": 9,
      "metadata": {
        "colab": {
          "base_uri": "https://localhost:8080/",
          "height": 74
        },
        "id": "3Lr7lEM1f_-s",
        "outputId": "de3726b5-aa13-4782-dc4e-23cb9c1d17ef"
      },
      "outputs": [
        {
          "output_type": "display_data",
          "data": {
            "text/plain": [
              "<IPython.core.display.HTML object>"
            ],
            "text/html": [
              "\n",
              "     <input type=\"file\" id=\"files-1cf8d6d9-b586-45b1-b17c-99c979fc57af\" name=\"files[]\" multiple disabled\n",
              "        style=\"border:none\" />\n",
              "     <output id=\"result-1cf8d6d9-b586-45b1-b17c-99c979fc57af\">\n",
              "      Upload widget is only available when the cell has been executed in the\n",
              "      current browser session. Please rerun this cell to enable.\n",
              "      </output>\n",
              "      <script>// Copyright 2017 Google LLC\n",
              "//\n",
              "// Licensed under the Apache License, Version 2.0 (the \"License\");\n",
              "// you may not use this file except in compliance with the License.\n",
              "// You may obtain a copy of the License at\n",
              "//\n",
              "//      http://www.apache.org/licenses/LICENSE-2.0\n",
              "//\n",
              "// Unless required by applicable law or agreed to in writing, software\n",
              "// distributed under the License is distributed on an \"AS IS\" BASIS,\n",
              "// WITHOUT WARRANTIES OR CONDITIONS OF ANY KIND, either express or implied.\n",
              "// See the License for the specific language governing permissions and\n",
              "// limitations under the License.\n",
              "\n",
              "/**\n",
              " * @fileoverview Helpers for google.colab Python module.\n",
              " */\n",
              "(function(scope) {\n",
              "function span(text, styleAttributes = {}) {\n",
              "  const element = document.createElement('span');\n",
              "  element.textContent = text;\n",
              "  for (const key of Object.keys(styleAttributes)) {\n",
              "    element.style[key] = styleAttributes[key];\n",
              "  }\n",
              "  return element;\n",
              "}\n",
              "\n",
              "// Max number of bytes which will be uploaded at a time.\n",
              "const MAX_PAYLOAD_SIZE = 100 * 1024;\n",
              "\n",
              "function _uploadFiles(inputId, outputId) {\n",
              "  const steps = uploadFilesStep(inputId, outputId);\n",
              "  const outputElement = document.getElementById(outputId);\n",
              "  // Cache steps on the outputElement to make it available for the next call\n",
              "  // to uploadFilesContinue from Python.\n",
              "  outputElement.steps = steps;\n",
              "\n",
              "  return _uploadFilesContinue(outputId);\n",
              "}\n",
              "\n",
              "// This is roughly an async generator (not supported in the browser yet),\n",
              "// where there are multiple asynchronous steps and the Python side is going\n",
              "// to poll for completion of each step.\n",
              "// This uses a Promise to block the python side on completion of each step,\n",
              "// then passes the result of the previous step as the input to the next step.\n",
              "function _uploadFilesContinue(outputId) {\n",
              "  const outputElement = document.getElementById(outputId);\n",
              "  const steps = outputElement.steps;\n",
              "\n",
              "  const next = steps.next(outputElement.lastPromiseValue);\n",
              "  return Promise.resolve(next.value.promise).then((value) => {\n",
              "    // Cache the last promise value to make it available to the next\n",
              "    // step of the generator.\n",
              "    outputElement.lastPromiseValue = value;\n",
              "    return next.value.response;\n",
              "  });\n",
              "}\n",
              "\n",
              "/**\n",
              " * Generator function which is called between each async step of the upload\n",
              " * process.\n",
              " * @param {string} inputId Element ID of the input file picker element.\n",
              " * @param {string} outputId Element ID of the output display.\n",
              " * @return {!Iterable<!Object>} Iterable of next steps.\n",
              " */\n",
              "function* uploadFilesStep(inputId, outputId) {\n",
              "  const inputElement = document.getElementById(inputId);\n",
              "  inputElement.disabled = false;\n",
              "\n",
              "  const outputElement = document.getElementById(outputId);\n",
              "  outputElement.innerHTML = '';\n",
              "\n",
              "  const pickedPromise = new Promise((resolve) => {\n",
              "    inputElement.addEventListener('change', (e) => {\n",
              "      resolve(e.target.files);\n",
              "    });\n",
              "  });\n",
              "\n",
              "  const cancel = document.createElement('button');\n",
              "  inputElement.parentElement.appendChild(cancel);\n",
              "  cancel.textContent = 'Cancel upload';\n",
              "  const cancelPromise = new Promise((resolve) => {\n",
              "    cancel.onclick = () => {\n",
              "      resolve(null);\n",
              "    };\n",
              "  });\n",
              "\n",
              "  // Wait for the user to pick the files.\n",
              "  const files = yield {\n",
              "    promise: Promise.race([pickedPromise, cancelPromise]),\n",
              "    response: {\n",
              "      action: 'starting',\n",
              "    }\n",
              "  };\n",
              "\n",
              "  cancel.remove();\n",
              "\n",
              "  // Disable the input element since further picks are not allowed.\n",
              "  inputElement.disabled = true;\n",
              "\n",
              "  if (!files) {\n",
              "    return {\n",
              "      response: {\n",
              "        action: 'complete',\n",
              "      }\n",
              "    };\n",
              "  }\n",
              "\n",
              "  for (const file of files) {\n",
              "    const li = document.createElement('li');\n",
              "    li.append(span(file.name, {fontWeight: 'bold'}));\n",
              "    li.append(span(\n",
              "        `(${file.type || 'n/a'}) - ${file.size} bytes, ` +\n",
              "        `last modified: ${\n",
              "            file.lastModifiedDate ? file.lastModifiedDate.toLocaleDateString() :\n",
              "                                    'n/a'} - `));\n",
              "    const percent = span('0% done');\n",
              "    li.appendChild(percent);\n",
              "\n",
              "    outputElement.appendChild(li);\n",
              "\n",
              "    const fileDataPromise = new Promise((resolve) => {\n",
              "      const reader = new FileReader();\n",
              "      reader.onload = (e) => {\n",
              "        resolve(e.target.result);\n",
              "      };\n",
              "      reader.readAsArrayBuffer(file);\n",
              "    });\n",
              "    // Wait for the data to be ready.\n",
              "    let fileData = yield {\n",
              "      promise: fileDataPromise,\n",
              "      response: {\n",
              "        action: 'continue',\n",
              "      }\n",
              "    };\n",
              "\n",
              "    // Use a chunked sending to avoid message size limits. See b/62115660.\n",
              "    let position = 0;\n",
              "    do {\n",
              "      const length = Math.min(fileData.byteLength - position, MAX_PAYLOAD_SIZE);\n",
              "      const chunk = new Uint8Array(fileData, position, length);\n",
              "      position += length;\n",
              "\n",
              "      const base64 = btoa(String.fromCharCode.apply(null, chunk));\n",
              "      yield {\n",
              "        response: {\n",
              "          action: 'append',\n",
              "          file: file.name,\n",
              "          data: base64,\n",
              "        },\n",
              "      };\n",
              "\n",
              "      let percentDone = fileData.byteLength === 0 ?\n",
              "          100 :\n",
              "          Math.round((position / fileData.byteLength) * 100);\n",
              "      percent.textContent = `${percentDone}% done`;\n",
              "\n",
              "    } while (position < fileData.byteLength);\n",
              "  }\n",
              "\n",
              "  // All done.\n",
              "  yield {\n",
              "    response: {\n",
              "      action: 'complete',\n",
              "    }\n",
              "  };\n",
              "}\n",
              "\n",
              "scope.google = scope.google || {};\n",
              "scope.google.colab = scope.google.colab || {};\n",
              "scope.google.colab._files = {\n",
              "  _uploadFiles,\n",
              "  _uploadFilesContinue,\n",
              "};\n",
              "})(self);\n",
              "</script> "
            ]
          },
          "metadata": {}
        },
        {
          "output_type": "stream",
          "name": "stdout",
          "text": [
            "Saving lev-tolstoi-tri-medvedya.txt to lev-tolstoi-tri-medvedya (1).txt\n"
          ]
        }
      ],
      "source": [
        "from google.colab import files\n",
        "\n",
        "uploaded = files.upload()"
      ]
    },
    {
      "cell_type": "code",
      "source": [
        "# Чтение содержимого файла\n",
        "with open('lev-tolstoi-tri-medvedya.txt', 'r') as file:\n",
        "    content = file.read()\n",
        "\n",
        "# Вывод содержимого файла\n",
        "print(content)"
      ],
      "metadata": {
        "colab": {
          "base_uri": "https://localhost:8080/"
        },
        "id": "dggkM8VQlPjd",
        "outputId": "51b10214-93f4-4e1e-e03f-17150a4da384"
      },
      "execution_count": 10,
      "outputs": [
        {
          "output_type": "stream",
          "name": "stdout",
          "text": [
            "Три медведя - Лев Толстой\n",
            "Одна девочка ушла из дома в лес. В лесу она заблудилась и стала искать дорогу домой, да не нашла, а пришла в лесу к домику.\n",
            "Дверь была отворена: она посмотрела в дверь, видит — в домике никого нет, и вошла. В домике этом жили три медведя. Один медведь был отец, звали его Михаил Иваныч. Он был большой и лохматый. Другой была медведица. Она была поменьше, и звали ее Настасья Петровна. Третий был маленький медвежонок, и звали его Мишутка. Медведей не было дома, они ушли гулять по лесу.\n",
            "В домике было две комнаты: одна столовая, другая спальня. Девочка вошла в столовую и увидела на столе три чашки с похлебкой. Первая чашка, очень большая, была Михайлы Ивановичева. Вторая чашка, поменьше, была Настасьи Петровнина; третья, синенькая чашечка, была Мишуткина. Подле каждой чашки лежала ложка: большая, средняя и маленькая.\n",
            "Девочка взяла самую большую ложку и похлебала из самой большой чашки; потом взяла среднюю ложку и похлебала из средней чашки, потом взяла маленькую ложечку и похлебала из синенькой чашечки; и Мишуткина похлебка ей показалась лучше всех.\n",
            "Девочка захотела сесть и видит у стола три стула: один большой, Михайлы Иваныча, другой поменьше, Настасьи Петровнин, и третий, маленький, с синенькой подушечкой — Мишуткин. Она полезла на большой стул и упала; потом села на средний стул, на нем было неловко, потом села на маленький стульчик и засмеялась, так было хорошо. Она взяла синенькую чашечку на колена и стала есть. Поела всю похлебку и стала качаться на стуле.\n",
            "Стульчик проломился, и она упала на пол. Она встала, подняла стульчик и пошла в другую горницу. Там стояли три кровати: одна большая — Михайлы Иванычева, другая средняя — Настасьи Петровнина, третья маленькая — Мишенькина. Девочка легла в большую, ей было слишком просторно; легла в среднюю — было слишком высоко; легла в маленькую — кроватка пришлась ей как раз впору, и она заснула.\n",
            "А медведи пришли домой голодные и захотели обедать. Большой медведь взял свою чашку, взглянул и заревел страшным голосом: «Кто хлебал в моей чашке!»\n",
            "Настасья Петровна посмотрела свою чашку и зарычала не так громко: «Кто хлебал в моей чашке!»\n",
            "А Мишутка увидал свою пустую чашечку и запищал тонким голосом: «Кто хлебал в моей чашке и все выхлебал!»\n",
            "Михайло Иваныч взглянул на свой стул и зарычал страшным голосом: «Кто сидел на моем стуле и сдвинул его с места!»\n",
            "Настасья Петровна взглянула на свой стул и зарычала не так громко: «Кто сидел на моем стуле и сдвинул его с места!»\n",
            "Мишутка взглянул на свой сломанный стульчик и пропищал: «Кто сидел на моем стуле и сломал его!»\n",
            "Медведи пришли в другую горницу. «Кто ложился в мою постель и смял ее!»— заревел Михайло Иваныч страшным голосом. «Кто ложился в мою постель и смял ее!» — зарычала Настасья Петровна не так громко. А Мишенька подставил скамеечку, полез в свою кроватку и запищал тонким голосом: «Кто ложился в мою постель!» И вдруг он увидал девочку и завизжал так, как будто его режут: «Вот она! Держи, держи! Вот она! Вот она! Ай-яяй! Держи!»\n",
            "Он хотел ее укусить. Девочка открыла глаза, увидела медведей и бросилась к окну. Окно было открыто, она выскочила в окно и убежала. И медведи не догнали ее.\n",
            "❉❉❉\n",
            "Конец сказки Льва Толстого «Три медведя»\n",
            "\n"
          ]
        }
      ]
    },
    {
      "cell_type": "code",
      "source": [
        "import re\n",
        "\n",
        "def extract_words(text):\n",
        "    # Разделение текста на слова, игнорируя знаки препинания\n",
        "    words = re.findall(r'\\b\\w+\\b', text.lower())\n",
        "\n",
        "    return words\n",
        "\n",
        "def process_text(file_path):\n",
        "    with open(file_path, 'r', encoding='utf-8') as file:\n",
        "        text = file.read()\n",
        "\n",
        "    # Извлечение слов из текста\n",
        "    word_list = extract_words(text)\n",
        "\n",
        "    # Подсчет уникальных слов\n",
        "    unique_words = set(word_list)\n",
        "    unique_word_count = len(unique_words)\n",
        "\n",
        "    return {\n",
        "        \"total_words\": len(word_list),\n",
        "        \"unique_word_count\": unique_word_count,\n",
        "        \"unique_words\": list(unique_words)\n",
        "    }\n",
        "\n",
        "file_path = 'lev-tolstoi-tri-medvedya.txt'\n",
        "result = process_text(file_path)\n",
        "\n",
        "# Вывод результатов\n",
        "print(\"Общее количество слов в тексте:\", result[\"total_words\"])\n",
        "print(\"Уникальное количество слов:\", result[\"unique_word_count\"])\n"
      ],
      "metadata": {
        "colab": {
          "base_uri": "https://localhost:8080/"
        },
        "id": "8W55Kwciqwk7",
        "outputId": "925730dd-7ff7-4b1b-dd1b-15ef048fe4af"
      },
      "execution_count": 36,
      "outputs": [
        {
          "output_type": "stream",
          "name": "stdout",
          "text": [
            "Общее количество слов в тексте: 516\n",
            "Уникальное количество слов: 232\n"
          ]
        }
      ]
    },
    {
      "cell_type": "code",
      "source": [
        "print(result[\"unique_words\"])"
      ],
      "metadata": {
        "colab": {
          "base_uri": "https://localhost:8080/"
        },
        "id": "nXhR0zd-1aEQ",
        "outputId": "11193ba9-378b-4f95-eb33-ead3cbab1e67"
      },
      "execution_count": 41,
      "outputs": [
        {
          "output_type": "stream",
          "name": "stdout",
          "text": [
            "['медведица', 'и', 'похлебку', 'пришла', 'не', 'чашечку', 'горницу', 'другая', 'искать', 'маленький', 'взяла', 'сесть', 'третья', 'чашечки', 'мишуткин', 'встала', 'другую', 'сдвинул', 'скамеечку', 'яяй', 'завизжал', 'подставил', 'похлебка', 'лохматый', 'столе', 'увидал', 'отец', 'тонким', 'видит', 'столовую', 'этом', 'пришлась', 'пустую', 'выхлебал', 'медведь', 'открыто', 'взглянула', 'синенькую', 'упала', 'очень', 'ей', 'нем', 'петровнин', 'пошла', 'просторно', 'маленькую', 'михайло', 'одна', 'а', 'иванычева', 'нет', 'стояли', 'раз', 'постель', 'михаил', 'вдруг', 'ложку', 'стула', 'ушла', 'мишуткина', 'толстого', 'петровнина', 'села', 'пропищал', 'по', 'ивановичева', 'толстой', 'у', 'неловко', 'сломал', 'маленькая', 'ложка', 'страшным', 'обедать', 'синенькой', 'с', 'проломился', 'мишенькина', 'да', 'они', 'ай', 'к', 'иваныч', 'две', 'иваныча', 'поела', 'медведей', 'дверь', 'стала', 'домику', 'кровати', 'столовая', 'впору', 'как', 'убежала', 'так', 'лесу', 'третий', 'гулять', 'на', 'домике', 'заснула', 'дома', 'он', 'запищал', 'другой', 'медвежонок', 'девочку', 'льва', 'вторая', 'чашка', 'михайлы', 'настасьи', 'моей', 'все', 'увидела', 'поменьше', 'захотели', 'пришли', 'легла', 'никого', 'хорошо', 'его', 'в', 'свою', 'самую', 'смял', 'стуле', 'конец', 'комнаты', 'средней', 'вот', 'была', 'ложился', 'держи', 'домой', 'подняла', 'медведя', 'глаза', 'подушечкой', 'жили', 'лежала', 'медведи', 'окну', 'мишутка', 'средняя', 'стул', 'отворена', 'похлебала', 'нашла', 'хлебал', 'захотела', 'ее', 'полезла', 'голодные', 'ушли', 'заревел', 'бросилась', 'взял', 'голосом', 'стола', 'она', 'звали', 'настасья', 'свой', 'там', 'три', 'большую', 'места', 'лев', 'был', 'ложечку', 'зарычала', 'кроватку', 'качаться', 'пол', 'кто', 'один', 'всех', 'догнали', 'высоко', 'спальня', 'среднюю', 'дорогу', 'засмеялась', 'было', 'взглянул', 'будто', 'стульчик', 'самой', 'слишком', 'лес', 'каждой', 'потом', 'хотел', 'большая', 'посмотрела', 'мишенька', 'чашечка', 'кроватка', 'сломанный', 'большой', 'чашки', 'колена', 'чашке', 'режут', 'синенькая', 'есть', 'показалась', 'чашку', 'сидел', 'укусить', 'мою', 'громко', 'выскочила', 'похлебкой', 'заблудилась', 'открыла', 'всю', 'средний', 'моем', 'первая', 'петровна', 'сказки', 'лучше', 'из', 'зарычал', 'полез', 'девочка', 'подле', 'вошла', 'окно']\n"
          ]
        }
      ]
    },
    {
      "cell_type": "code",
      "source": [
        "import spacy\n",
        "from spacy.lang.ru import Russian\n",
        "\n",
        "# Загрузка предварительно обученной модели для русского языка\n",
        "nlp = spacy.load(\"ru_core_news_sm\")\n",
        "\n",
        "# Обработка текста\n",
        "doc = nlp(content)\n",
        "\n",
        "def get_word_vectors(words):\n",
        "    '''\n",
        "    Функция конвертирует список слов в их векторное представление\n",
        "    '''\n",
        "    ar = []\n",
        "    for i in words:\n",
        "        ar.append(nlp(i).vector)\n",
        "    return ar\n",
        "\n",
        "# Получение векторов для уникальных слов\n",
        "word_vector_list = get_word_vectors(result[\"unique_words\"])"
      ],
      "metadata": {
        "id": "62-zNiBcv4D6"
      },
      "execution_count": 43,
      "outputs": []
    },
    {
      "cell_type": "code",
      "source": [
        "# Вывод векторов\n",
        "#for word, vector in zip(result[\"unique_words\"], word_vector_list):\n",
        "    #print(f\"Слово: {word}, Вектор: {vector}\")"
      ],
      "metadata": {
        "id": "tRB56mWSygpb"
      },
      "execution_count": null,
      "outputs": []
    },
    {
      "cell_type": "code",
      "source": [
        "word_vector_list[0]"
      ],
      "metadata": {
        "colab": {
          "base_uri": "https://localhost:8080/"
        },
        "id": "NjjJ0KLA2KZB",
        "outputId": "e6631f8e-6d06-4193-a80a-4fb9e373e676"
      },
      "execution_count": 45,
      "outputs": [
        {
          "output_type": "execute_result",
          "data": {
            "text/plain": [
              "array([-1.2411847 ,  3.378463  , -0.8902735 ,  0.56886697,  0.68792313,\n",
              "       -0.10710011,  0.11617315, -2.3000093 , -0.70104957, -0.7740142 ,\n",
              "       -0.38665944,  0.7221863 , -2.136806  ,  0.39461085,  2.5061507 ,\n",
              "        1.1330273 , -1.4692509 , -0.45310932, -1.3187152 ,  0.22324942,\n",
              "       -1.8308098 ,  0.06689811, -0.89662236,  0.23845011, -1.8569558 ,\n",
              "       -0.5589424 ,  2.0481093 , -0.8565359 , -0.07473028, -0.40922883,\n",
              "       -1.2872043 , -0.56676567,  1.908834  , -0.59564906, -0.9880081 ,\n",
              "       -0.37848258, -0.20347857,  0.07178262,  3.6407666 ,  6.2596498 ,\n",
              "        2.4329839 , -1.829563  ,  1.9315815 ,  0.15919948,  0.48325774,\n",
              "        0.603062  , -1.154542  ,  0.0982371 ,  1.9895258 , -1.0694482 ,\n",
              "       -1.0391626 ,  1.6870759 ,  1.6322604 , -0.27137542,  1.4728136 ,\n",
              "       -1.7129202 , -1.7398186 ,  1.4601424 , -0.27816537,  0.66221297,\n",
              "       -2.0339298 ,  0.16861692,  1.59251   ,  0.14341916, -0.88421094,\n",
              "       -0.00840774,  2.850571  , -1.1332352 ,  0.18190035,  1.0947912 ,\n",
              "       -1.6474824 , -2.1276932 ,  0.46095476,  0.6289909 , -0.21444833,\n",
              "       -0.17379738, -1.0345395 , -1.3247944 , -0.25948513,  1.4492435 ,\n",
              "        1.8730637 , -0.6780255 ,  0.5977883 , -1.141137  ,  0.39561337,\n",
              "       -1.0011458 , -0.6593056 , -2.6190329 , -0.2731233 , -1.1729889 ,\n",
              "        1.4285713 ,  0.42063326, -0.67172384,  1.4203914 ,  0.41642594,\n",
              "       -0.6572595 ], dtype=float32)"
            ]
          },
          "metadata": {},
          "execution_count": 45
        }
      ]
    },
    {
      "cell_type": "markdown",
      "source": [
        "Стандартизация векторов слов"
      ],
      "metadata": {
        "id": "a5MzwEOC34oE"
      }
    },
    {
      "cell_type": "code",
      "source": [
        "from sklearn.preprocessing import StandardScaler\n",
        "from sklearn.decomposition import PCA\n",
        "import matplotlib.pyplot as plt\n",
        "\n",
        "\n",
        "# Стандартизация векторов слов\n",
        "scaler = StandardScaler()\n",
        "scaled_vectors = scaler.fit_transform(word_vector_list)\n",
        "\n",
        "# Применение PCA\n",
        "pca = PCA(n_components=None)\n",
        "reduced_vectors = pca.fit_transform(scaled_vectors)\n",
        "\n",
        "# Количество выбранных компонент\n",
        "n_components = pca.explained_variance_ratio_.shape[0]\n",
        "\n",
        "print(f\"Выбрано {n_components} компонент\")\n",
        "\n",
        "# Визуализация\n",
        "plt.scatter(reduced_vectors[:, 0], reduced_vectors[:, 1])\n",
        "plt.title('PCA векторов слов')\n",
        "plt.xlabel('Главная компонента 1')\n",
        "plt.ylabel('Главная компонента 2')\n",
        "plt.show()"
      ],
      "metadata": {
        "colab": {
          "base_uri": "https://localhost:8080/",
          "height": 490
        },
        "id": "RItPBkpz350S",
        "outputId": "934c1857-c42b-4992-f19d-5697afa72cf4"
      },
      "execution_count": 47,
      "outputs": [
        {
          "output_type": "stream",
          "name": "stdout",
          "text": [
            "Выбрано 96 компонент\n"
          ]
        },
        {
          "output_type": "display_data",
          "data": {
            "text/plain": [
              "<Figure size 640x480 with 1 Axes>"
            ],
            "image/png": "[encoded data removed]"
          },
          "metadata": {}
        }
      ]
    },
    {
      "cell_type": "code",
      "source": [
        "import numpy as np\n",
        "import matplotlib.pyplot as plt\n",
        "\n",
        "# Суммируем объясненную дисперсию для каждой компоненты\n",
        "cumulative_explained_variance = np.cumsum(pca.explained_variance_ratio_)\n",
        "\n",
        "# Постройте график объема информации\n",
        "plt.plot(range(1, len(cumulative_explained_variance) + 1), cumulative_explained_variance, marker='o')\n",
        "plt.title('График объема информации')\n",
        "plt.xlabel('Количество главных компонент')\n",
        "plt.ylabel('Суммарная объясненная дисперсия')\n",
        "plt.show()"
      ],
      "metadata": {
        "colab": {
          "base_uri": "https://localhost:8080/",
          "height": 472
        },
        "id": "hv5Rtdw738AI",
        "outputId": "94e5f90d-5be7-4204-c3f6-d8bed97a9487"
      },
      "execution_count": 48,
      "outputs": [
        {
          "output_type": "display_data",
          "data": {
            "text/plain": [
              "<Figure size 640x480 with 1 Axes>"
            ],
            "image/png": "[encoded data removed]"
          },
          "metadata": {}
        }
      ]
    }
  ]
}