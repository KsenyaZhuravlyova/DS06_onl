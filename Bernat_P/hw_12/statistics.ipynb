{
  "cells": [
    {
      "cell_type": "markdown",
      "metadata": {
        "id": "AMvEoLUMNjs8"
      },
      "source": [
        "<p><b>Подключение библиотек и функций</b></p>"
      ]
    },
    {
      "cell_type": "code",
      "execution_count": 2,
      "metadata": {
        "collapsed": true,
        "id": "7Z6HqeLnNjs-"
      },
      "outputs": [],
      "source": [
        "import numpy as np\n",
        "from scipy import stats\n",
        "import matplotlib.pyplot as plt\n",
        "%matplotlib inline"
      ]
    },
    {
      "cell_type": "code",
      "execution_count": 63,
      "metadata": {
        "collapsed": true,
        "id": "kbSFq8huNjtD"
      },
      "outputs": [],
      "source": [
        "def getSE(sigma, n):\n",
        "    return sigma / np.sqrt(n)\n",
        "\n",
        "def getSE2(sigma1, n1, sigma2, n2):\n",
        "    return np.sqrt(sigma1**2 / n1 + sigma2**2 / n2)\n",
        "\n",
        "def getZ(x, mu, se):\n",
        "    return (x - mu) / se\n",
        "\n",
        "def getPrByX(x, mu, se):\n",
        "    return stats.norm.cdf(x, loc=mu, scale=se)\n",
        "\n",
        "def getPrByZ(z):\n",
        "    return stats.norm.cdf(z, loc=0, scale=1)\n",
        "\n",
        "def getZbyPr2Tail(pr):\n",
        "    return stats.norm.ppf((1-pr)/2, loc=0, scale=1)\n",
        "\n",
        "def getZbyPr1Tail(pr):\n",
        "    return stats.norm.ppf(1-pr, loc=0, scale=1)\n",
        "\n",
        "def getPValue1Tail_Norm(z):\n",
        "    return 1 - stats.norm.cdf(z, loc=0, scale=1)\n",
        "\n",
        "def getPValue2Tail_Norm(z):\n",
        "    return 2 * (stats.norm.cdf(-abs(z), loc=0, scale=1))\n",
        "\n",
        "def getPValue2Tail_T(t, df):\n",
        "    return 2 * stats.t.cdf(-abs(t), df=df)\n",
        "\n",
        "def getPValue1Tail_T(t, df):\n",
        "    return 1 - stats.t.cdf(t, df=df)\n",
        "\n",
        "def get_dof_two(sigma1, n1, sigma2, n2):\n",
        "    \"\"\"Calculate a degree of freedom using Welch–Satterthwaite equation.\"\"\"\n",
        "    return (sigma1**2/n1 + sigma2**2/n2)**2/((sigma1**2)**2/(n1**2*(n1-1)) + (sigma2**2)**2/(n2**2*(n2-1)))"
      ]
    },
    {
      "cell_type": "markdown",
      "metadata": {
        "id": "FKzKk_rRNjtI"
      },
      "source": [
        "<p>Создание генеральных совокупностей</p>"
      ]
    },
    {
      "cell_type": "code",
      "execution_count": 4,
      "metadata": {
        "collapsed": true,
        "id": "BYeufg7xNjtL"
      },
      "outputs": [],
      "source": [
        "mu1 = 70\n",
        "sigma1 = 30\n",
        "population1 = stats.norm.rvs(size=10000, loc=mu1, scale=sigma1)"
      ]
    },
    {
      "cell_type": "code",
      "execution_count": 5,
      "metadata": {
        "collapsed": true,
        "id": "N0xtI0-pNjtQ"
      },
      "outputs": [],
      "source": [
        "mu2 = 60\n",
        "sigma2 = 20\n",
        "population2 = stats.norm.rvs(size=10000, loc=mu2, scale=sigma2)"
      ]
    },
    {
      "cell_type": "code",
      "execution_count": 6,
      "metadata": {
        "collapsed": true,
        "id": "YY86I0d8NjtS"
      },
      "outputs": [],
      "source": [
        "mu3 = 2\n",
        "sigma3 = 2\n",
        "diff = stats.norm.rvs(size=10000, loc=mu3, scale=sigma3)\n",
        "population3 = list(zip(population1, population1 + diff))"
      ]
    },
    {
      "cell_type": "markdown",
      "metadata": {
        "id": "gTp2TACZNjtW"
      },
      "source": [
        "<p><b><i>Выборка</i></b></p>"
      ]
    },
    {
      "cell_type": "markdown",
      "metadata": {
        "id": "DMQ_-gVpNjtW"
      },
      "source": [
        "<p>Исходные данные</p>"
      ]
    },
    {
      "cell_type": "code",
      "execution_count": 7,
      "metadata": {
        "colab": {
          "base_uri": "https://localhost:8080/"
        },
        "id": "LbDK6wcYNjtW",
        "outputId": "467cc94c-9bfa-4f72-e412-4b8735c94c32"
      },
      "outputs": [
        {
          "data": {
            "text/plain": [
              "array([ 50.4253364 ,   6.23665308,  23.06275528,  61.4301444 ,\n",
              "        91.00665934,  68.40666923,  65.1854169 , 130.40948791,\n",
              "        57.32094633,  27.34394959,  25.31848483,  72.61078507,\n",
              "        28.48771724,  68.07844205,  36.22809522, 108.64950876,\n",
              "        72.65316942,  86.97599776,  60.92592692,  60.2372188 ,\n",
              "        66.96587548, 118.40948086,  75.88699979,  50.42404383,\n",
              "        81.88728647,  64.57638051,  67.63648168,  37.80349559,\n",
              "       101.71606946, -44.50890823,  50.39847818, 107.75170365,\n",
              "        70.52070489,  45.50563914,  44.44048775,  50.74461774,\n",
              "        28.95748223,  87.97090598,  53.22357769, 122.73459977])"
            ]
          },
          "execution_count": 7,
          "metadata": {},
          "output_type": "execute_result"
        }
      ],
      "source": [
        "n = 40\n",
        "sample_2015 = np.random.choice(population1, n, replace=False)\n",
        "sample_2015"
      ]
    },
    {
      "cell_type": "markdown",
      "metadata": {
        "id": "wJtW8otANjtX"
      },
      "source": [
        "<p>Статистики выборки</p>"
      ]
    },
    {
      "cell_type": "code",
      "execution_count": 8,
      "metadata": {
        "colab": {
          "base_uri": "https://localhost:8080/"
        },
        "id": "HVVBEmFuNjtX",
        "outputId": "9084586b-42fe-421e-e1e9-84a9904096f3"
      },
      "outputs": [
        {
          "name": "stdout",
          "output_type": "stream",
          "text": [
            "62.10096917417411\n",
            "1094.2233598841754\n",
            "33.079047142929845\n"
          ]
        }
      ],
      "source": [
        "#Среднее значение\n",
        "x_bar = sample_2015.mean() # Your code here\n",
        "print(x_bar)\n",
        "\n",
        "#Выборочная дисперсия\n",
        "var_2015 = sample_2015.var() # Your code here\n",
        "print(var_2015)\n",
        "\n",
        "#Стандартное отклонение (несмещенное)\n",
        "s_2015 = sample_2015.std() # Your code here\n",
        "print(s_2015)"
      ]
    },
    {
      "cell_type": "markdown",
      "metadata": {
        "id": "xGtE_jXqNjtY"
      },
      "source": [
        "<p><b><i>Доверительный интервал</i></b></p>"
      ]
    },
    {
      "cell_type": "code",
      "execution_count": 9,
      "metadata": {
        "collapsed": true,
        "id": "qpKgezxANjtY"
      },
      "outputs": [],
      "source": [
        "#Уровни доверия: 95%, 90%, 80%\n",
        "prs = np.array([0.95, 0.9, 0.8])"
      ]
    },
    {
      "cell_type": "code",
      "execution_count": 10,
      "metadata": {
        "colab": {
          "base_uri": "https://localhost:8080/"
        },
        "id": "pn6EKxuMNjtZ",
        "outputId": "91f2b3cd-7514-46c7-b67f-b8a076c71856"
      },
      "outputs": [
        {
          "data": {
            "text/plain": [
              "5.230256589987185"
            ]
          },
          "execution_count": 10,
          "metadata": {},
          "output_type": "execute_result"
        }
      ],
      "source": [
        "#Стандартная ошибка\n",
        "se = getSE(s_2015,n) # Your code here\n",
        "se"
      ]
    },
    {
      "cell_type": "code",
      "execution_count": 11,
      "metadata": {
        "colab": {
          "base_uri": "https://localhost:8080/"
        },
        "id": "Er4IMmsXNjta",
        "outputId": "f7cb7f55-3e4b-4b15-8404-36f37b74f61a"
      },
      "outputs": [
        {
          "name": "stdout",
          "output_type": "stream",
          "text": [
            "Уровень доверия 95%: (51.849855, 72.352084)\n",
            "Уровень доверия 90%: (53.497963, 70.703976)\n",
            "Уровень доверия 80%: (55.398126, 68.803813)\n"
          ]
        }
      ],
      "source": [
        "#Доверительный интервал\n",
        "from scipy.stats import norm\n",
        "z = norm.ppf(1 - (1 - prs) / 2)\n",
        "lowers, uppers = x_bar - z * (s_2015 / np.sqrt(n)) ,x_bar + z * (s_2015 / np.sqrt(n))  # Your code her\n",
        "for i in range(len(prs)):\n",
        "    print(\"Уровень доверия %i%%: (%f, %f)\" % (prs[i]*100, lowers[i], uppers[i]))"
      ]
    },
    {
      "cell_type": "code",
      "execution_count": 12,
      "metadata": {
        "colab": {
          "base_uri": "https://localhost:8080/"
        },
        "id": "GAmN7ihONjta",
        "outputId": "a33c0548-dc6f-484f-cb74-d76149edf2e0"
      },
      "outputs": [
        {
          "name": "stdout",
          "output_type": "stream",
          "text": [
            "t-распределение\n",
            "Уровень доверия 95%: (51.521777, 72.680162)\n",
            "Уровень доверия 90%: (53.288640, 70.913298)\n",
            "Уровень доверия 80%: (55.282605, 68.919333)\n"
          ]
        }
      ],
      "source": [
        "#Доверительный интервал для t-распределения (при небольших n)\n",
        "from scipy.stats import t\n",
        "t = np.array([stats.t.ppf((1 + pr) / 2, n - 1) for pr in prs])\n",
        "lowers_t, uppers_t = x_bar - t * (s_2015 / np.sqrt(n)) ,x_bar + t * (s_2015 / np.sqrt(n))  # Your code here\n",
        "print(\"t-распределение\")\n",
        "for i in range(len(prs)):\n",
        "    print(\"Уровень доверия %i%%: (%f, %f)\" % (prs[i]*100, lowers_t[i], uppers_t[i]))"
      ]
    },
    {
      "cell_type": "markdown",
      "metadata": {
        "id": "_dgCk0Z9Njta"
      },
      "source": [
        "<p>или</p>"
      ]
    },
    {
      "cell_type": "code",
      "execution_count": 13,
      "metadata": {
        "colab": {
          "base_uri": "https://localhost:8080/"
        },
        "id": "T5pBlgBhNjta",
        "outputId": "47abc1b3-4472-4a97-c5a6-e28f9c255bc7"
      },
      "outputs": [
        {
          "data": {
            "text/plain": [
              "array([0.37473572, 0.31448813, 0.24502652])"
            ]
          },
          "execution_count": 13,
          "metadata": {},
          "output_type": "execute_result"
        }
      ],
      "source": [
        "#z-значения для двустороннего интервала\n",
        "z = norm.ppf(1 - (1 - prs) / 2)\n",
        "zs = z / (s_2015 / np.sqrt(n))# Your code here\n",
        "zs"
      ]
    },
    {
      "cell_type": "code",
      "execution_count": 15,
      "metadata": {
        "colab": {
          "base_uri": "https://localhost:8080/"
        },
        "id": "oCfrqYiDNjtb",
        "outputId": "142536bb-353f-4fe1-b2e5-b734e72cf344"
      },
      "outputs": [
        {
          "data": {
            "text/plain": [
              "array([10.25111455,  8.60300652,  6.70284352])"
            ]
          },
          "execution_count": 15,
          "metadata": {},
          "output_type": "execute_result"
        }
      ],
      "source": [
        "#Предельная ошибка\n",
        "z = norm.ppf(1 - (1 - prs) / 2)\n",
        "delta = z * (s_2015 / np.sqrt(n)) # Your code here\n",
        "delta"
      ]
    },
    {
      "cell_type": "code",
      "execution_count": 16,
      "metadata": {
        "colab": {
          "base_uri": "https://localhost:8080/"
        },
        "id": "qKR4lFwQNjtb",
        "outputId": "ee11a3f7-7b57-4797-ac07-725d4b5f008f"
      },
      "outputs": [
        {
          "name": "stdout",
          "output_type": "stream",
          "text": [
            "Уровень доверия 95%: (51.849855, 72.352084)\n",
            "Уровень доверия 90%: (53.497963, 70.703976)\n",
            "Уровень доверия 80%: (55.398126, 68.803813)\n"
          ]
        }
      ],
      "source": [
        "#Доверительный интервал\n",
        "lowers = x_bar - z * (s_2015 / np.sqrt(n)) # Your code here\n",
        "uppers = x_bar + z * (s_2015 / np.sqrt(n)) # Your code here\n",
        "\n",
        "for i in range(len(prs)):\n",
        "    print(\"Уровень доверия %i%%: (%f, %f)\" % (prs[i]*100, lowers[i], uppers[i]))"
      ]
    },
    {
      "cell_type": "markdown",
      "metadata": {
        "id": "XHk93H7MNjtb"
      },
      "source": [
        "<p>$$H_0: \\mu_{2014}=\\mu_{2015}$$<p>\n",
        "<p>$$H_A: \\mu_{2014} \\neq \\mu_{2015}$$<p>"
      ]
    },
    {
      "cell_type": "markdown",
      "metadata": {
        "id": "r5M3vaFxNjtb"
      },
      "source": [
        "<p><b><i>Выборка</i></b></p>"
      ]
    },
    {
      "cell_type": "markdown",
      "metadata": {
        "id": "LMl5AUPKNjtb"
      },
      "source": [
        "<p>Исходные данные</p>"
      ]
    },
    {
      "cell_type": "code",
      "execution_count": 17,
      "metadata": {
        "colab": {
          "base_uri": "https://localhost:8080/"
        },
        "id": "chyMyFGeNjtb",
        "outputId": "59ff95eb-fb46-4e51-b0f7-294ee42f8d8b"
      },
      "outputs": [
        {
          "data": {
            "text/plain": [
              "array([ 86.89471151,  35.75536467,  87.01687118,  65.23113929,\n",
              "        50.02580198,   2.05959631,  36.89114071,   1.22478153,\n",
              "       104.57593563,  63.60118673,  70.04518903,  78.42613244,\n",
              "        86.07395243,  78.58902055,  65.7466731 ,  92.03042017,\n",
              "        58.25205827,  66.6632773 ,   9.72465031,  94.26120394,\n",
              "       104.50175341,  39.79731689, 139.35222477,  59.12865461,\n",
              "        57.11245148,  88.35249342,  91.35040993,  90.0130167 ,\n",
              "        17.69401333,  75.90024486,  53.04712134,  61.6214508 ,\n",
              "        81.90187564,  65.50174962,  61.27514707,  51.79674531,\n",
              "        65.48666361,  79.63404971,  86.17908374,  33.62765162])"
            ]
          },
          "execution_count": 17,
          "metadata": {},
          "output_type": "execute_result"
        }
      ],
      "source": [
        "mu_2014 = 65\n",
        "n = 40\n",
        "alpha = 0.05 #уровень значимости\n",
        "sample_2015 = np.random.choice(population1, n, replace=False)\n",
        "sample_2015"
      ]
    },
    {
      "cell_type": "code",
      "execution_count": 22,
      "metadata": {
        "colab": {
          "base_uri": "https://localhost:8080/"
        },
        "id": "nXY7zISkNjtb",
        "outputId": "cb143d6d-48d5-408e-e710-61cc0ec47724"
      },
      "outputs": [
        {
          "name": "stdout",
          "output_type": "stream",
          "text": [
            "62.10096917417411\n",
            "28.39073266402354\n",
            "4.488968982962716\n"
          ]
        }
      ],
      "source": [
        "#Среднее значение\n",
        "x_bar_2015 = sample_2015.mean() # Your code here\n",
        "print(x_bar)\n",
        "\n",
        "#Стандартное отклонение (несмещенное)\n",
        "s_2015 = sample_2015.std() # Your code here\n",
        "print(s_2015)\n",
        "\n",
        "#Стандартная ошибка\n",
        "se = getSE(s_2015,n) # Your code here\n",
        "print(se)"
      ]
    },
    {
      "cell_type": "markdown",
      "metadata": {
        "id": "ab4I0PKINjtb"
      },
      "source": [
        "<p><b>Проверка гипотезы</b></p>"
      ]
    },
    {
      "cell_type": "code",
      "execution_count": 23,
      "metadata": {
        "colab": {
          "base_uri": "https://localhost:8080/"
        },
        "id": "olyMwb-3Njtc",
        "outputId": "4a262bfc-0402-4cd0-ae8a-3556ba49d39c"
      },
      "outputs": [
        {
          "data": {
            "text/plain": [
              "0.20251434732380252"
            ]
          },
          "execution_count": 23,
          "metadata": {},
          "output_type": "execute_result"
        }
      ],
      "source": [
        "#Z-score\n",
        "z = getZ(x_bar_2015,mu_2014,se) # Your code here\n",
        "z"
      ]
    },
    {
      "cell_type": "code",
      "execution_count": 24,
      "metadata": {
        "colab": {
          "base_uri": "https://localhost:8080/"
        },
        "id": "CC7K7oYBNjtc",
        "outputId": "e7cfdf81-f77c-4605-9b8c-ef2393fab3c5"
      },
      "outputs": [
        {
          "data": {
            "text/plain": [
              "0.4197573216188969"
            ]
          },
          "execution_count": 24,
          "metadata": {},
          "output_type": "execute_result"
        }
      ],
      "source": [
        "#P-Value\n",
        "pvalue = getPValue1Tail_Norm(z) # Your code here\n",
        "pvalue"
      ]
    },
    {
      "cell_type": "code",
      "execution_count": 40,
      "metadata": {
        "colab": {
          "base_uri": "https://localhost:8080/"
        },
        "id": "mtymTRooNjtc",
        "outputId": "39c65136-d6a9-4961-a2c1-6a7a95a98f84"
      },
      "outputs": [
        {
          "data": {
            "text/plain": [
              "0.8415064716470805"
            ]
          },
          "execution_count": 40,
          "metadata": {},
          "output_type": "execute_result"
        }
      ],
      "source": [
        "#P-Value для t-распределения\n",
        "df = n - 1 #степень свободы\n",
        "s_t_2015 = sample_2015.std(ddof=1)\n",
        "se_t_2015 = getSE(s_t_2015,n)\n",
        "t = getZ(x_bar_2015, mu_2014,se_t_2015)\n",
        "pvalue_t = getPValue2Tail_Norm(t) # Your code here\n",
        "pvalue_t"
      ]
    },
    {
      "cell_type": "markdown",
      "metadata": {
        "id": "_1aV9j4ONjte"
      },
      "source": [
        "<p>или</p>"
      ]
    },
    {
      "cell_type": "code",
      "execution_count": 39,
      "metadata": {
        "colab": {
          "base_uri": "https://localhost:8080/"
        },
        "id": "KZSTlJPUNjtj",
        "outputId": "8c93883c-1803-45dd-e00f-1e25bbd04b0a"
      },
      "outputs": [
        {
          "data": {
            "text/plain": [
              "0.842545531144979"
            ]
          },
          "execution_count": 39,
          "metadata": {},
          "output_type": "execute_result"
        }
      ],
      "source": [
        "tvalue, pvalue_t = stats.ttest_1samp(sample_2015,mu_2014) # Your code here\n",
        "pvalue_t"
      ]
    },
    {
      "cell_type": "markdown",
      "metadata": {
        "id": "glSY7N0MNjtk"
      },
      "source": [
        "<p><b>Проверка гипотезы на соответствие уровню значимости $\\alpha$</b></p>"
      ]
    },
    {
      "cell_type": "code",
      "execution_count": 30,
      "metadata": {
        "colab": {
          "base_uri": "https://localhost:8080/"
        },
        "id": "joaQRpVsNjtk",
        "outputId": "41bbf021-eace-4063-c907-df16e542dcd4"
      },
      "outputs": [
        {
          "name": "stdout",
          "output_type": "stream",
          "text": [
            "alpha <= p-value\n",
            "Принимаем нулевую гипотезу (не отказываемся от нулевой гипотезы)\n"
          ]
        }
      ],
      "source": [
        "if alpha > pvalue:\n",
        "    print(\"alpha > p-value\")\n",
        "    print(\"Отказываемся от нулевую гипотезы в пользу альтернативной\")\n",
        "else:\n",
        "    print(\"alpha <= p-value\")\n",
        "    print(\"Принимаем нулевую гипотезу (не отказываемся от нулевой гипотезы)\")"
      ]
    },
    {
      "cell_type": "markdown",
      "metadata": {
        "id": "6KMuLFDINjtk"
      },
      "source": [
        "<p><b><i>Выборка</i></b></p>"
      ]
    },
    {
      "cell_type": "markdown",
      "metadata": {
        "id": "37YSzjQFNjtk"
      },
      "source": [
        "<p>Исходные данные</p>"
      ]
    },
    {
      "cell_type": "code",
      "execution_count": 31,
      "metadata": {
        "collapsed": true,
        "id": "U7ANV308Njtl"
      },
      "outputs": [],
      "source": [
        "alpha = 0.05 #уровень значимости"
      ]
    },
    {
      "cell_type": "code",
      "execution_count": 32,
      "metadata": {
        "colab": {
          "base_uri": "https://localhost:8080/"
        },
        "id": "msdXF27MNjtl",
        "outputId": "ce7b4f70-5a5f-49a2-c244-8cf664db7d18"
      },
      "outputs": [
        {
          "data": {
            "text/plain": [
              "array([[ 38.80183238,  38.72246426],\n",
              "       [ 60.42342482,  62.06969945],\n",
              "       [ 97.36959005,  98.8980478 ],\n",
              "       [ 43.07304541,  45.64943551],\n",
              "       [ 78.48638842,  79.77206487],\n",
              "       [ 78.3028912 ,  80.62764685],\n",
              "       [  8.93537618,  11.95813492],\n",
              "       [ 75.38801848,  78.51815354],\n",
              "       [ 16.38845332,  19.1063055 ],\n",
              "       [ 85.29191526,  87.30567076],\n",
              "       [ 76.0977737 ,  75.48434162],\n",
              "       [ 82.22129152,  85.32952536],\n",
              "       [ 22.13217819,  22.40599294],\n",
              "       [ 47.80226786,  48.30636505],\n",
              "       [ 78.12907021,  76.97936235],\n",
              "       [ 27.54963602,  31.76284313],\n",
              "       [ 98.50705112,  99.95998131],\n",
              "       [ 63.0434498 ,  64.02850201],\n",
              "       [ 60.33703563,  62.26219115],\n",
              "       [ 69.15759709,  73.9702951 ],\n",
              "       [ 45.31837907,  45.68888813],\n",
              "       [ 73.33808315,  75.46295415],\n",
              "       [105.06523037, 104.20543538],\n",
              "       [ 56.15185224,  58.68103463],\n",
              "       [103.89863838, 110.59867558],\n",
              "       [ 48.01867731,  52.00895298],\n",
              "       [ 96.94726479,  98.90072246],\n",
              "       [ 97.15781215, 104.03282402],\n",
              "       [ 37.55117009,  42.72352277],\n",
              "       [101.28928792, 100.92404219],\n",
              "       [ 83.5672705 ,  81.76140226],\n",
              "       [134.26824627, 137.90092489],\n",
              "       [ 80.82135004,  81.0042357 ],\n",
              "       [ 84.69343755,  87.52148158],\n",
              "       [115.1996003 , 120.27669939],\n",
              "       [ 47.125492  ,  47.79843104],\n",
              "       [ 74.88211716,  76.34292402],\n",
              "       [ 90.96953421,  93.61933418],\n",
              "       [ 53.14015955,  49.74399516],\n",
              "       [ 65.24755696,  70.46703935]])"
            ]
          },
          "execution_count": 32,
          "metadata": {},
          "output_type": "execute_result"
        }
      ],
      "source": [
        "import random\n",
        "\n",
        "n_items = 40\n",
        "sample_items = np.array(random.sample(population3, n_items))\n",
        "sample_items"
      ]
    },
    {
      "cell_type": "code",
      "execution_count": 33,
      "metadata": {
        "colab": {
          "base_uri": "https://localhost:8080/"
        },
        "id": "Qc4mUTOxNjtl",
        "outputId": "50c41534-f573-4d3a-f8f3-ef0ecd6c896a"
      },
      "outputs": [
        {
          "data": {
            "text/plain": [
              "array([ 0.07936811, -1.64627464, -1.52845775, -2.5763901 , -1.28567645,\n",
              "       -2.32475565, -3.02275874, -3.13013505, -2.71785218, -2.0137555 ,\n",
              "        0.61343208, -3.10823383, -0.27381474, -0.50409719,  1.14970785,\n",
              "       -4.2132071 , -1.45293018, -0.98505222, -1.92515551, -4.812698  ,\n",
              "       -0.37050906, -2.124871  ,  0.85979498, -2.52918239, -6.70003719,\n",
              "       -3.99027567, -1.95345767, -6.87501186, -5.17235268,  0.36524573,\n",
              "        1.80586824, -3.63267862, -0.18288565, -2.82804403, -5.0770991 ,\n",
              "       -0.67293903, -1.46080686, -2.64979997,  3.39616439, -5.21948239])"
            ]
          },
          "execution_count": 33,
          "metadata": {},
          "output_type": "execute_result"
        }
      ],
      "source": [
        "sample_diff = sample_items[:,0] - sample_items[:,1]\n",
        "sample_diff"
      ]
    },
    {
      "cell_type": "code",
      "execution_count": 47,
      "metadata": {
        "colab": {
          "base_uri": "https://localhost:8080/"
        },
        "id": "I0XyyqglNjtl",
        "outputId": "6e603b19-878e-4ab9-f3bd-ef9d3299d21b"
      },
      "outputs": [
        {
          "name": "stdout",
          "output_type": "stream",
          "text": [
            "x_bar_diff = -2.017277415946659\n",
            "s_diff = 2.2358266734683223\n",
            "se_diff = 0.35351523707587285\n"
          ]
        }
      ],
      "source": [
        "#Среднее значение\n",
        "x_bar_diff = sample_diff.mean() # Your code here\n",
        "print(\"x_bar_diff =\", x_bar_diff)\n",
        "\n",
        "#Стандартное отклонение (несмещенное)\n",
        "s_diff = sample_diff.std(ddof=1) # Your code here\n",
        "print(\"s_diff =\", s_diff)\n",
        "\n",
        "#Стандартная ошибка\n",
        "se_diff = getSE(s_diff,n) # Your code here\n",
        "print(\"se_diff =\", se_diff)"
      ]
    },
    {
      "cell_type": "markdown",
      "metadata": {
        "id": "Nv43GPS4Njtm"
      },
      "source": [
        "<p><b>Проверка гипотезы</b></p>"
      ]
    },
    {
      "cell_type": "markdown",
      "metadata": {
        "id": "b-G3vn6fNjtm"
      },
      "source": [
        "<p>$$H_0: \\mu_{diff}=0$$<p>\n",
        "<p>$$H_A: \\mu_{diff} \\neq 0$$<p>"
      ]
    },
    {
      "cell_type": "code",
      "execution_count": 48,
      "metadata": {
        "colab": {
          "base_uri": "https://localhost:8080/"
        },
        "id": "j7KWzK3ENjtm",
        "outputId": "0208c047-96a0-4f6d-b778-23006d1fc0a8"
      },
      "outputs": [
        {
          "data": {
            "text/plain": [
              "-5.706337957686681"
            ]
          },
          "execution_count": 48,
          "metadata": {},
          "output_type": "execute_result"
        }
      ],
      "source": [
        "#Z-score\n",
        "z = getZ(x_bar_diff, 0, se_diff) # Your code here\n",
        "z"
      ]
    },
    {
      "cell_type": "code",
      "execution_count": 37,
      "metadata": {
        "colab": {
          "base_uri": "https://localhost:8080/"
        },
        "id": "p6wfUY73Njtm",
        "outputId": "16da966f-06fe-411f-bf1e-279b34b4f4ae"
      },
      "outputs": [
        {
          "data": {
            "text/plain": [
              "1.1944198466825286e-30"
            ]
          },
          "execution_count": 37,
          "metadata": {},
          "output_type": "execute_result"
        }
      ],
      "source": [
        "#P-Value\n",
        "pvalue = getPValue2Tail_Norm(z) # Your code here\n",
        "pvalue"
      ]
    },
    {
      "cell_type": "code",
      "execution_count": 51,
      "metadata": {
        "colab": {
          "base_uri": "https://localhost:8080/"
        },
        "id": "03qgDD9_Njtm",
        "outputId": "b8f27c9e-ea7f-4432-e647-7395431892a7"
      },
      "outputs": [
        {
          "data": {
            "text/plain": [
              "3.708271247170603e-59"
            ]
          },
          "execution_count": 51,
          "metadata": {},
          "output_type": "execute_result"
        }
      ],
      "source": [
        "#P-Value для t-распределения\n",
        "df = n-1 # Your code here\n",
        "s_t_diff = sample_diff.std(ddof=1)\n",
        "se_t_diff = getSE(s_t_diff,n)\n",
        "t = getZ(x_bar_2015, 0,se_t_diff)\n",
        "pvalue_t = getPValue2Tail_T(t,df) # Your code here\n",
        "pvalue_t"
      ]
    },
    {
      "cell_type": "markdown",
      "metadata": {
        "id": "nBiVWhsSNjtn"
      },
      "source": [
        "<p>или</p>"
      ]
    },
    {
      "cell_type": "code",
      "execution_count": 52,
      "metadata": {
        "colab": {
          "base_uri": "https://localhost:8080/"
        },
        "id": "TwB3U1mtNjtn",
        "outputId": "201d272f-d571-431b-bc6f-627b1a262c78"
      },
      "outputs": [
        {
          "name": "stdout",
          "output_type": "stream",
          "text": [
            "t-value = -5.706337957686681\n",
            "p-value = 1.3246984253014826e-06\n"
          ]
        }
      ],
      "source": [
        "tvalue, pvalue_t = stats.ttest_rel(sample_items[:,0],sample_items[:,1]) # Your code here\n",
        "print(\"t-value =\", tvalue)\n",
        "print(\"p-value =\", pvalue_t)"
      ]
    },
    {
      "cell_type": "code",
      "execution_count": 53,
      "metadata": {
        "colab": {
          "base_uri": "https://localhost:8080/"
        },
        "id": "3OqwaYqINjtn",
        "outputId": "0696f4b3-f749-4ee5-a49d-0691a6b7d7e1"
      },
      "outputs": [
        {
          "data": {
            "text/plain": [
              "1.3246984253014826e-06"
            ]
          },
          "execution_count": 53,
          "metadata": {},
          "output_type": "execute_result"
        }
      ],
      "source": [
        "pvalue_t = 2 * stats.t.cdf(-abs(tvalue), df)\n",
        "pvalue_t"
      ]
    },
    {
      "cell_type": "markdown",
      "metadata": {
        "id": "y7WMh5vANjtn"
      },
      "source": [
        "<p><b>Проверка гипотезы на соответствие уровню значимости $\\alpha$</b></p>"
      ]
    },
    {
      "cell_type": "code",
      "execution_count": 54,
      "metadata": {
        "colab": {
          "base_uri": "https://localhost:8080/"
        },
        "id": "dZMA4lRINjto",
        "outputId": "281df22a-978c-4ca0-baf0-918635066ed1"
      },
      "outputs": [
        {
          "name": "stdout",
          "output_type": "stream",
          "text": [
            "alpha > p-value\n",
            "Отказываемся от нулевую гипотезы в пользу альтернативной\n"
          ]
        }
      ],
      "source": [
        "if alpha > pvalue:\n",
        "    print(\"alpha > p-value\")\n",
        "    print(\"Отказываемся от нулевую гипотезы в пользу альтернативной\")\n",
        "else:\n",
        "    print(\"alpha <= p-value\")\n",
        "    print(\"Принимаем нулевую гипотезу (не отказываемся от нулевой гипотезы)\")"
      ]
    },
    {
      "cell_type": "markdown",
      "metadata": {
        "id": "95GL-rHdNjto"
      },
      "source": [
        "<p><b><i>Выборка</i></b></p>"
      ]
    },
    {
      "cell_type": "markdown",
      "metadata": {
        "id": "OLeC6fsZNjto"
      },
      "source": [
        "<p>Исходные данные</p>"
      ]
    },
    {
      "cell_type": "code",
      "execution_count": 57,
      "metadata": {
        "collapsed": true,
        "id": "wDC36T3-Njto"
      },
      "outputs": [],
      "source": [
        "alpha = 0.05 #уровень значимости"
      ]
    },
    {
      "cell_type": "code",
      "execution_count": 58,
      "metadata": {
        "colab": {
          "base_uri": "https://localhost:8080/"
        },
        "id": "r4UMdfjbNjto",
        "outputId": "6f5257e3-4fb9-4a9a-fd1a-9f60eeca70dd"
      },
      "outputs": [
        {
          "data": {
            "text/plain": [
              "array([ 48.01493498,  74.51639137,  59.84743666,  25.4179072 ,\n",
              "        78.44747655,  20.10877125,   4.87721263, 110.61704733,\n",
              "        17.69401333,  80.90460341,  34.22336712,  62.20565686,\n",
              "        43.5679352 ,  64.37152439,  71.84047007,  51.90523574,\n",
              "        32.72200211,  22.30487489,  52.28447614,  55.74739155,\n",
              "        32.9913622 , 109.83964692,  69.37220739,  82.26371952,\n",
              "        50.82492582,  22.97336413, 118.18159015, 113.481446  ,\n",
              "        49.82948874,  38.46730946,  69.32846658,  56.76622463,\n",
              "        40.44166643,  75.68315349,  76.79778861,  55.35716354,\n",
              "       101.68390357,  65.80426713,  92.2527116 ,  95.44492585])"
            ]
          },
          "execution_count": 58,
          "metadata": {},
          "output_type": "execute_result"
        }
      ],
      "source": [
        "n_london = 40\n",
        "sample_london = np.random.choice(population1, n_london, replace=False)\n",
        "sample_london"
      ]
    },
    {
      "cell_type": "code",
      "execution_count": 59,
      "metadata": {
        "colab": {
          "base_uri": "https://localhost:8080/"
        },
        "id": "J-3u7B1pNjto",
        "outputId": "24c13e79-9bf5-48d7-d549-0ae9f247514f"
      },
      "outputs": [
        {
          "data": {
            "text/plain": [
              "array([ 62.53490004,  45.24068939,  34.09497871,  56.10881831,\n",
              "        59.46141285,  35.96210942,  18.03931509,  46.01049278,\n",
              "        78.73803847,  67.17060033,  39.1503874 ,  93.22183225,\n",
              "        33.35486734,  62.53075152,  61.34146157,  96.58716521,\n",
              "        30.83503039,  84.27935526,  35.64060072,  70.50281215,\n",
              "        92.47973437,  35.13027164,  53.32217244,  81.42346026,\n",
              "        43.29653713,  34.49623697,  22.55113586,  80.00189074,\n",
              "        50.71375343,  62.3643753 ,  33.96821455,  41.14022766,\n",
              "        82.86879454,  82.84101453,  27.1333984 ,  65.60246413,\n",
              "        45.2571962 ,  60.99212599,  61.60296207,  42.56563474,\n",
              "        67.68059858,  28.56678233,  49.2512586 ,  65.40835542,\n",
              "        54.05782211,  66.05183938, 101.91759065,  52.5935298 ,\n",
              "        64.44245974,  74.15598118])"
            ]
          },
          "execution_count": 59,
          "metadata": {},
          "output_type": "execute_result"
        }
      ],
      "source": [
        "n_moscow = 50\n",
        "sample_moscow = np.random.choice(population2, n_moscow, replace=False)\n",
        "sample_moscow"
      ]
    },
    {
      "cell_type": "code",
      "execution_count": 60,
      "metadata": {
        "colab": {
          "base_uri": "https://localhost:8080/"
        },
        "id": "qIYY37EANjtp",
        "outputId": "982ba366-4707-420e-a9cc-d4e5757beac8"
      },
      "outputs": [
        {
          "name": "stdout",
          "output_type": "stream",
          "text": [
            "x_bar_london = 60.73510151454981\n",
            "x_bar_moscow = 56.69366875918593\n",
            "s_london = 28.220816743055583\n",
            "s_moscow = 20.518759046878948\n",
            "se_london_moscow = 5.322663985036599\n"
          ]
        }
      ],
      "source": [
        "#Среднее значение\n",
        "x_bar_london = sample_london.mean() # Your code here\n",
        "x_bar_moscow = sample_moscow.mean() # Your code here\n",
        "print(\"x_bar_london =\", x_bar_london)\n",
        "print(\"x_bar_moscow =\", x_bar_moscow)\n",
        "\n",
        "#Стандартное отклонение (несмещенное)\n",
        "s_london = sample_london.std(ddof=0) # Your code here\n",
        "s_moscow = sample_moscow.std(ddof=0) # Your code here\n",
        "print(\"s_london =\", s_london)\n",
        "print(\"s_moscow =\", s_moscow)\n",
        "\n",
        "#Стандартная ошибка\n",
        "se_london_moscow = getSE2(s_london,n_london,s_moscow,n_moscow) # Your code here\n",
        "print(\"se_london_moscow =\", se_london_moscow)"
      ]
    },
    {
      "cell_type": "markdown",
      "metadata": {
        "id": "0SZCwXx9Njtp"
      },
      "source": [
        "<p><b>Проверка гипотезы</b></p>"
      ]
    },
    {
      "cell_type": "markdown",
      "metadata": {
        "id": "xznLEiitNjtp"
      },
      "source": [
        "<p>$$H_0: \\mu_{treated}-\\mu_{control}=0$$<p>\n",
        "<p>$$H_A: \\mu_{treated}-\\mu_{control} \\neq 0$$<p>"
      ]
    },
    {
      "cell_type": "code",
      "execution_count": 61,
      "metadata": {
        "colab": {
          "base_uri": "https://localhost:8080/"
        },
        "id": "BXFXfGghNjtp",
        "outputId": "49c5e2a8-130b-4eb2-a33c-a2592707f3a1"
      },
      "outputs": [
        {
          "data": {
            "text/plain": [
              "0.7592875986020164"
            ]
          },
          "execution_count": 61,
          "metadata": {},
          "output_type": "execute_result"
        }
      ],
      "source": [
        "#Z-score\n",
        "z = getZ(x_bar_london-x_bar_moscow,0,se_london_moscow) # Your code here\n",
        "z"
      ]
    },
    {
      "cell_type": "code",
      "execution_count": 62,
      "metadata": {
        "colab": {
          "base_uri": "https://localhost:8080/"
        },
        "id": "DOaCt-7aNjtp",
        "outputId": "736ad470-b4ad-4108-a86d-2a13b9928f51"
      },
      "outputs": [
        {
          "data": {
            "text/plain": [
              "0.44768053437802413"
            ]
          },
          "execution_count": 62,
          "metadata": {},
          "output_type": "execute_result"
        }
      ],
      "source": [
        "#P-Value\n",
        "pvalue = getPValue2Tail_Norm(z) # Your code here\n",
        "pvalue"
      ]
    },
    {
      "cell_type": "code",
      "execution_count": 64,
      "metadata": {
        "colab": {
          "base_uri": "https://localhost:8080/"
        },
        "id": "p7bSqp5xNjtp",
        "outputId": "def64201-9cdd-45f8-a736-9452054adc5e"
      },
      "outputs": [
        {
          "data": {
            "text/plain": [
              "0.45562164041991793"
            ]
          },
          "execution_count": 64,
          "metadata": {},
          "output_type": "execute_result"
        }
      ],
      "source": [
        "#P-Value для t-распределения\n",
        "s_t_moscow = sample_moscow.std(ddof=1)\n",
        "s_t_london = sample_london.std(ddof=1)\n",
        "\n",
        "se_t_moscow_london = getSE2(s_t_moscow,n_moscow,s_t_london,n_london)\n",
        "t = getZ(x_bar_london-x_bar_moscow, 0, se_t_moscow_london)\n",
        "df = get_dof_two(s_t_moscow,n_moscow,s_t_london,n_london) # Your code here\n",
        "if n_london > n_moscow:\n",
        "    df = n_moscow - 1\n",
        "\n",
        "pvalue_t = getPValue2Tail_T(t,df) # Your code here\n",
        "pvalue_t"
      ]
    },
    {
      "cell_type": "markdown",
      "metadata": {
        "id": "f0ObFKUnNjtp"
      },
      "source": [
        "<p>или</p>"
      ]
    },
    {
      "cell_type": "code",
      "execution_count": 65,
      "metadata": {
        "colab": {
          "base_uri": "https://localhost:8080/"
        },
        "id": "NcY4rN_LNjtp",
        "outputId": "1f15f874-7d56-461b-b7c8-2516cbaefc18"
      },
      "outputs": [
        {
          "data": {
            "text/plain": [
              "0.45562164041991793"
            ]
          },
          "execution_count": 65,
          "metadata": {},
          "output_type": "execute_result"
        }
      ],
      "source": [
        "tvalue, pvalue_t = stats.ttest_ind(sample_london,sample_moscow,equal_var=False) # Your code here\n",
        "pvalue_t"
      ]
    },
    {
      "cell_type": "markdown",
      "metadata": {
        "id": "JbhFMvLvNjtq"
      },
      "source": [
        "<p>или</p>"
      ]
    },
    {
      "cell_type": "code",
      "execution_count": 66,
      "metadata": {
        "colab": {
          "base_uri": "https://localhost:8080/"
        },
        "id": "3U7Do3mANjtq",
        "outputId": "4aebf13b-7846-4c12-97b0-bebefd49da51"
      },
      "outputs": [
        {
          "data": {
            "text/plain": [
              "0.45562164041991793"
            ]
          },
          "execution_count": 66,
          "metadata": {},
          "output_type": "execute_result"
        }
      ],
      "source": [
        "tvalue, pvalue_t = stats.ttest_ind_from_stats(x_bar_london, s_t_london, n_london, x_bar_moscow, s_t_moscow, n_moscow, equal_var=False) # Your code here\n",
        "pvalue_t"
      ]
    },
    {
      "cell_type": "markdown",
      "metadata": {
        "id": "g85uF0h2Njts"
      },
      "source": [
        "<p><b>Проверка гипотезы на соответствие уровню значимости $\\alpha$</b></p>"
      ]
    },
    {
      "cell_type": "code",
      "execution_count": 67,
      "metadata": {
        "colab": {
          "base_uri": "https://localhost:8080/"
        },
        "id": "qbSV5ls9Njts",
        "outputId": "e7ab8748-fc9e-4193-b48d-2349f5ea0661"
      },
      "outputs": [
        {
          "name": "stdout",
          "output_type": "stream",
          "text": [
            "alpha <= p-value\n",
            "Принимаем нулевую гипотезу (не отказываемся от нулевой гипотезы)\n"
          ]
        }
      ],
      "source": [
        "if alpha > pvalue:\n",
        "    print(\"alpha > p-value\")\n",
        "    print(\"Отказываемся от нулевую гипотезы в пользу альтернативной\")\n",
        "else:\n",
        "    print(\"alpha <= p-value\")\n",
        "    print(\"Принимаем нулевую гипотезу (не отказываемся от нулевой гипотезы)\")"
      ]
    }
  ],
  "metadata": {
    "colab": {
      "provenance": []
    },
    "kernelspec": {
      "display_name": "Python 3",
      "language": "python",
      "name": "python3"
    },
    "language_info": {
      "codemirror_mode": {
        "name": "ipython",
        "version": 3
      },
      "file_extension": ".py",
      "mimetype": "text/x-python",
      "name": "python",
      "nbconvert_exporter": "python",
      "pygments_lexer": "ipython3",
      "version": "3.11.6"
    }
  },
  "nbformat": 4,
  "nbformat_minor": 0
}
