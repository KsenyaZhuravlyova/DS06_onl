{
 "cells": [
  {
   "cell_type": "code",
   "execution_count": 2,
   "id": "1a814494",
   "metadata": {
    "is_executing": true
   },
   "outputs": [],
   "source": [
    "import numpy as np\n",
    "import pandas as pd"
   ]
  },
  {
   "cell_type": "code",
   "execution_count": 4,
   "id": "8b0ed0f9",
   "metadata": {},
   "outputs": [
    {
     "name": "stdout",
     "output_type": "stream",
     "text": [
      "1 2 3 4 5\n",
      "2.60517\n"
     ]
    }
   ],
   "source": [
    "#taks 1\n",
    "num = [int(i) for i in input().split()]\n",
    "ans = 1\n",
    "for i in num:\n",
    "    ans *= i\n",
    "\n",
    "print('{:.5f}'.format(ans ** (1/len(num))))"
   ]
  },
  {
   "cell_type": "code",
   "execution_count": 6,
   "id": "188f951f",
   "metadata": {},
   "outputs": [
    {
     "name": "stdout",
     "output_type": "stream",
     "text": [
      "10 20\n",
      "5 4\n",
      "17.557765770508876\n"
     ]
    }
   ],
   "source": [
    "#task 2\n",
    "from math import sin, cos\n",
    "deka = [int(i) for i in input().split()]\n",
    "poly =  [int(i) for i in input().split()]\n",
    "x_poly = poly[0] * cos(poly[1])\n",
    "y_poly = poly[0] * sin(poly[1])\n",
    "ans = (abs((deka[0] + x_poly))**2 + abs((deka[1] + y_poly))**2)**(1/2)\n",
    "print(ans)"
   ]
  },
  {
   "cell_type": "code",
   "execution_count": 7,
   "id": "ebf87676",
   "metadata": {},
   "outputs": [
    {
     "name": "stdout",
     "output_type": "stream",
     "text": [
      "3\n",
      "[[1, 2, 3], [2, 4, 6], [3, 6, 9]]\n"
     ]
    }
   ],
   "source": [
    "#task 3\n",
    "def multiplication_matrix(x):\n",
    "    ans = []\n",
    "    for i in range(1,x+1):\n",
    "     ans.append([i * n for n in range(1,x+1)])   \n",
    "    return ans\n",
    "\n",
    "\n",
    "if __name__ == '__main__':\n",
    "  print(multiplication_matrix(int(input())))   \n"
   ]
  },
  {
   "cell_type": "code",
   "execution_count": null,
   "id": "2044de91",
   "metadata": {},
   "outputs": [],
   "source": []
  },
  {
   "cell_type": "code",
   "execution_count": 1,
   "id": "9f2313a5",
   "metadata": {},
   "outputs": [],
   "source": [
    "#task 4\n",
    "import numpy as np\n",
    "def staits(vector):\n",
    "    size = len(vector)\n",
    "    result = np.zeros((size, size), dtype=vector.dtype)\n",
    "    for i in range(size):\n",
    "        result[i] = np.roll(vector,-i)\n",
    "    return result\n",
    "if __name__ == '__main__':\n",
    "    staits(np.arange(5))"
   ]
  },
  {
   "cell_type": "code",
   "execution_count": 3,
   "id": "a58d640b",
   "metadata": {},
   "outputs": [
    {
     "name": "stdout",
     "output_type": "stream",
     "text": [
      "домик    5\n",
      "и        1\n",
      "лес      3\n",
      "dtype: int64\n",
      "зверушка    8\n",
      "опушка      6\n",
      "странный    8\n",
      "dtype: int64\n"
     ]
    }
   ],
   "source": [
    "#task 5\n",
    "from collections import defaultdict\n",
    "from re import sub \n",
    "def length_stats(s):\n",
    "    odd = defaultdict(list)\n",
    "    even = defaultdict(list)\n",
    "    ans_1 = []\n",
    "    ans_2 = []\n",
    "    new_s = sub(r'[^\\w\\s]', '', s).lower().split()\n",
    "    for word in new_s:\n",
    "        if len(word) % 2 != 0:\n",
    "             odd[word] = len(word)\n",
    "        else:\n",
    "            even[word] = len(word)\n",
    "        even = pd.Series(even).sort_index()\n",
    "        odd = pd.Series(odd).sort_index()\n",
    "    return odd,even\n",
    "odd, even = length_stats('Лес, опушка, странный домик. Лес, опушка и зверушка.')\n",
    "print(odd)\n",
    "print(even)"
   ]
  },
  {
   "cell_type": "code",
   "execution_count": 4,
   "id": "51f594a7",
   "metadata": {},
   "outputs": [
    {
     "data": {
      "text/html": [
       "<div>\n",
       "<style scoped>\n",
       "    .dataframe tbody tr th:only-of-type {\n",
       "        vertical-align: middle;\n",
       "    }\n",
       "\n",
       "    .dataframe tbody tr th {\n",
       "        vertical-align: top;\n",
       "    }\n",
       "\n",
       "    .dataframe thead th {\n",
       "        text-align: right;\n",
       "    }\n",
       "</style>\n",
       "<table border=\"1\" class=\"dataframe\">\n",
       "  <thead>\n",
       "    <tr style=\"text-align: right;\">\n",
       "      <th></th>\n",
       "      <th>products</th>\n",
       "      <th>prices</th>\n",
       "      <th>numders</th>\n",
       "      <th>cost</th>\n",
       "    </tr>\n",
       "  </thead>\n",
       "  <tbody>\n",
       "    <tr>\n",
       "      <th>0</th>\n",
       "      <td>milk</td>\n",
       "      <td>58</td>\n",
       "      <td>3</td>\n",
       "      <td>174</td>\n",
       "    </tr>\n",
       "    <tr>\n",
       "      <th>1</th>\n",
       "      <td>soda</td>\n",
       "      <td>99</td>\n",
       "      <td>2</td>\n",
       "      <td>198</td>\n",
       "    </tr>\n",
       "    <tr>\n",
       "      <th>2</th>\n",
       "      <td>cream</td>\n",
       "      <td>72</td>\n",
       "      <td>1</td>\n",
       "      <td>72</td>\n",
       "    </tr>\n",
       "  </tbody>\n",
       "</table>\n",
       "</div>"
      ],
      "text/plain": [
       "  products  prices  numders  cost\n",
       "0     milk      58        3   174\n",
       "1     soda      99        2   198\n",
       "2    cream      72        1    72"
      ]
     },
     "execution_count": 4,
     "metadata": {},
     "output_type": "execute_result"
    }
   ],
   "source": [
    "#task_6\n",
    "products = ['bread', 'milk', 'soda', 'cream']\n",
    "prices = [37, 58, 99, 72]\n",
    "price_list = pd.DataFrame({'products':products,\n",
    "                           'prices':prices\n",
    "    \n",
    "})\n",
    "def cheque(price_list, bread = 0,soda=0, milk=0, cream=0):\n",
    "    price_list['numders'] = ([bread ,soda, milk, cream])\n",
    "    price_list = price_list.loc[price_list['numders'] != 0].copy()\n",
    "    price_list['cost'] = price_list['numders'] * price_list['prices']        \n",
    "    return price_list.reset_index(drop=True)\n",
    "cheque(price_list,soda=3, milk=2, cream=1)"
   ]
  },
  {
   "cell_type": "code",
   "execution_count": 19,
   "id": "ef627e9b",
   "metadata": {},
   "outputs": [
    {
     "data": {
      "text/html": [
       "<div>\n",
       "<style scoped>\n",
       "    .dataframe tbody tr th:only-of-type {\n",
       "        vertical-align: middle;\n",
       "    }\n",
       "\n",
       "    .dataframe tbody tr th {\n",
       "        vertical-align: top;\n",
       "    }\n",
       "\n",
       "    .dataframe thead th {\n",
       "        text-align: right;\n",
       "    }\n",
       "</style>\n",
       "<table border=\"1\" class=\"dataframe\">\n",
       "  <thead>\n",
       "    <tr style=\"text-align: right;\">\n",
       "      <th></th>\n",
       "      <th>name</th>\n",
       "      <th>maths</th>\n",
       "      <th>physics</th>\n",
       "      <th>computer_science</th>\n",
       "    </tr>\n",
       "  </thead>\n",
       "  <tbody>\n",
       "    <tr>\n",
       "      <th>0</th>\n",
       "      <td>Иванов</td>\n",
       "      <td>5</td>\n",
       "      <td>4</td>\n",
       "      <td>5</td>\n",
       "    </tr>\n",
       "    <tr>\n",
       "      <th>2</th>\n",
       "      <td>Сидоров</td>\n",
       "      <td>5</td>\n",
       "      <td>4</td>\n",
       "      <td>5</td>\n",
       "    </tr>\n",
       "  </tbody>\n",
       "</table>\n",
       "</div>"
      ],
      "text/plain": [
       "      name  maths  physics  computer_science\n",
       "0   Иванов      5        4                 5\n",
       "2  Сидоров      5        4                 5"
      ]
     },
     "execution_count": 19,
     "metadata": {},
     "output_type": "execute_result"
    }
   ],
   "source": [
    "#task_7\n",
    "columns = ['name', 'maths', 'physics', 'computer science']\n",
    "data = {\n",
    "    'name': ['Иванов', 'Петров', 'Сидоров', 'Васечкин', 'Николаев'],\n",
    "    'maths': [5, 4, 5, 2, 4],\n",
    "    'physics': [4, 4, 4, 5, 5],\n",
    "    'computer science': [5, 2, 5, 4, 3]\n",
    "}\n",
    "journal = pd.DataFrame(data, columns=columns)\n",
    "def best(journal):\n",
    "    journal = journal.rename(columns = lambda col: col.replace(\" \", \"_\"))\n",
    "    best_student = journal.query('maths >= 4 & physics >= 4 & computer_science >= 4')\n",
    "    return best_student\n",
    "best(journal)"
   ]
  },
  {
   "cell_type": "code",
   "execution_count": 20,
   "id": "423dc117",
   "metadata": {},
   "outputs": [
    {
     "data": {
      "text/html": [
       "<div>\n",
       "<style scoped>\n",
       "    .dataframe tbody tr th:only-of-type {\n",
       "        vertical-align: middle;\n",
       "    }\n",
       "\n",
       "    .dataframe tbody tr th {\n",
       "        vertical-align: top;\n",
       "    }\n",
       "\n",
       "    .dataframe thead th {\n",
       "        text-align: right;\n",
       "    }\n",
       "</style>\n",
       "<table border=\"1\" class=\"dataframe\">\n",
       "  <thead>\n",
       "    <tr style=\"text-align: right;\">\n",
       "      <th></th>\n",
       "      <th>name</th>\n",
       "      <th>maths</th>\n",
       "      <th>physics</th>\n",
       "      <th>computer science</th>\n",
       "    </tr>\n",
       "  </thead>\n",
       "  <tbody>\n",
       "    <tr>\n",
       "      <th>0</th>\n",
       "      <td>Иванов</td>\n",
       "      <td>5</td>\n",
       "      <td>4</td>\n",
       "      <td>5</td>\n",
       "    </tr>\n",
       "    <tr>\n",
       "      <th>1</th>\n",
       "      <td>Петров</td>\n",
       "      <td>4</td>\n",
       "      <td>4</td>\n",
       "      <td>2</td>\n",
       "    </tr>\n",
       "    <tr>\n",
       "      <th>2</th>\n",
       "      <td>Сидоров</td>\n",
       "      <td>5</td>\n",
       "      <td>4</td>\n",
       "      <td>5</td>\n",
       "    </tr>\n",
       "    <tr>\n",
       "      <th>3</th>\n",
       "      <td>Васечкин</td>\n",
       "      <td>2</td>\n",
       "      <td>5</td>\n",
       "      <td>4</td>\n",
       "    </tr>\n",
       "    <tr>\n",
       "      <th>4</th>\n",
       "      <td>Николаев</td>\n",
       "      <td>4</td>\n",
       "      <td>5</td>\n",
       "      <td>3</td>\n",
       "    </tr>\n",
       "  </tbody>\n",
       "</table>\n",
       "</div>"
      ],
      "text/plain": [
       "       name  maths  physics  computer science\n",
       "0    Иванов      5        4                 5\n",
       "1    Петров      4        4                 2\n",
       "2   Сидоров      5        4                 5\n",
       "3  Васечкин      2        5                 4\n",
       "4  Николаев      4        5                 3"
      ]
     },
     "execution_count": 20,
     "metadata": {},
     "output_type": "execute_result"
    }
   ],
   "source": [
    "journal"
   ]
  },
  {
   "cell_type": "code",
   "execution_count": 29,
   "id": "ca11135d",
   "metadata": {},
   "outputs": [],
   "source": [
    "# task_8\n",
    "def need_to_work_better(journal):\n",
    "    journal = journal.rename(columns = lambda col: col.replace(\" \", \"_\"))\n",
    "    need_to_work_better = journal.query('maths == 2 | physics == 2 | computer_science == 2')\n",
    "    journal['average'] = journal[['maths','physics','computer_science']].mean(axis = 1)\n",
    "    return journal"
   ]
  },
  {
   "cell_type": "code",
   "execution_count": 30,
   "id": "3320a29c",
   "metadata": {},
   "outputs": [
    {
     "data": {
      "text/html": [
       "<div>\n",
       "<style scoped>\n",
       "    .dataframe tbody tr th:only-of-type {\n",
       "        vertical-align: middle;\n",
       "    }\n",
       "\n",
       "    .dataframe tbody tr th {\n",
       "        vertical-align: top;\n",
       "    }\n",
       "\n",
       "    .dataframe thead th {\n",
       "        text-align: right;\n",
       "    }\n",
       "</style>\n",
       "<table border=\"1\" class=\"dataframe\">\n",
       "  <thead>\n",
       "    <tr style=\"text-align: right;\">\n",
       "      <th></th>\n",
       "      <th>name</th>\n",
       "      <th>maths</th>\n",
       "      <th>physics</th>\n",
       "      <th>computer_science</th>\n",
       "      <th>average</th>\n",
       "    </tr>\n",
       "  </thead>\n",
       "  <tbody>\n",
       "    <tr>\n",
       "      <th>0</th>\n",
       "      <td>Иванов</td>\n",
       "      <td>5</td>\n",
       "      <td>4</td>\n",
       "      <td>5</td>\n",
       "      <td>4.666667</td>\n",
       "    </tr>\n",
       "    <tr>\n",
       "      <th>1</th>\n",
       "      <td>Петров</td>\n",
       "      <td>4</td>\n",
       "      <td>4</td>\n",
       "      <td>2</td>\n",
       "      <td>3.333333</td>\n",
       "    </tr>\n",
       "    <tr>\n",
       "      <th>2</th>\n",
       "      <td>Сидоров</td>\n",
       "      <td>5</td>\n",
       "      <td>4</td>\n",
       "      <td>5</td>\n",
       "      <td>4.666667</td>\n",
       "    </tr>\n",
       "    <tr>\n",
       "      <th>3</th>\n",
       "      <td>Васечкин</td>\n",
       "      <td>2</td>\n",
       "      <td>5</td>\n",
       "      <td>4</td>\n",
       "      <td>3.666667</td>\n",
       "    </tr>\n",
       "    <tr>\n",
       "      <th>4</th>\n",
       "      <td>Николаев</td>\n",
       "      <td>4</td>\n",
       "      <td>5</td>\n",
       "      <td>3</td>\n",
       "      <td>4.000000</td>\n",
       "    </tr>\n",
       "  </tbody>\n",
       "</table>\n",
       "</div>"
      ],
      "text/plain": [
       "       name  maths  physics  computer_science   average\n",
       "0    Иванов      5        4                 5  4.666667\n",
       "1    Петров      4        4                 2  3.333333\n",
       "2   Сидоров      5        4                 5  4.666667\n",
       "3  Васечкин      2        5                 4  3.666667\n",
       "4  Николаев      4        5                 3  4.000000"
      ]
     },
     "execution_count": 30,
     "metadata": {},
     "output_type": "execute_result"
    }
   ],
   "source": [
    "need_to_work_better(journal)"
   ]
  },
  {
   "cell_type": "code",
   "execution_count": 31,
   "id": "53d94bdd",
   "metadata": {},
   "outputs": [],
   "source": [
    "# task_9\n",
    "def update(journal):\n",
    "    journal = journal.rename(columns = lambda col: col.replace(\" \", \"_\"))\n",
    "    journal['average'] = journal[['maths','physics','computer_science']].mean(axis = 1)\n",
    "    return journal.sort_values('name', ascending=True).sort_values('average', ascending=False)"
   ]
  },
  {
   "cell_type": "code",
   "execution_count": 32,
   "id": "9eeb194b",
   "metadata": {},
   "outputs": [
    {
     "data": {
      "text/html": [
       "<div>\n",
       "<style scoped>\n",
       "    .dataframe tbody tr th:only-of-type {\n",
       "        vertical-align: middle;\n",
       "    }\n",
       "\n",
       "    .dataframe tbody tr th {\n",
       "        vertical-align: top;\n",
       "    }\n",
       "\n",
       "    .dataframe thead th {\n",
       "        text-align: right;\n",
       "    }\n",
       "</style>\n",
       "<table border=\"1\" class=\"dataframe\">\n",
       "  <thead>\n",
       "    <tr style=\"text-align: right;\">\n",
       "      <th></th>\n",
       "      <th>name</th>\n",
       "      <th>maths</th>\n",
       "      <th>physics</th>\n",
       "      <th>computer_science</th>\n",
       "      <th>average</th>\n",
       "    </tr>\n",
       "  </thead>\n",
       "  <tbody>\n",
       "    <tr>\n",
       "      <th>0</th>\n",
       "      <td>Иванов</td>\n",
       "      <td>5</td>\n",
       "      <td>4</td>\n",
       "      <td>5</td>\n",
       "      <td>4.666667</td>\n",
       "    </tr>\n",
       "    <tr>\n",
       "      <th>2</th>\n",
       "      <td>Сидоров</td>\n",
       "      <td>5</td>\n",
       "      <td>4</td>\n",
       "      <td>5</td>\n",
       "      <td>4.666667</td>\n",
       "    </tr>\n",
       "    <tr>\n",
       "      <th>4</th>\n",
       "      <td>Николаев</td>\n",
       "      <td>4</td>\n",
       "      <td>5</td>\n",
       "      <td>3</td>\n",
       "      <td>4.000000</td>\n",
       "    </tr>\n",
       "    <tr>\n",
       "      <th>3</th>\n",
       "      <td>Васечкин</td>\n",
       "      <td>2</td>\n",
       "      <td>5</td>\n",
       "      <td>4</td>\n",
       "      <td>3.666667</td>\n",
       "    </tr>\n",
       "    <tr>\n",
       "      <th>1</th>\n",
       "      <td>Петров</td>\n",
       "      <td>4</td>\n",
       "      <td>4</td>\n",
       "      <td>2</td>\n",
       "      <td>3.333333</td>\n",
       "    </tr>\n",
       "  </tbody>\n",
       "</table>\n",
       "</div>"
      ],
      "text/plain": [
       "       name  maths  physics  computer_science   average\n",
       "0    Иванов      5        4                 5  4.666667\n",
       "2   Сидоров      5        4                 5  4.666667\n",
       "4  Николаев      4        5                 3  4.000000\n",
       "3  Васечкин      2        5                 4  3.666667\n",
       "1    Петров      4        4                 2  3.333333"
      ]
     },
     "execution_count": 32,
     "metadata": {},
     "output_type": "execute_result"
    }
   ],
   "source": [
    "update(journal)"
   ]
  },
  {
   "cell_type": "code",
   "execution_count": null,
   "id": "d0d2a9a9",
   "metadata": {},
   "outputs": [],
   "source": []
  },
  {
   "cell_type": "code",
   "execution_count": 173,
   "id": "289bf48a",
   "metadata": {},
   "outputs": [],
   "source": [
    "#task 10\n",
    "def values(func, start, end, step):\n",
    "    ans = list()\n",
    "    num = list()\n",
    "    for x in np.arange(start, end + step, step):\n",
    "        num.append(x)   \n",
    "        ans.append((func)(x))\n",
    "    ans = pd.Series(ans, index = num )\n",
    "    return ans \n",
    "def min_extremum(data):\n",
    "    min_point = data.idxmin()\n",
    "    return min_point\n",
    "def max_extremum(data):\n",
    "    max_point = data.idxmax()\n",
    "    return max_point"
   ]
  },
  {
   "cell_type": "code",
   "execution_count": 174,
   "id": "725a98a9",
   "metadata": {},
   "outputs": [
    {
     "name": "stdout",
     "output_type": "stream",
     "text": [
      "-1.500000e+00    0.25\n",
      "-1.400000e+00    0.16\n",
      "-1.300000e+00    0.09\n",
      "-1.200000e+00    0.04\n",
      "-1.100000e+00    0.01\n",
      "-1.000000e+00    0.00\n",
      "-9.000000e-01    0.01\n",
      "-8.000000e-01    0.04\n",
      "-7.000000e-01    0.09\n",
      "-6.000000e-01    0.16\n",
      "-5.000000e-01    0.25\n",
      "-4.000000e-01    0.36\n",
      "-3.000000e-01    0.49\n",
      "-2.000000e-01    0.64\n",
      "-1.000000e-01    0.81\n",
      " 1.332268e-15    1.00\n",
      " 1.000000e-01    1.21\n",
      " 2.000000e-01    1.44\n",
      " 3.000000e-01    1.69\n",
      " 4.000000e-01    1.96\n",
      " 5.000000e-01    2.25\n",
      " 6.000000e-01    2.56\n",
      " 7.000000e-01    2.89\n",
      " 8.000000e-01    3.24\n",
      " 9.000000e-01    3.61\n",
      " 1.000000e+00    4.00\n",
      " 1.100000e+00    4.41\n",
      " 1.200000e+00    4.84\n",
      " 1.300000e+00    5.29\n",
      " 1.400000e+00    5.76\n",
      " 1.500000e+00    6.25\n",
      " 1.600000e+00    6.76\n",
      " 1.700000e+00    7.29\n",
      "dtype: float64\n",
      "-0.9999999999999996\n",
      "1.7000000000000028\n"
     ]
    }
   ],
   "source": [
    "data = values(lambda x: x ** 2 + 2 * x + 1, -1.5, 1.7, 0.1)\n",
    "print(data)\n",
    "print(min_extremum(data))\n",
    "print(max_extremum(data))"
   ]
  },
  {
   "cell_type": "code",
   "execution_count": null,
   "id": "334fb40d",
   "metadata": {},
   "outputs": [],
   "source": []
  }
 ],
 "metadata": {
  "kernelspec": {
   "display_name": "Python 3 (ipykernel)",
   "language": "python",
   "name": "python3"
  },
  "language_info": {
   "codemirror_mode": {
    "name": "ipython",
    "version": 3
   },
   "file_extension": ".py",
   "mimetype": "text/x-python",
   "name": "python",
   "nbconvert_exporter": "python",
   "pygments_lexer": "ipython3",
   "version": "3.11.5"
  }
 },
 "nbformat": 4,
 "nbformat_minor": 5
}
