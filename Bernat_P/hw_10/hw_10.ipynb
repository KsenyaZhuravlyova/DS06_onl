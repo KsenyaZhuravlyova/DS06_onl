{
 "cells": [
  {
   "cell_type": "code",
   "execution_count": 1,
   "metadata": {},
   "outputs": [],
   "source": [
    "import numpy as np"
   ]
  },
  {
   "cell_type": "code",
   "execution_count": 15,
   "metadata": {},
   "outputs": [],
   "source": [
    "a = np.array([1,2,3],dtype= 'uint8')"
   ]
  },
  {
   "cell_type": "code",
   "execution_count": 19,
   "metadata": {},
   "outputs": [
    {
     "name": "stderr",
     "output_type": "stream",
     "text": [
      "C:\\Users\\pavel\\AppData\\Local\\Temp\\ipykernel_8580\\2301436021.py:1: DeprecationWarning: NumPy will stop allowing conversion of out-of-bound Python integers to integer arrays.  The conversion of 260 to uint8 will fail in the future.\n",
      "For the old behavior, usually:\n",
      "    np.array(value).astype(dtype)`\n",
      "will give the desired result (the cast overflows).\n",
      "  a[0] = 260\n"
     ]
    }
   ],
   "source": [
    "a[0] = 260"
   ]
  },
  {
   "cell_type": "code",
   "execution_count": 20,
   "metadata": {},
   "outputs": [
    {
     "name": "stdout",
     "output_type": "stream",
     "text": [
      "[4 2 3]\n"
     ]
    }
   ],
   "source": [
    "print(a)"
   ]
  },
  {
   "cell_type": "code",
   "execution_count": 48,
   "metadata": {},
   "outputs": [],
   "source": [
    "a = np.eye(4,dtype= 'uint8')"
   ]
  },
  {
   "cell_type": "code",
   "execution_count": 49,
   "metadata": {},
   "outputs": [
    {
     "data": {
      "text/plain": [
       "array([[1, 0, 0, 0],\n",
       "       [0, 1, 0, 0],\n",
       "       [0, 0, 1, 0],\n",
       "       [0, 0, 0, 1]], dtype=uint8)"
      ]
     },
     "execution_count": 49,
     "metadata": {},
     "output_type": "execute_result"
    }
   ],
   "source": [
    "a"
   ]
  },
  {
   "cell_type": "code",
   "execution_count": 37,
   "metadata": {},
   "outputs": [
    {
     "data": {
      "text/plain": [
       "array([[0, 0, 0, 0, 0, 0, 0, 0, 0, 0, 0, 0]], dtype=uint8)"
      ]
     },
     "execution_count": 37,
     "metadata": {},
     "output_type": "execute_result"
    }
   ],
   "source": [
    "a.reshape((1,12))"
   ]
  },
  {
   "cell_type": "code",
   "execution_count": 50,
   "metadata": {},
   "outputs": [
    {
     "name": "stdout",
     "output_type": "stream",
     "text": [
      "[1, 0, 0, 0, 0, 1, 0, 0, 0, 0, 1, 0, 0, 0, 0, 1]\n"
     ]
    }
   ],
   "source": [
    "print([elm for elm in a.flat])"
   ]
  },
  {
   "cell_type": "code",
   "execution_count": 64,
   "metadata": {},
   "outputs": [],
   "source": [
    "a = np.random.randint(low= 0, high= 100, size = (3,3,3))"
   ]
  },
  {
   "cell_type": "code",
   "execution_count": 65,
   "metadata": {},
   "outputs": [
    {
     "name": "stdout",
     "output_type": "stream",
     "text": [
      "[[[ 3 40 21]\n",
      "  [ 9 79 72]\n",
      "  [80 81  8]]\n",
      "\n",
      " [[83 29  4]\n",
      "  [63 49 29]\n",
      "  [42 23 23]]\n",
      "\n",
      " [[13  6 67]\n",
      "  [14 10 30]\n",
      "  [56 18 58]]] 3 83\n"
     ]
    }
   ],
   "source": [
    "print(a,a.min(),a.max())"
   ]
  },
  {
   "cell_type": "code",
   "execution_count": 78,
   "metadata": {},
   "outputs": [
    {
     "data": {
      "text/plain": [
       "11.133333333333333"
      ]
     },
     "execution_count": 78,
     "metadata": {},
     "output_type": "execute_result"
    }
   ],
   "source": [
    "# 1.14. Create a random vector of size 30 and find the mean value (★☆☆)\n",
    "# Создайте случайный вектор размером 30 и найдите среднее значение\n",
    "\n",
    "a = np.random.randint(low= 0, high=30,size=(30))\n",
    "a.mean()"
   ]
  },
  {
   "cell_type": "code",
   "execution_count": 169,
   "metadata": {},
   "outputs": [
    {
     "name": "stdout",
     "output_type": "stream",
     "text": [
      "3\n"
     ]
    },
    {
     "data": {
      "text/plain": [
       "array([[1, 1, 1, 1, 1, 1],\n",
       "       [1, 0, 0, 0, 0, 1],\n",
       "       [1, 0, 0, 0, 0, 1],\n",
       "       [1, 1, 1, 1, 1, 1]], dtype=uint8)"
      ]
     },
     "execution_count": 169,
     "metadata": {},
     "output_type": "execute_result"
    }
   ],
   "source": [
    "# 2.15. Create a 2d array with 1 on the border and 0 inside (★☆☆)\n",
    "# Создайте двумерный-массив с 1(единицами) на границе и 0(нулями) внутри\n",
    "\n",
    "a = np.zeros((4,6),dtype='uint8')\n",
    "\n",
    "a[0,:] = 1\n",
    "a[:,0] = 1\n",
    "a[-1,:] = 1\n",
    "a[:,-1] = 1\n",
    "\n",
    "a"
   ]
  },
  {
   "cell_type": "code",
   "execution_count": 225,
   "metadata": {},
   "outputs": [
    {
     "data": {
      "text/plain": [
       "array([[1, 1, 1, 1, 1],\n",
       "       [1, 0, 0, 0, 1],\n",
       "       [1, 0, 0, 0, 1],\n",
       "       [1, 0, 0, 0, 1],\n",
       "       [1, 1, 1, 1, 1]], dtype=uint8)"
      ]
     },
     "execution_count": 225,
     "metadata": {},
     "output_type": "execute_result"
    }
   ],
   "source": [
    "# 3.16. How to add a border (filled with 0's) around an existing array? (★☆☆)\n",
    "# Как добавить границу (заполненную нулями) вокруг существующего массива\n",
    "#  (например: массив 5 на 5 из единиц окружить нулями, чтобы он превратился в массив 7 на 7?\n",
    "\n",
    "# a = np.zeros((3,3),dtype='uint8')\n",
    "\n",
    "\n",
    "# a = np.c_[np.ones(len(a)),a, np.ones(len(a))]\n",
    "# a = np.r_[[np.ones(len(a[0]))],a,[np.ones(len(a[0]))]]\n",
    "\n",
    "# np.array(a,dtype= 'int')\n",
    "\n",
    "\n",
    "row = 3\n",
    "column = 3\n",
    "\n",
    "c = np.zeros((row,column),dtype='uint8')\n",
    "\n",
    "# new_row = row + 2 \n",
    "# new_colunm = column + 2\n",
    "\n",
    "# new_c = np.ones((new_row,new_colunm),dtype='uint8')\n",
    "# new_c[1:-1,1:-1] = c\n",
    "# print(new_c)\n",
    "\n",
    "np.pad(c,  pad_width=1, constant_values=1)\n"
   ]
  },
  {
   "cell_type": "code",
   "execution_count": 242,
   "metadata": {},
   "outputs": [
    {
     "data": {
      "text/plain": [
       "array([[1, 0, 1, 0, 1, 0, 1, 0, 1, 0],\n",
       "       [0, 1, 0, 1, 0, 1, 0, 1, 0, 1],\n",
       "       [1, 0, 1, 0, 1, 0, 1, 0, 1, 0],\n",
       "       [0, 1, 0, 1, 0, 1, 0, 1, 0, 1],\n",
       "       [1, 0, 1, 0, 1, 0, 1, 0, 1, 0],\n",
       "       [0, 1, 0, 1, 0, 1, 0, 1, 0, 1],\n",
       "       [1, 0, 1, 0, 1, 0, 1, 0, 1, 0],\n",
       "       [0, 1, 0, 1, 0, 1, 0, 1, 0, 1],\n",
       "       [1, 0, 1, 0, 1, 0, 1, 0, 1, 0],\n",
       "       [0, 1, 0, 1, 0, 1, 0, 1, 0, 1]])"
      ]
     },
     "execution_count": 242,
     "metadata": {},
     "output_type": "execute_result"
    }
   ],
   "source": [
    "# 4.19. Create a 8x8 matrix and fill it with a checkerboard pattern (★☆☆)\n",
    "# Создайте матрицу 8x8 и залейте ее шахматным узором Пояснение к заданию: не используйте функцию tile. \n",
    "# Ниже будет аналогичное задание 21 с использованием функции tile\n",
    "\n",
    "def checkerboard(w,h):\n",
    "    re = np.r_[w * [1,0]]\n",
    "    ro = np.r_[w * [0,1]]\n",
    "    return np.array(h*(re,ro))\n",
    "checkerboard(5,5)"
   ]
  },
  {
   "cell_type": "code",
   "execution_count": 252,
   "metadata": {},
   "outputs": [
    {
     "name": "stdout",
     "output_type": "stream",
     "text": [
      "(1, 5, 4)\n"
     ]
    }
   ],
   "source": [
    "# 5.20. Consider a (6,7,8) shape array, what is the index (x,y,z) of the 100th element?\n",
    "# Рассмотрим массив формы (6,7,8), каков индекс (x, y, z) 100-го элемента?\n",
    "import numpy as np\n",
    "\n",
    "shape = (6, 7, 8)\n",
    "index_of_100th_element = 100\n",
    "\n",
    "indexes = np.unravel_index(index_of_100th_element, shape)\n",
    "\n",
    "print(indexes)"
   ]
  },
  {
   "cell_type": "code",
   "execution_count": 274,
   "metadata": {},
   "outputs": [
    {
     "data": {
      "text/plain": [
       "array([[1, 0, 1, 0, 1, 0, 1, 0],\n",
       "       [0, 1, 0, 1, 0, 1, 0, 1],\n",
       "       [1, 0, 1, 0, 1, 0, 1, 0],\n",
       "       [0, 1, 0, 1, 0, 1, 0, 1],\n",
       "       [1, 0, 1, 0, 1, 0, 1, 0],\n",
       "       [0, 1, 0, 1, 0, 1, 0, 1],\n",
       "       [1, 0, 1, 0, 1, 0, 1, 0],\n",
       "       [0, 1, 0, 1, 0, 1, 0, 1]])"
      ]
     },
     "execution_count": 274,
     "metadata": {},
     "output_type": "execute_result"
    }
   ],
   "source": [
    "# 6.21. Create a checkerboard 8x8 matrix using the tile function (★☆☆)\n",
    "# Создайте матрицу шахматной доски 8x8, используя функцию tile\n",
    "\n",
    "re = [1,0]\n",
    "ro = [0,1]\n",
    "np.array([re,ro])\n",
    "shape = (4,4)\n",
    "np.tile(np.array([re,ro]),shape)"
   ]
  },
  {
   "cell_type": "code",
   "execution_count": 289,
   "metadata": {},
   "outputs": [
    {
     "name": "stdout",
     "output_type": "stream",
     "text": [
      "[[ 5 63 18 93 81]\n",
      " [38 42 98 82 24]\n",
      " [57 25 51 26 16]\n",
      " [41 59 30 73 59]\n",
      " [ 3 84 94 61 96]]\n",
      "\n",
      "[[0.02105263 0.63157895 0.15789474 0.94736842 0.82105263]\n",
      " [0.36842105 0.41052632 1.         0.83157895 0.22105263]\n",
      " [0.56842105 0.23157895 0.50526316 0.24210526 0.13684211]\n",
      " [0.4        0.58947368 0.28421053 0.73684211 0.58947368]\n",
      " [0.         0.85263158 0.95789474 0.61052632 0.97894737]]\n"
     ]
    }
   ],
   "source": [
    "# 7.22. Normalize a 5x5 random matrix (★☆☆)\n",
    "# Нормализовать матрицу случайных значений 5 на 5\n",
    "\n",
    "\n",
    "matrix = np.random.randint(0,100,size = (5,5))\n",
    "\n",
    "\n",
    "min_val = np.min(matrix)\n",
    "max_val = np.max(matrix)\n",
    "\n",
    "norm_matrix = (matrix - min_val) / (max_val - min_val)\n",
    "print(matrix)\n",
    "print()\n",
    "print(norm_matrix)\n",
    "\n"
   ]
  },
  {
   "cell_type": "code",
   "execution_count": 2,
   "metadata": {},
   "outputs": [
    {
     "name": "stdout",
     "output_type": "stream",
     "text": [
      "9\n",
      "10\n"
     ]
    }
   ],
   "source": [
    "print(sum(range(5),-1))\n",
    "from numpy import *\n",
    "print(sum(range(5),-1))\n"
   ]
  },
  {
   "cell_type": "code",
   "execution_count": 29,
   "metadata": {},
   "outputs": [
    {
     "name": "stdout",
     "output_type": "stream",
     "text": [
      "[-5 -7 -8 -6 -5  1  9  2  9  2]\n"
     ]
    }
   ],
   "source": [
    "\n",
    "# 8.25. Given a 1D array, negate all elements which are between 3 and 8, in place. (★☆☆)\n",
    "# задан одномерный массив, инвертируйте (поменяйте знак) у всех элементов массива, \n",
    "# которые находятся в диапазоне от 3 до 8, прямо в нем самом (без перезаписывания значений).\n",
    "\n",
    "\n",
    "matrix = np.random.randint(0,10,size = (10))\n",
    "mask = (matrix >= 3) & (matrix <= 8)\n",
    "matrix[mask] *= -1\n",
    "print(matrix)\n",
    "\n"
   ]
  },
  {
   "cell_type": "code",
   "execution_count": 41,
   "metadata": {},
   "outputs": [
    {
     "name": "stdout",
     "output_type": "stream",
     "text": [
      "matrix_1:[2 0 0 3 1 3 1 2 0 0]\n",
      "matrix_2:[0 0 3 4 3 2 2 4 2 3]\n",
      "[0 2 3]\n"
     ]
    }
   ],
   "source": [
    "# 9.30. How to find common values between two arrays? (★☆☆)\n",
    "# Как найти общие значения между двумя массивами\n",
    "\n",
    "matrix_1 = np.random.randint(0,5,size = (10))\n",
    "matrix_2 = np.random.randint(0,5,size = (10))\n",
    "print(f'matrix_1:{matrix_1}\\nmatrix_2:{matrix_2}')\n",
    "\n",
    "ans = np.intersect1d(matrix_1, matrix_2)\n",
    "print(ans)\n"
   ]
  },
  {
   "cell_type": "code",
   "execution_count": 44,
   "metadata": {},
   "outputs": [
    {
     "name": "stderr",
     "output_type": "stream",
     "text": [
      "C:\\Users\\pavel\\AppData\\Local\\Temp\\ipykernel_13916\\2961820512.py:1: RuntimeWarning: invalid value encountered in sqrt\n",
      "  np.sqrt(-1) == np.emath.sqrt(-1)\n"
     ]
    },
    {
     "data": {
      "text/plain": [
       "False"
      ]
     },
     "execution_count": 44,
     "metadata": {},
     "output_type": "execute_result"
    }
   ],
   "source": [
    "np.sqrt(-1) == np.emath.sqrt(-1)\n"
   ]
  },
  {
   "cell_type": "code",
   "execution_count": 57,
   "metadata": {},
   "outputs": [
    {
     "name": "stdout",
     "output_type": "stream",
     "text": [
      "[-3. -4. -5. -6.]\n"
     ]
    }
   ],
   "source": [
    "# 10 35. How to compute ((A+B)*(-A/2)) in place (without copy)? (★★☆)\n",
    "# Как вычислить ((A + B) * (- A / 2)) на месте \n",
    "# (без копирования - то есть без создания дополнительного массива кроме существующих A, B)?\n",
    "\n",
    "arr1 = np.array([1, 2, 3, 4],dtype='float64')\n",
    "arr2 = np.array([5, 6, 7, 8],dtype='float64')\n",
    "arr1 += arr2\n",
    "arr1 *= (-1/2)\n",
    "\n",
    "print(arr1)"
   ]
  },
  {
   "cell_type": "code",
   "execution_count": 69,
   "metadata": {},
   "outputs": [
    {
     "data": {
      "text/plain": [
       "array([[0, 1, 2, 3, 4],\n",
       "       [0, 1, 2, 3, 4],\n",
       "       [0, 1, 2, 3, 4],\n",
       "       [0, 1, 2, 3, 4],\n",
       "       [0, 1, 2, 3, 4]])"
      ]
     },
     "execution_count": 69,
     "metadata": {},
     "output_type": "execute_result"
    }
   ],
   "source": [
    "# 11 37. Create a 5x5 matrix with row values ranging from 0 to 4 (★★☆)\n",
    "# Создайте матрицу 5x5 со значениями строк от 0 до 4\n",
    "\n",
    "shape = (5,1)\n",
    "a = np.tile(np.arange(0,5),shape)\n",
    "\n",
    "a"
   ]
  },
  {
   "cell_type": "code",
   "execution_count": 74,
   "metadata": {},
   "outputs": [
    {
     "data": {
      "text/plain": [
       "array([4, 1, 7, 7, 5, 7, 7, 8, 9, 6])"
      ]
     },
     "execution_count": 74,
     "metadata": {},
     "output_type": "execute_result"
    }
   ],
   "source": [
    "# 12 38. Consider a generator function that generates 10 integers and use it to build an array (★☆☆)\n",
    "# Рассмотрим функцию генератора, которая генерирует 10 целых чисел и использует ее для построения массива.\n",
    "\n",
    "def generator(n):\n",
    "    ans = np.random.randint(0, n,size=n)\n",
    "    return ans\n",
    "generator(10)"
   ]
  },
  {
   "cell_type": "code",
   "execution_count": 108,
   "metadata": {},
   "outputs": [
    {
     "data": {
      "text/plain": [
       "array([0.01      , 0.11888889, 0.22777778, 0.33666667, 0.44555556,\n",
       "       0.55444444, 0.66333333, 0.77222222, 0.88111111, 0.99      ])"
      ]
     },
     "execution_count": 108,
     "metadata": {},
     "output_type": "execute_result"
    }
   ],
   "source": [
    "# 13 39. Create a vector of size 10 with values ranging from 0 to 1, both excluded (★★☆)\n",
    "# Создайте вектор размера 10 со значениями от 0 до 1, за исключением границ отрезка 0 и 1.\n",
    "\n",
    "\n",
    "a = np.linspace(0.01,0.99,10)\n",
    "\n",
    "a"
   ]
  },
  {
   "cell_type": "code",
   "execution_count": 110,
   "metadata": {},
   "outputs": [
    {
     "name": "stdout",
     "output_type": "stream",
     "text": [
      "[6, 20, 32, 38, 47, 55, 56, 68, 92, 94]\n"
     ]
    }
   ],
   "source": [
    "# 14 40. Create a random vector of size 10 and sort it (★★☆)\n",
    "# Создайте случайный вектор размером 10 и отсортируйте его\n",
    "\n",
    "ans = sorted(np.random.randint(0, 100,size=10))\n",
    "print(ans)"
   ]
  },
  {
   "cell_type": "code",
   "execution_count": 113,
   "metadata": {},
   "outputs": [
    {
     "data": {
      "text/plain": [
       "False"
      ]
     },
     "execution_count": 113,
     "metadata": {},
     "output_type": "execute_result"
    }
   ],
   "source": [
    "# 15 42. Consider two random array A and B, check if they are equal (★★☆)\n",
    "# Рассмотрим два случайных массива A и B, проверьте, равны ли они\n",
    "\n",
    "ans_1 = np.random.randint(0, 100,size=10)\n",
    "ans_2 = np.random.randint(0, 100,size=10)\n",
    "\n",
    "answ = np.array_equal(ans_1,ans_2)\n",
    "answ"
   ]
  },
  {
   "cell_type": "code",
   "execution_count": 158,
   "metadata": {},
   "outputs": [
    {
     "name": "stdout",
     "output_type": "stream",
     "text": [
      "[[0.04665921 0.76052602]\n",
      " [5.33707233 3.52844653]\n",
      " [1.23959481 3.93000328]\n",
      " [7.49898402 2.01113498]\n",
      " [8.31146761 9.977062  ]\n",
      " [3.03527124 8.57169586]\n",
      " [9.0603973  1.78218824]\n",
      " [9.77494576 6.82290348]\n",
      " [6.31337107 2.04592326]\n",
      " [4.84947099 2.56604235]]\n",
      "[[ 0.76195598  1.5095219 ]\n",
      " [ 6.39798999  0.58415293]\n",
      " [ 4.12086412  1.26525504]\n",
      " [ 7.76398257  0.26202187]\n",
      " [12.98546341  0.87622078]\n",
      " [ 9.09323052  1.23047013]\n",
      " [ 9.23401289  0.19422134]\n",
      " [11.92063658  0.60938183]\n",
      " [ 6.63659975  0.31338322]\n",
      " [ 5.4865237   0.48668585]]\n"
     ]
    }
   ],
   "source": [
    "# 16 44. Consider a random 10x2 matrix representing cartesian coordinates, convert them to polar coordinates (★★☆)\n",
    "# Рассмотрим случайную матрицу 10x2, представляющую декартовы координаты, преобразуйте их в полярные координаты.\n",
    "a = np.random.rand(10, 2) * 10  \n",
    "x = a[:, 0]\n",
    "y = a[:, 1]\n",
    "\n",
    "r = np.sqrt(x**2 + y**2)\n",
    "theta = np.arctan2(y, x)  \n",
    "\n",
    "answ = np.column_stack((r, theta))\n",
    "\n",
    "print(a)\n",
    "print(answ)\n"
   ]
  },
  {
   "cell_type": "code",
   "execution_count": 209,
   "metadata": {},
   "outputs": [
    {
     "name": "stdout",
     "output_type": "stream",
     "text": [
      "[71 87 17 19 89 56 47 98 63 62]\n",
      "[71 87 17 19 89 56 47  0 63 62]\n"
     ]
    }
   ],
   "source": [
    "# 17 45. Create random vector of size 10 and replace the maximum value by 0 (★★☆)\n",
    "# Создайте случайный вектор размером 10 и замените максимальное значение на 0\n",
    "\n",
    "a = np.random.randint(1,100,10)\n",
    "print(a)\n",
    "index_max_value = np.argmax(a) \n",
    "a[index_max_value] = 0\n",
    "\n",
    "print(a)"
   ]
  },
  {
   "cell_type": "code",
   "execution_count": null,
   "metadata": {},
   "outputs": [],
   "source": []
  }
 ],
 "metadata": {
  "kernelspec": {
   "display_name": "base",
   "language": "python",
   "name": "python3"
  },
  "language_info": {
   "codemirror_mode": {
    "name": "ipython",
    "version": 3
   },
   "file_extension": ".py",
   "mimetype": "text/x-python",
   "name": "python",
   "nbconvert_exporter": "python",
   "pygments_lexer": "ipython3",
   "version": "3.11.5"
  }
 },
 "nbformat": 4,
 "nbformat_minor": 2
}
