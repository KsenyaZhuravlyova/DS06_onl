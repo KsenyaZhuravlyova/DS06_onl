{
 "cells": [
  {
   "cell_type": "markdown",
   "metadata": {},
   "source": [
    "### <center>Домашнее задание </center>"
   ]
  },
  {
   "cell_type": "markdown",
   "metadata": {},
   "source": [
    "#### Задание\n",
    "<div class=\"alert alert-block alert-info\">\n",
    "    \n",
    "1. Загрузка текстового файла из корневого каталога.\n",
    "2. Обработка текстовых данных.\n",
    "3. Понижение размерности текстовых данных.\n",
    "</div>"
   ]
  },
  {
   "cell_type": "code",
   "execution_count": 2,
   "metadata": {},
   "outputs": [],
   "source": [
    "import numpy as np\n",
    "import pandas as pd\n",
    "\n",
    "pd.set_option('display.notebook_repr_html', True)\n",
    "pd.set_option('display.max_columns', 8)\n",
    "pd.set_option('display.max_rows', 10)\n",
    "pd.set_option('display.width', 80)\n",
    "\n",
    "import re\n",
    "import string\n",
    "from collections import Counter\n",
    "import gc\n",
    "\n",
    "import spacy \n",
    "from spacy.lang.en import English\n",
    "from spacy.lang.en.stop_words import STOP_WORDS\n",
    "\n",
    "from sklearn.feature_extraction.text import TfidfVectorizer\n",
    "from sklearn.decomposition import PCA\n",
    "from sklearn.preprocessing import scale\n",
    "\n",
    "from IPython.core.interactiveshell import InteractiveShell \n",
    "InteractiveShell.ast_node_interactivity = \"all\"\n",
    "\n",
    "import matplotlib.pyplot as plt\n",
    "%matplotlib inline"
   ]
  },
  {
   "cell_type": "code",
   "execution_count": 4,
   "metadata": {},
   "outputs": [
    {
     "name": "stdout",
     "output_type": "stream",
     "text": [
      "^C\n"
     ]
    }
   ],
   "source": [
    "!python -m spacy download en_core_web_lg"
   ]
  },
  {
   "cell_type": "code",
   "execution_count": 2,
   "metadata": {},
   "outputs": [],
   "source": [
    "#!python -m spacy download en_core_web_lg"
   ]
  },
  {
   "cell_type": "markdown",
   "metadata": {},
   "source": [
    "#### Обработка текста"
   ]
  },
  {
   "cell_type": "code",
   "execution_count": 12,
   "metadata": {},
   "outputs": [],
   "source": [
    "# Для векторизации с помощью spaCy нужна большая модель, \n",
    "# устанавливается через Anaconda Prompt: \n",
    "# python -m spacy download en_core_web_lg\n",
    "\n",
    "nlp = spacy.load(\"en_core_web_lg\")"
   ]
  },
  {
   "cell_type": "code",
   "execution_count": 18,
   "metadata": {},
   "outputs": [
    {
     "data": {
      "text/plain": [
       "326"
      ]
     },
     "execution_count": 18,
     "metadata": {},
     "output_type": "execute_result"
    }
   ],
   "source": [
    "len(spacy.lang.en.stop_words.STOP_WORDS)"
   ]
  },
  {
   "cell_type": "code",
   "execution_count": 6,
   "metadata": {},
   "outputs": [
    {
     "data": {
      "text/plain": [
       "'!\"#$%&\\'()*+,-./:;<=>?@[\\\\]^_`{|}~'"
      ]
     },
     "execution_count": 6,
     "metadata": {},
     "output_type": "execute_result"
    }
   ],
   "source": [
    "string.punctuation"
   ]
  },
  {
   "cell_type": "code",
   "execution_count": 7,
   "metadata": {},
   "outputs": [],
   "source": [
    "def preproc(filename):\n",
    "    '''\n",
    "    Функция принимает название файла filename и возвращает:\n",
    "    - список слов после удаления пунктуации и стоп-слов, лемматизации;\n",
    "    - словарь уникальных слов (keys) и их частоту (values) с тексте.\n",
    "    '''    \n",
    "    with open(filename, encoding=\"utf8\") as f:\n",
    "        text = f.read()\n",
    "    \n",
    "    stop_words = spacy.lang.en.stop_words.STOP_WORDS\n",
    "    punctuations = string.punctuation\n",
    "\n",
    "    doc = nlp(text)\n",
    "\n",
    "    text_lemm = [word.lemma_.lower().strip() if \n",
    "                 word.lemma_ != \"-PRON-\" else \n",
    "                 word.lower_ for word in doc]\n",
    "    \n",
    "    text_clear = [word for word in text_lemm if \n",
    "                  word not in stop_words and \n",
    "                  word not in punctuations]\n",
    "    \n",
    "    count_words = Counter(text_clear)\n",
    "    \n",
    "    print('Количество слов в тексте: '\n",
    "          '{}.'.format(len(text_clear)))\n",
    "    print('Количество уникальных слов в тексте: '\n",
    "          '{}.\\n'.format(len(count_words)))\n",
    "    \n",
    "    return text_clear, count_words"
   ]
  },
  {
   "cell_type": "code",
   "execution_count": 19,
   "metadata": {},
   "outputs": [],
   "source": [
    "with open(\"book.txt\", encoding=\"utf8\") as f:\n",
    "        text = f.read()\n",
    "doc = nlp(text)"
   ]
  },
  {
   "cell_type": "code",
   "execution_count": 14,
   "metadata": {},
   "outputs": [],
   "source": [
    "text_lemm = [word.lemma_.lower().strip() if \n",
    "                 word.lemma_ != \"-PRON-\" else \n",
    "                 word.lower_ for word in doc]"
   ]
  },
  {
   "cell_type": "code",
   "execution_count": 15,
   "metadata": {},
   "outputs": [
    {
     "data": {
      "text/plain": [
       "0"
      ]
     },
     "execution_count": 15,
     "metadata": {},
     "output_type": "execute_result"
    }
   ],
   "source": [
    "len(text_lemm)"
   ]
  },
  {
   "cell_type": "code",
   "execution_count": 16,
   "metadata": {},
   "outputs": [
    {
     "name": "stdout",
     "output_type": "stream",
     "text": [
      "Количество слов в тексте: 0.\n",
      "Количество уникальных слов в тексте: 0.\n",
      "\n"
     ]
    }
   ],
   "source": [
    "my_text, count_words = preproc('book.txt')"
   ]
  },
  {
   "cell_type": "code",
   "execution_count": 17,
   "metadata": {},
   "outputs": [
    {
     "data": {
      "text/plain": [
       "[]"
      ]
     },
     "execution_count": 17,
     "metadata": {},
     "output_type": "execute_result"
    }
   ],
   "source": [
    "my_text"
   ]
  },
  {
   "cell_type": "code",
   "execution_count": 27,
   "metadata": {},
   "outputs": [],
   "source": [
    "def get_word_vectors(words):\n",
    "    '''\n",
    "    Функция конвертирует список слов в их векторное представление\n",
    "    '''\n",
    "    ar = []\n",
    "    for i in words:\n",
    "        ar.append(nlp(i).vector)\n",
    "    return ar\n",
    "\n",
    "word_vector_list = get_word_vectors(my_text)"
   ]
  },
  {
   "cell_type": "code",
   "execution_count": 30,
   "metadata": {},
   "outputs": [
    {
     "data": {
      "text/plain": [
       "(300,)"
      ]
     },
     "execution_count": 30,
     "metadata": {},
     "output_type": "execute_result"
    }
   ],
   "source": [
    "word_vector_list[0]"
   ]
  },
  {
   "cell_type": "code",
   "execution_count": 20,
   "metadata": {},
   "outputs": [],
   "source": [
    "with open ('book.txt',encoding= 'utf8') as f:\n",
    "    text = f.read()"
   ]
  },
  {
   "cell_type": "code",
   "execution_count": 21,
   "metadata": {},
   "outputs": [
    {
     "data": {
      "text/plain": [
       "''"
      ]
     },
     "execution_count": 21,
     "metadata": {},
     "output_type": "execute_result"
    }
   ],
   "source": [
    "text"
   ]
  },
  {
   "cell_type": "code",
   "execution_count": null,
   "metadata": {},
   "outputs": [],
   "source": []
  }
 ],
 "metadata": {
  "kernelspec": {
   "display_name": "Python 3.9.7 ('base')",
   "language": "python",
   "name": "python3"
  },
  "language_info": {
   "codemirror_mode": {
    "name": "ipython",
    "version": 3
   },
   "file_extension": ".py",
   "mimetype": "text/x-python",
   "name": "python",
   "nbconvert_exporter": "python",
   "pygments_lexer": "ipython3",
   "version": "3.11.7"
  },
  "vscode": {
   "interpreter": {
    "hash": "5114a98448da61d3c8717f10dbe3cc222d3772cc8c6832b6d605cb65183e3f6d"
   }
  }
 },
 "nbformat": 4,
 "nbformat_minor": 2
}
