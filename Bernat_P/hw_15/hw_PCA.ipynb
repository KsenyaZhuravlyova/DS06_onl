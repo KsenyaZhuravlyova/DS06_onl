{
 "cells": [
  {
   "cell_type": "markdown",
   "metadata": {},
   "source": [
    "### <center>Домашнее задание </center>"
   ]
  },
  {
   "cell_type": "markdown",
   "metadata": {},
   "source": [
    "#### Задание\n",
    "<div class=\"alert alert-block alert-info\">\n",
    "    \n",
    "1. Загрузка текстового файла из корневого каталога.\n",
    "2. Обработка текстовых данных.\n",
    "3. Понижение размерности текстовых данных.\n",
    "</div>"
   ]
  },
  {
   "cell_type": "code",
   "execution_count": 11,
   "metadata": {},
   "outputs": [],
   "source": [
    "import numpy as np\n",
    "import pandas as pd\n",
    "\n",
    "pd.set_option('display.notebook_repr_html', True)\n",
    "pd.set_option('display.max_columns', 8)\n",
    "pd.set_option('display.max_rows', 10)\n",
    "pd.set_option('display.width', 80)\n",
    "\n",
    "import re\n",
    "import string\n",
    "from collections import Counter\n",
    "import gc\n",
    "\n",
    "import spacy \n",
    "from spacy.lang.en import English\n",
    "from spacy.lang.en.stop_words import STOP_WORDS\n",
    "\n",
    "from sklearn.feature_extraction.text import TfidfVectorizer\n",
    "from sklearn.decomposition import PCA\n",
    "from sklearn.preprocessing import scale\n",
    "\n",
    "from IPython.core.interactiveshell import InteractiveShell \n",
    "InteractiveShell.ast_node_interactivity = \"all\"\n",
    "\n",
    "import matplotlib.pyplot as plt\n",
    "%matplotlib inline"
   ]
  },
  {
   "cell_type": "code",
   "execution_count": 4,
   "metadata": {},
   "outputs": [
    {
     "name": "stdout",
     "output_type": "stream",
     "text": [
      "^C\n"
     ]
    }
   ],
   "source": [
    "!python -m spacy download en_core_web_lg"
   ]
  },
  {
   "cell_type": "code",
   "execution_count": 2,
   "metadata": {},
   "outputs": [],
   "source": [
    "#!python -m spacy download en_core_web_lg"
   ]
  },
  {
   "cell_type": "markdown",
   "metadata": {},
   "source": [
    "#### Обработка текста"
   ]
  },
  {
   "cell_type": "code",
   "execution_count": 12,
   "metadata": {},
   "outputs": [],
   "source": [
    "# Для векторизации с помощью spaCy нужна большая модель, \n",
    "# устанавливается через Anaconda Prompt: \n",
    "# python -m spacy download en_core_web_lg\n",
    "\n",
    "nlp = spacy.load(\"en_core_web_lg\")"
   ]
  },
  {
   "cell_type": "code",
   "execution_count": 13,
   "metadata": {},
   "outputs": [],
   "source": [
    "def preproc(filename):\n",
    "    '''\n",
    "    Функция принимает название файла filename и возвращает:\n",
    "    - список слов после удаления пунктуации и стоп-слов, лемматизации;\n",
    "    - словарь уникальных слов (keys) и их частоту (values) с тексте.\n",
    "    '''    \n",
    "    with open(filename, encoding=\"utf8\") as f:\n",
    "        text = f.read()\n",
    "    \n",
    "    stop_words = spacy.lang.en.stop_words.STOP_WORDS\n",
    "    punctuations = string.punctuation\n",
    "\n",
    "    doc = nlp(text)\n",
    "\n",
    "    text_lemm = [word.lemma_.lower().strip() if \n",
    "                 word.lemma_ != \"-PRON-\" else \n",
    "                 word.lower_ for word in doc]\n",
    "    \n",
    "    text_clear = [word for word in text_lemm if \n",
    "                  word not in stop_words and \n",
    "                  word not in punctuations]\n",
    "    \n",
    "    count_words = Counter(text_clear)\n",
    "    \n",
    "    print('Количество слов в тексте: '\n",
    "          '{}.'.format(len(text_clear)))\n",
    "    print('Количество уникальных слов в тексте: '\n",
    "          '{}.\\n'.format(len(count_words)))\n",
    "    \n",
    "    return text_clear, count_words"
   ]
  },
  {
   "cell_type": "code",
   "execution_count": 14,
   "metadata": {},
   "outputs": [],
   "source": [
    "with open(\"book.txt\", encoding=\"utf8\") as f:\n",
    "        text = f.read()\n",
    "doc = nlp(text)"
   ]
  },
  {
   "cell_type": "code",
   "execution_count": 15,
   "metadata": {},
   "outputs": [],
   "source": [
    "text_lemm = [word.lemma_.lower().strip() if \n",
    "                 word.lemma_ != \"-PRON-\" else \n",
    "                 word.lower_ for word in doc]"
   ]
  },
  {
   "cell_type": "code",
   "execution_count": 123,
   "metadata": {},
   "outputs": [
    {
     "data": {
      "text/plain": [
       "424"
      ]
     },
     "execution_count": 123,
     "metadata": {},
     "output_type": "execute_result"
    }
   ],
   "source": [
    "len(text_lemm)"
   ]
  },
  {
   "cell_type": "code",
   "execution_count": 124,
   "metadata": {},
   "outputs": [
    {
     "name": "stdout",
     "output_type": "stream",
     "text": [
      "Количество слов в тексте: 176.\n",
      "Количество уникальных слов в тексте: 127.\n",
      "\n"
     ]
    }
   ],
   "source": [
    "my_text, count_words = preproc('book.txt')"
   ]
  },
  {
   "cell_type": "code",
   "execution_count": 127,
   "metadata": {},
   "outputs": [],
   "source": [
    "def get_word_vectors(words):\n",
    "    '''\n",
    "    Функция конвертирует список слов в их векторное представление\n",
    "    '''\n",
    "    ar = []\n",
    "    for i in words:\n",
    "        ar.append(nlp(i).vector)\n",
    "    return ar\n",
    "\n",
    "word_vector_list = get_word_vectors(my_text)"
   ]
  },
  {
   "cell_type": "code",
   "execution_count": 129,
   "metadata": {},
   "outputs": [],
   "source": [
    "df = pd.DataFrame(word_vector_list)"
   ]
  },
  {
   "cell_type": "code",
   "execution_count": 162,
   "metadata": {},
   "outputs": [
    {
     "data": {
      "text/html": [
       "<div>\n",
       "<style scoped>\n",
       "    .dataframe tbody tr th:only-of-type {\n",
       "        vertical-align: middle;\n",
       "    }\n",
       "\n",
       "    .dataframe tbody tr th {\n",
       "        vertical-align: top;\n",
       "    }\n",
       "\n",
       "    .dataframe thead th {\n",
       "        text-align: right;\n",
       "    }\n",
       "</style>\n",
       "<table border=\"1\" class=\"dataframe\">\n",
       "  <thead>\n",
       "    <tr style=\"text-align: right;\">\n",
       "      <th></th>\n",
       "      <th>0</th>\n",
       "      <th>1</th>\n",
       "      <th>2</th>\n",
       "      <th>3</th>\n",
       "      <th>...</th>\n",
       "      <th>296</th>\n",
       "      <th>297</th>\n",
       "      <th>298</th>\n",
       "      <th>299</th>\n",
       "    </tr>\n",
       "  </thead>\n",
       "  <tbody>\n",
       "    <tr>\n",
       "      <th>0</th>\n",
       "      <td>0.52928</td>\n",
       "      <td>4.9114</td>\n",
       "      <td>-5.23230</td>\n",
       "      <td>-1.828400</td>\n",
       "      <td>...</td>\n",
       "      <td>-1.091000</td>\n",
       "      <td>1.415000</td>\n",
       "      <td>-3.32830</td>\n",
       "      <td>-0.63650</td>\n",
       "    </tr>\n",
       "    <tr>\n",
       "      <th>1</th>\n",
       "      <td>-5.46380</td>\n",
       "      <td>1.3128</td>\n",
       "      <td>0.82809</td>\n",
       "      <td>-3.263100</td>\n",
       "      <td>...</td>\n",
       "      <td>-2.373800</td>\n",
       "      <td>-4.551000</td>\n",
       "      <td>-3.55800</td>\n",
       "      <td>4.10650</td>\n",
       "    </tr>\n",
       "    <tr>\n",
       "      <th>2</th>\n",
       "      <td>0.58298</td>\n",
       "      <td>3.2200</td>\n",
       "      <td>-4.16760</td>\n",
       "      <td>-2.005300</td>\n",
       "      <td>...</td>\n",
       "      <td>1.318200</td>\n",
       "      <td>-0.542140</td>\n",
       "      <td>-1.26300</td>\n",
       "      <td>1.63990</td>\n",
       "    </tr>\n",
       "    <tr>\n",
       "      <th>3</th>\n",
       "      <td>-1.35290</td>\n",
       "      <td>-1.5450</td>\n",
       "      <td>-0.45624</td>\n",
       "      <td>1.752800</td>\n",
       "      <td>...</td>\n",
       "      <td>0.027475</td>\n",
       "      <td>-1.869600</td>\n",
       "      <td>-0.90555</td>\n",
       "      <td>1.74430</td>\n",
       "    </tr>\n",
       "    <tr>\n",
       "      <th>4</th>\n",
       "      <td>0.50868</td>\n",
       "      <td>4.0256</td>\n",
       "      <td>-3.21580</td>\n",
       "      <td>2.383800</td>\n",
       "      <td>...</td>\n",
       "      <td>-0.938530</td>\n",
       "      <td>-0.078401</td>\n",
       "      <td>-3.88160</td>\n",
       "      <td>2.00710</td>\n",
       "    </tr>\n",
       "    <tr>\n",
       "      <th>...</th>\n",
       "      <td>...</td>\n",
       "      <td>...</td>\n",
       "      <td>...</td>\n",
       "      <td>...</td>\n",
       "      <td>...</td>\n",
       "      <td>...</td>\n",
       "      <td>...</td>\n",
       "      <td>...</td>\n",
       "      <td>...</td>\n",
       "    </tr>\n",
       "    <tr>\n",
       "      <th>171</th>\n",
       "      <td>0.29378</td>\n",
       "      <td>2.8193</td>\n",
       "      <td>-6.52430</td>\n",
       "      <td>-1.549500</td>\n",
       "      <td>...</td>\n",
       "      <td>-2.158400</td>\n",
       "      <td>2.137000</td>\n",
       "      <td>-5.88170</td>\n",
       "      <td>-4.36280</td>\n",
       "    </tr>\n",
       "    <tr>\n",
       "      <th>172</th>\n",
       "      <td>-0.51176</td>\n",
       "      <td>1.0594</td>\n",
       "      <td>-2.05140</td>\n",
       "      <td>-3.189700</td>\n",
       "      <td>...</td>\n",
       "      <td>0.548070</td>\n",
       "      <td>1.588300</td>\n",
       "      <td>-4.08860</td>\n",
       "      <td>-2.00680</td>\n",
       "    </tr>\n",
       "    <tr>\n",
       "      <th>173</th>\n",
       "      <td>2.24850</td>\n",
       "      <td>3.0178</td>\n",
       "      <td>-2.29470</td>\n",
       "      <td>0.009992</td>\n",
       "      <td>...</td>\n",
       "      <td>1.285800</td>\n",
       "      <td>2.512300</td>\n",
       "      <td>-2.79200</td>\n",
       "      <td>-3.26380</td>\n",
       "    </tr>\n",
       "    <tr>\n",
       "      <th>174</th>\n",
       "      <td>-0.51176</td>\n",
       "      <td>1.0594</td>\n",
       "      <td>-2.05140</td>\n",
       "      <td>-3.189700</td>\n",
       "      <td>...</td>\n",
       "      <td>0.548070</td>\n",
       "      <td>1.588300</td>\n",
       "      <td>-4.08860</td>\n",
       "      <td>-2.00680</td>\n",
       "    </tr>\n",
       "    <tr>\n",
       "      <th>175</th>\n",
       "      <td>4.30920</td>\n",
       "      <td>6.3754</td>\n",
       "      <td>-6.22110</td>\n",
       "      <td>-3.706100</td>\n",
       "      <td>...</td>\n",
       "      <td>-5.005900</td>\n",
       "      <td>2.757700</td>\n",
       "      <td>-5.51910</td>\n",
       "      <td>-0.42839</td>\n",
       "    </tr>\n",
       "  </tbody>\n",
       "</table>\n",
       "<p>176 rows × 300 columns</p>\n",
       "</div>"
      ],
      "text/plain": [
       "         0       1        2         3    ...       296       297      298  \\\n",
       "0    0.52928  4.9114 -5.23230 -1.828400  ... -1.091000  1.415000 -3.32830   \n",
       "1   -5.46380  1.3128  0.82809 -3.263100  ... -2.373800 -4.551000 -3.55800   \n",
       "2    0.58298  3.2200 -4.16760 -2.005300  ...  1.318200 -0.542140 -1.26300   \n",
       "3   -1.35290 -1.5450 -0.45624  1.752800  ...  0.027475 -1.869600 -0.90555   \n",
       "4    0.50868  4.0256 -3.21580  2.383800  ... -0.938530 -0.078401 -3.88160   \n",
       "..       ...     ...      ...       ...  ...       ...       ...      ...   \n",
       "171  0.29378  2.8193 -6.52430 -1.549500  ... -2.158400  2.137000 -5.88170   \n",
       "172 -0.51176  1.0594 -2.05140 -3.189700  ...  0.548070  1.588300 -4.08860   \n",
       "173  2.24850  3.0178 -2.29470  0.009992  ...  1.285800  2.512300 -2.79200   \n",
       "174 -0.51176  1.0594 -2.05140 -3.189700  ...  0.548070  1.588300 -4.08860   \n",
       "175  4.30920  6.3754 -6.22110 -3.706100  ... -5.005900  2.757700 -5.51910   \n",
       "\n",
       "         299  \n",
       "0   -0.63650  \n",
       "1    4.10650  \n",
       "2    1.63990  \n",
       "3    1.74430  \n",
       "4    2.00710  \n",
       "..       ...  \n",
       "171 -4.36280  \n",
       "172 -2.00680  \n",
       "173 -3.26380  \n",
       "174 -2.00680  \n",
       "175 -0.42839  \n",
       "\n",
       "[176 rows x 300 columns]"
      ]
     },
     "execution_count": 162,
     "metadata": {},
     "output_type": "execute_result"
    }
   ],
   "source": [
    "df"
   ]
  },
  {
   "cell_type": "code",
   "execution_count": 140,
   "metadata": {},
   "outputs": [
    {
     "data": {
      "text/plain": [
       "[<matplotlib.lines.Line2D at 0x22a09214ed0>]"
      ]
     },
     "execution_count": 140,
     "metadata": {},
     "output_type": "execute_result"
    },
    {
     "data": {
      "text/plain": [
       "Text(0.5, 0, 'number of components')"
      ]
     },
     "execution_count": 140,
     "metadata": {},
     "output_type": "execute_result"
    },
    {
     "data": {
      "text/plain": [
       "Text(0, 0.5, 'cumulative explained variance')"
      ]
     },
     "execution_count": 140,
     "metadata": {},
     "output_type": "execute_result"
    },
    {
     "data": {
      "image/png": "[encoded data removed]",
      "text/plain": [
       "<Figure size 640x480 with 1 Axes>"
      ]
     },
     "metadata": {},
     "output_type": "display_data"
    }
   ],
   "source": [
    "pca = PCA().fit(df)\n",
    "plt.plot(np.cumsum(pca.explained_variance_ratio_))\n",
    "plt.xlabel('number of components')\n",
    "plt.ylabel('cumulative explained variance')"
   ]
  },
  {
   "cell_type": "code",
   "execution_count": null,
   "metadata": {},
   "outputs": [],
   "source": []
  },
  {
   "cell_type": "markdown",
   "metadata": {},
   "source": [
    "Визуализация TSNE"
   ]
  },
  {
   "cell_type": "code",
   "execution_count": 149,
   "metadata": {},
   "outputs": [],
   "source": [
    "from sklearn.manifold import TSNE\n",
    "\n",
    "tsne = TSNE(n_components=2, random_state=42)\n",
    "\n",
    "X_tsne = tsne.fit_transform(df)\n"
   ]
  },
  {
   "cell_type": "code",
   "execution_count": 165,
   "metadata": {},
   "outputs": [
    {
     "data": {
      "text/plain": [
       "<matplotlib.collections.PathCollection at 0x22a09b6f290>"
      ]
     },
     "execution_count": 165,
     "metadata": {},
     "output_type": "execute_result"
    },
    {
     "data": {
      "text/plain": [
       "Text(0.5, 0, 'component 1')"
      ]
     },
     "execution_count": 165,
     "metadata": {},
     "output_type": "execute_result"
    },
    {
     "data": {
      "text/plain": [
       "Text(0, 0.5, 'component 2')"
      ]
     },
     "execution_count": 165,
     "metadata": {},
     "output_type": "execute_result"
    },
    {
     "data": {
      "text/plain": [
       "<matplotlib.colorbar.Colorbar at 0x22a09bb4ad0>"
      ]
     },
     "execution_count": 165,
     "metadata": {},
     "output_type": "execute_result"
    },
    {
     "data": {
      "image/png": "[encoded data removed]",
      "text/plain": [
       "<Figure size 640x480 with 2 Axes>"
      ]
     },
     "metadata": {},
     "output_type": "display_data"
    }
   ],
   "source": [
    "plt.scatter(x=X_tsne[:,0], y=X_tsne[:,1])\n",
    "plt.xlabel('component 1')\n",
    "plt.ylabel('component 2')\n",
    "plt.colorbar()"
   ]
  },
  {
   "cell_type": "markdown",
   "metadata": {},
   "source": [
    "Визуализация PCA"
   ]
  },
  {
   "cell_type": "code",
   "execution_count": 166,
   "metadata": {},
   "outputs": [],
   "source": [
    "pca = PCA(n_components=2)\n",
    "X_pca = pca.fit_transform(df)\n"
   ]
  },
  {
   "cell_type": "code",
   "execution_count": 170,
   "metadata": {},
   "outputs": [
    {
     "data": {
      "text/plain": [
       "<matplotlib.collections.PathCollection at 0x22a09d222d0>"
      ]
     },
     "execution_count": 170,
     "metadata": {},
     "output_type": "execute_result"
    },
    {
     "data": {
      "text/plain": [
       "Text(0.5, 0, 'component 1')"
      ]
     },
     "execution_count": 170,
     "metadata": {},
     "output_type": "execute_result"
    },
    {
     "data": {
      "text/plain": [
       "Text(0, 0.5, 'component 2')"
      ]
     },
     "execution_count": 170,
     "metadata": {},
     "output_type": "execute_result"
    },
    {
     "data": {
      "text/plain": [
       "<matplotlib.colorbar.Colorbar at 0x22a09de8610>"
      ]
     },
     "execution_count": 170,
     "metadata": {},
     "output_type": "execute_result"
    },
    {
     "data": {
      "image/png": "[encoded data removed]",
      "text/plain": [
       "<Figure size 640x480 with 2 Axes>"
      ]
     },
     "metadata": {},
     "output_type": "display_data"
    }
   ],
   "source": [
    "plt.scatter(x=X_pca[:,0], y=X_pca[:,1])\n",
    "plt.xlabel('component 1')\n",
    "plt.ylabel('component 2')\n",
    "plt.colorbar()\n"
   ]
  }
 ],
 "metadata": {
  "kernelspec": {
   "display_name": "Python 3.9.7 ('base')",
   "language": "python",
   "name": "python3"
  },
  "language_info": {
   "codemirror_mode": {
    "name": "ipython",
    "version": 3
   },
   "file_extension": ".py",
   "mimetype": "text/x-python",
   "name": "python",
   "nbconvert_exporter": "python",
   "pygments_lexer": "ipython3",
   "version": "3.11.7"
  },
  "vscode": {
   "interpreter": {
    "hash": "5114a98448da61d3c8717f10dbe3cc222d3772cc8c6832b6d605cb65183e3f6d"
   }
  }
 },
 "nbformat": 4,
 "nbformat_minor": 2
}
