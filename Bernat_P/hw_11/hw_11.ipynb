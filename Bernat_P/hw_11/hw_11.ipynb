{
 "cells": [
  {
   "cell_type": "code",
   "execution_count": 62,
   "metadata": {},
   "outputs": [],
   "source": [
    "import numpy as np\n",
    "from scipy import stats\n",
    "import matplotlib.pyplot as plt\n",
    "%matplotlib inline"
   ]
  },
  {
   "cell_type": "code",
   "execution_count": 64,
   "metadata": {},
   "outputs": [
    {
     "name": "stdout",
     "output_type": "stream",
     "text": [
      "65.3 30.823854398825596 950.11 1000.1157894736842\n"
     ]
    }
   ],
   "source": [
    "\n",
    "# Даны значения зарплат из выборки выпускников: 100, 80, 75, 77, 89, 33, 45, 25, 65, 17, 30, 24, 57, 55, 70, 75, 65, 84, 90, 150. \n",
    "# Посчитать (желательно без использования статистических методов наподобие std, var, mean) среднее арифметическое, среднее квадратичное отклонение, \n",
    "# смещенную и несмещенную оценки дисперсий для данной выборки.\n",
    "data = [100, 80, 75, 77, 89, 33, 45, 25, 65, 17, 30, 24, 57, 55, 70, 75, 65, 84, 90, 150]\n",
    "mean = sum(data)/len(data)\n",
    "sr =[(i - mean)**2 for i in data]\n",
    "stand_divas = np.sqrt(sum(sr)/len(sr))\n",
    "biased_variance = sum(sr)/ len(data)\n",
    "unbiased_variance = sum(sr)/ (len(data)-1)\n",
    "print(mean,stand_divas,biased_variance,unbiased_variance)"
   ]
  },
  {
   "cell_type": "code",
   "execution_count": 108,
   "metadata": {},
   "outputs": [
    {
     "name": "stdout",
     "output_type": "stream",
     "text": [
      "mean: 500.0 var:30000.0\n"
     ]
    }
   ],
   "source": [
    "# Случайная непрерывная величина A имеет равномерное распределение на промежутке (200, 800]. Найдите ее среднее значение и дисперсию.\n",
    "from scipy.stats import uniform\n",
    "x = 200\n",
    "y = 800\n",
    "a = uniform(loc=x, scale=(y-x))\n",
    "m = a.mean()\n",
    "\n",
    "print(f'mean: {m} var:{a.var()}')"
   ]
  },
  {
   "cell_type": "code",
   "execution_count": 8,
   "metadata": {},
   "outputs": [
    {
     "name": "stdout",
     "output_type": "stream",
     "text": [
      "2.049193338482967 1.2745966692414834\n"
     ]
    }
   ],
   "source": [
    "#  О случайной непрерывной равномерно распределенной величине B известно, что ее дисперсия равна 0.2. \n",
    "# Можно ли найти правую границу величины B и ее среднее значение зная, что левая граница равна 0.5? Если да, найдите ее.\n",
    "\n",
    "d = 0.2\n",
    "a = 0.5\n",
    "\n",
    "b = a + np.sqrt(12*d)\n",
    "mean = (a + b)/2\n",
    "\n",
    "print(b,mean)\n",
    "\n"
   ]
  },
  {
   "cell_type": "code",
   "execution_count": 60,
   "metadata": {},
   "outputs": [
    {
     "name": "stdout",
     "output_type": "stream",
     "text": [
      "M(X):-2.346552754417684  D(X):0.044787324129740624    std(X):0.21163015883786654\n"
     ]
    }
   ],
   "source": [
    "# Непрерывная случайная величина X распределена нормально и задана плотностью распределения\n",
    "#  f(x) = (1 / (4- sqrt(2pi)))-exp((-(x+2)**2) / 32) Найдите: а). M(X) б). D(X) в). std(X) (среднее квадратичное отклонение)\n",
    "\n",
    "\n",
    "\n",
    "\n",
    "def f(x):\n",
    "    return (1 / (4 - (2 ** 0.5) * (3.14159))) - (2.71828 ** ((-(x + 2) ** 2) / 32))\n",
    "\n",
    "arr = np.array([f(i) for i in np.arange(40)])\n",
    "m = arr.mean()\n",
    "d = arr.var()\n",
    "s = arr.std()\n",
    "print(f'M(X):{m}  D(X):{d}    std(X):{s}')"
   ]
  },
  {
   "cell_type": "code",
   "execution_count": 87,
   "metadata": {},
   "outputs": [
    {
     "name": "stdout",
     "output_type": "stream",
     "text": [
      "больше 182 см 0.15865525393145707\n",
      "больше 190 см 0.02275013194817921\n",
      "от 166 см до 190 см 0.8185946141203637\n",
      "от 166 см до 182 см 0.13590512198327787\n",
      "от 158 см до 190 см 0.9544997361036416\n",
      "не выше 150 см или не ниже 190 см  0.0241000299798093\n",
      "не выше 150 см или не ниже 198 см  0.0026997960632601965\n",
      "ниже 166 см. 0.15865525393145707\n"
     ]
    }
   ],
   "source": [
    "# Рост взрослого населения города X имеет нормальное распределение. Причем, средний рост равен 174 см, а среднее квадратичное отклонение равно 8 см.\n",
    "#  Какова вероятность того, что случайным образом выбранный взрослый человек имеет рост: а). больше 182 см б). больше 190 см в). от 166 см до 190 см\n",
    "# г). от 166 см до 182 см д). от 158 см до 190 см е). не выше 150 см или не ниже 190 см ё). не выше 150 см или не ниже 198 см ж). ниже 166 см.\n",
    "from scipy.stats import norm\n",
    "mean = 174\n",
    "std = 8\n",
    "x1 = 182\n",
    "prod_x1 = 1 - norm.cdf(x1, loc = mean, scale = std) \n",
    "print(f'больше 182 см {prod_x1}')\n",
    "x2 = 190\n",
    "prod_x2 = 1 - norm.cdf(x2, loc = mean, scale = std) \n",
    "print(f'больше 190 см {prod_x2}')\n",
    "x3 = 166\n",
    "prod_x3 =norm.cdf(x2, loc = mean, scale = std) - norm.cdf(x3, loc = mean, scale = std) \n",
    "print(f'от 166 см до 190 см {prod_x3}')\n",
    "prod_x4 =norm.cdf(x2, loc = mean, scale = std) - norm.cdf(x1, loc = mean, scale = std) \n",
    "print(f'от 166 см до 182 см {prod_x4}')\n",
    "x5 = 158\n",
    "prod_x5 = - norm.cdf(x5, loc = mean, scale = std) + norm.cdf(x2, loc = mean, scale = std) \n",
    "print(f'от 158 см до 190 см {prod_x5}')\n",
    "prod_x6 =  norm.cdf(150, loc = mean, scale = std) +(1 - norm.cdf(x2, loc = mean, scale = std) )\n",
    "print(f'не выше 150 см или не ниже 190 см  {prod_x6}')\n",
    "prod_x7 =  norm.cdf(150, loc = mean, scale = std) +(1 - norm.cdf(198, loc = mean, scale = std) )\n",
    "print(f'не выше 150 см или не ниже 198 см  {prod_x7}')\n",
    "prod_x8 =  norm.cdf(166, loc = mean, scale = std) \n",
    "print(f'ниже 166 см. {prod_x8}')"
   ]
  },
  {
   "cell_type": "code",
   "execution_count": 95,
   "metadata": {},
   "outputs": [
    {
     "data": {
      "text/plain": [
       "0.06281178035144777"
      ]
     },
     "execution_count": 95,
     "metadata": {},
     "output_type": "execute_result"
    }
   ],
   "source": [
    "# Монету подбросили 144 раза. Какова вероятность, что орел выпадет ровно 70 раз?\n",
    "\n",
    "n =144\n",
    "#шанс выпадания орла\n",
    "p = 0.5\n",
    "\n",
    "x = 70\n",
    "stats.binom.pmf(x,n,p)"
   ]
  },
  {
   "cell_type": "code",
   "execution_count": 99,
   "metadata": {},
   "outputs": [
    {
     "name": "stdout",
     "output_type": "stream",
     "text": [
      "вероятность, что ни одна из них не перегорит в первый день 0.1352811455143772\n",
      "Какова вероятность, что перегорят ровно две 0.2707247150266155\n"
     ]
    }
   ],
   "source": [
    "# Вероятность того, что лампочка перегорит в течение первого дня эксплуатации, равна 0.0004. \n",
    "# В жилом комплексе после ремонта в один день включили 5000 новых лампочек. \n",
    "# Какова вероятность, что ни одна из них не перегорит в первый день? \n",
    "# Какова вероятность, что перегорят ровно две?\n",
    "n = 5000\n",
    "p = 0.0004\n",
    "x1 = 0\n",
    "x2 = 2\n",
    "\n",
    "print(f'вероятность, что ни одна из них не перегорит в первый день {stats.binom.pmf(x1,n,p)}')\n",
    "print(f'Какова вероятность, что перегорят ровно две {stats.binom.pmf(x2,n,p)}')"
   ]
  },
  {
   "cell_type": "code",
   "execution_count": 102,
   "metadata": {},
   "outputs": [
    {
     "name": "stdout",
     "output_type": "stream",
     "text": [
      "вероятность того, что стрелок попадет в цель ровно 85 раз 0.0480617937007464\n"
     ]
    }
   ],
   "source": [
    "# Вероятность того, что стрелок попадет в мишень, выстрелив один раз, равна 0.8.\n",
    "#  Стрелок выстрелил 100 раз. Найдите вероятность того, что стрелок попадет в цель ровно 85 раз.\n",
    "p = 0.8\n",
    "n = 100\n",
    "x = 85\n",
    "print(f'вероятность того, что стрелок попадет в цель ровно 85 раз {stats.binom.pmf(x,n,p)}')"
   ]
  },
  {
   "cell_type": "code",
   "execution_count": 1,
   "metadata": {},
   "outputs": [
    {
     "data": {
      "text/plain": [
       "0.999"
      ]
     },
     "execution_count": 1,
     "metadata": {},
     "output_type": "execute_result"
    }
   ],
   "source": [
    "999000/1000000"
   ]
  },
  {
   "cell_type": "code",
   "execution_count": null,
   "metadata": {},
   "outputs": [],
   "source": []
  }
 ],
 "metadata": {
  "kernelspec": {
   "display_name": "base",
   "language": "python",
   "name": "python3"
  },
  "language_info": {
   "codemirror_mode": {
    "name": "ipython",
    "version": 3
   },
   "file_extension": ".py",
   "mimetype": "text/x-python",
   "name": "python",
   "nbconvert_exporter": "python",
   "pygments_lexer": "ipython3",
   "version": "3.11.5"
  }
 },
 "nbformat": 4,
 "nbformat_minor": 2
}
