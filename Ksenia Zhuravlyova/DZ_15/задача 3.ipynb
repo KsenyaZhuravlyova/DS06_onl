{
 "cells": [
  {
   "cell_type": "code",
   "execution_count": null,
   "id": "initial_id",
   "metadata": {
    "collapsed": true
   },
   "outputs": [],
   "source": []
  },
  {
   "cell_type": "code",
   "execution_count": null,
   "outputs": [],
   "source": [
    "# функция тренировки модели\n",
    "def train(\n",
    "    alpha0: np.array, x_train: np.array, y_train: np.array, lr: float, num_epoch: int\n",
    "):\n",
    "    \"\"\"\n",
    "    alpha0 - начальное приближение параметров модели\n",
    "    x_train - матрица объект-признак обучающей выборки\n",
    "    y_train - верные ответы для обучающей выборки\n",
    "    lr - learning rate, множитель перед градиентом в формуле обновления параметров\n",
    "    num_epoch - количество эпох обучения, то есть полных 'проходов' через весь датасет\n",
    "    \"\"\"\n",
    "    alpha = alpha0.copy()\n",
    "    for epo in range(num_epoch):\n",
    "        for i, x in enumerate(x_train):\n",
    "            # TODO: write your code here\n",
    "            pass\n",
    "    return alpha\n",
    "     "
   ],
   "metadata": {
    "collapsed": false
   },
   "id": "82c60c091fa91ca8"
  }
 ],
 "metadata": {
  "kernelspec": {
   "display_name": "Python 3",
   "language": "python",
   "name": "python3"
  },
  "language_info": {
   "codemirror_mode": {
    "name": "ipython",
    "version": 2
   },
   "file_extension": ".py",
   "mimetype": "text/x-python",
   "name": "python",
   "nbconvert_exporter": "python",
   "pygments_lexer": "ipython2",
   "version": "2.7.6"
  }
 },
 "nbformat": 4,
 "nbformat_minor": 5
}
