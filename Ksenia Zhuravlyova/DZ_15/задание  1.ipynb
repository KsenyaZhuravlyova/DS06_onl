{
 "cells": [
  {
   "cell_type": "code",
   "execution_count": 22,
   "id": "initial_id",
   "metadata": {
    "collapsed": true,
    "ExecuteTime": {
     "end_time": "2023-12-13T13:52:12.388325Z",
     "start_time": "2023-12-13T13:52:12.357070800Z"
    }
   },
   "outputs": [],
   "source": []
  },
  {
   "cell_type": "code",
   "execution_count": 23,
   "outputs": [
    {
     "name": "stdout",
     "output_type": "stream",
     "text": [
      "Градиент по MSE: 3.1479999999999997\n",
      "Градиент по MAE: 1.72\n",
      "Градиент по Log-Cosh Loss: 1.0724250983608004\n",
      "Градиент по Accuracy: 0.0\n"
     ]
    }
   ],
   "source": [
    "import numpy as np\n",
    "import pandas as pd\n",
    "\n",
    "import matplotlib.pyplot as plt\n",
    "\n",
    "from sklearn.metrics import mean_squared_error, mean_absolute_error, accuracy_score, f1_score\n",
    "np.random.seed(42)\n",
    "\n",
    "# Функция подсчета градиента\n",
    "y_true = np.array([0.5, 1.5, 3.5, 4.0, 0.0])\n",
    "y_pred = np.array([2.5, 3.2, 5.1, 6.3, 1.0])\n",
    "x = np.array([1.0, 2.0, 3.0, 4.0, 5.0])\n",
    "\n",
    "def gradient(y_true: np.array, y_pred: np.array, x: np.array) -> np.array:\n",
    "    grad = np.mean((y_true - y_pred) ** 2)\n",
    "    #grad = mean_squared_error(y_true, y_pred)\n",
    "    return grad\n",
    "def maefunct (y_true: np.array, y_pred: np.array, x: np.array) -> np.array:\n",
    "     maef = np.mean(np.abs(y_true - y_pred))\n",
    "     #maef = mean_absolute_error(y_true, y_pred)\n",
    "     return maef\n",
    "def loscosh (y_true: np.array, y_pred: np.array, x: np.array) -> np.array:\n",
    "    log_cosh_loss = np.mean(np.log(np.cosh(y_pred - y_true)))\n",
    "    return log_cosh_loss\n",
    "def accuracy_func (y_true: np.array, y_pred: np.array, x: np.array) -> np.array:\n",
    "    accuracy = np.mean((y_true == (y_pred >= 0.5)).astype(int))\n",
    "    #accuracy = accuracy_score(y_true_binary, y_pred_probs >= 0.5)\n",
    "    return accuracy\n",
    "\n",
    "\n",
    "\n",
    "\n",
    "# Пример использования\n",
    "grad = gradient(y_true, y_pred, x)\n",
    "maef = maefunct(y_true, y_pred, x)\n",
    "log_cosh_loss = loscosh(y_true, y_pred, x)\n",
    "accuracy = accuracy_func(y_true, y_pred, x)\n",
    "\n",
    "print(\"Градиент по MSE:\", grad)\n",
    "print(\"Градиент по MAE:\", maef)\n",
    "print(\"Градиент по Log-Cosh Loss:\", log_cosh_loss)\n",
    "print(\"Градиент по Accuracy:\", accuracy)\n"
   ],
   "metadata": {
    "collapsed": false,
    "ExecuteTime": {
     "end_time": "2023-12-13T13:52:12.410469500Z",
     "start_time": "2023-12-13T13:52:12.372701900Z"
    }
   },
   "id": "db1c2d138a83376f"
  }
 ],
 "metadata": {
  "kernelspec": {
   "display_name": "Python 3",
   "language": "python",
   "name": "python3"
  },
  "language_info": {
   "codemirror_mode": {
    "name": "ipython",
    "version": 2
   },
   "file_extension": ".py",
   "mimetype": "text/x-python",
   "name": "python",
   "nbconvert_exporter": "python",
   "pygments_lexer": "ipython2",
   "version": "2.7.6"
  }
 },
 "nbformat": 4,
 "nbformat_minor": 5
}
