{
 "cells": [
  {
   "cell_type": "code",
   "execution_count": 1,
   "outputs": [
    {
     "name": "stdout",
     "output_type": "stream",
     "text": [
      "Текущие веса: [0.37454012 0.95071431 0.73199394 0.59865848 0.15601864]\n",
      "Градиент: [0.15599452 0.05808361 0.86617615 0.60111501 0.70807258]\n",
      "Learning rate: 0.01\n",
      "Обновленные веса: [0.37298017 0.95013347 0.72333218 0.59264733 0.14893791]\n"
     ]
    }
   ],
   "source": [
    "import numpy as np\n",
    "\n",
    "np.random.seed(42)\n",
    "alpha_current = np.random.rand(5)  \n",
    "gradient = np.random.rand(5)  \n",
    "lr = 0.01  # Ваш learning rate\n",
    "# Функция обновления весов\n",
    "def update(alpha: np.array, gradient: np.array, lr: float):\n",
    "    \"\"\"\n",
    "    alpha: текущее приближения вектора параметров модели\n",
    "    gradient: посчитанный градиент по параметрам модели\n",
    "    lr: learning rate, множитель перед градиентом в формуле обновления параметров\n",
    "    \"\"\"\n",
    "    alpha_new = alpha - lr * gradient\n",
    "    return alpha_new\n",
    "\n",
    "alpha_updated = update(alpha_current, gradient, lr)\n",
    "print(\"Текущие веса:\", alpha_current)\n",
    "print(\"Градиент:\", gradient)\n",
    "print(\"Learning rate:\", lr)\n",
    "print(\"Обновленные веса:\", alpha_updated)\n",
    "\n"
   ],
   "metadata": {
    "collapsed": false,
    "ExecuteTime": {
     "end_time": "2023-12-13T13:59:16.285173700Z",
     "start_time": "2023-12-13T13:59:15.720912100Z"
    }
   },
   "id": "20ec0ae20d57729f"
  }
 ],
 "metadata": {
  "kernelspec": {
   "display_name": "Python 3",
   "language": "python",
   "name": "python3"
  },
  "language_info": {
   "codemirror_mode": {
    "name": "ipython",
    "version": 2
   },
   "file_extension": ".py",
   "mimetype": "text/x-python",
   "name": "python",
   "nbconvert_exporter": "python",
   "pygments_lexer": "ipython2",
   "version": "2.7.6"
  }
 },
 "nbformat": 4,
 "nbformat_minor": 5
}
